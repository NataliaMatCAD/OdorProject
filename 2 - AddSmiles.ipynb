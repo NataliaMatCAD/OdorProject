{
 "cells": [
  {
   "cell_type": "markdown",
   "id": "980e0a22",
   "metadata": {},
   "source": [
    "### Imports"
   ]
  },
  {
   "cell_type": "code",
   "execution_count": 1,
   "id": "3cbe928f",
   "metadata": {},
   "outputs": [],
   "source": [
    "import pubchempy as pcp\n",
    "from pubchempy import Compound, get_compounds\n",
    "import pandas as pd\n",
    "import numpy as np"
   ]
  },
  {
   "cell_type": "markdown",
   "id": "36adbaeb",
   "metadata": {},
   "source": [
    "### Cargamos el dataset"
   ]
  },
  {
   "cell_type": "code",
   "execution_count": 8,
   "id": "91d4bcb2",
   "metadata": {},
   "outputs": [],
   "source": [
    "odor = pd.read_json('odor_relations.json', lines=False, orient='records')"
   ]
  },
  {
   "cell_type": "code",
   "execution_count": 9,
   "id": "eda353a7",
   "metadata": {},
   "outputs": [
    {
     "data": {
      "text/html": [
       "<div>\n",
       "<style scoped>\n",
       "    .dataframe tbody tr th:only-of-type {\n",
       "        vertical-align: middle;\n",
       "    }\n",
       "\n",
       "    .dataframe tbody tr th {\n",
       "        vertical-align: top;\n",
       "    }\n",
       "\n",
       "    .dataframe thead th {\n",
       "        text-align: right;\n",
       "    }\n",
       "</style>\n",
       "<table border=\"1\" class=\"dataframe\">\n",
       "  <thead>\n",
       "    <tr style=\"text-align: right;\">\n",
       "      <th></th>\n",
       "      <th>name</th>\n",
       "      <th>level</th>\n",
       "      <th>cid</th>\n",
       "    </tr>\n",
       "  </thead>\n",
       "  <tbody>\n",
       "    <tr>\n",
       "      <th>0</th>\n",
       "      <td>ambergris</td>\n",
       "      <td>first</td>\n",
       "      <td>163259</td>\n",
       "    </tr>\n",
       "    <tr>\n",
       "      <th>1</th>\n",
       "      <td>ambergris</td>\n",
       "      <td>first</td>\n",
       "      <td>643723</td>\n",
       "    </tr>\n",
       "    <tr>\n",
       "      <th>2</th>\n",
       "      <td>ambergris</td>\n",
       "      <td>first</td>\n",
       "      <td>162452</td>\n",
       "    </tr>\n",
       "    <tr>\n",
       "      <th>3</th>\n",
       "      <td>alcoholic</td>\n",
       "      <td>first</td>\n",
       "      <td>887</td>\n",
       "    </tr>\n",
       "    <tr>\n",
       "      <th>4</th>\n",
       "      <td>alcoholic</td>\n",
       "      <td>first</td>\n",
       "      <td>7358</td>\n",
       "    </tr>\n",
       "  </tbody>\n",
       "</table>\n",
       "</div>"
      ],
      "text/plain": [
       "        name  level     cid\n",
       "0  ambergris  first  163259\n",
       "1  ambergris  first  643723\n",
       "2  ambergris  first  162452\n",
       "3  alcoholic  first     887\n",
       "4  alcoholic  first    7358"
      ]
     },
     "execution_count": 9,
     "metadata": {},
     "output_type": "execute_result"
    }
   ],
   "source": [
    "odor.head()"
   ]
  },
  {
   "cell_type": "code",
   "execution_count": 10,
   "id": "a4a4e475",
   "metadata": {
    "scrolled": true
   },
   "outputs": [
    {
     "data": {
      "text/html": [
       "<div>\n",
       "<style scoped>\n",
       "    .dataframe tbody tr th:only-of-type {\n",
       "        vertical-align: middle;\n",
       "    }\n",
       "\n",
       "    .dataframe tbody tr th {\n",
       "        vertical-align: top;\n",
       "    }\n",
       "\n",
       "    .dataframe thead th {\n",
       "        text-align: right;\n",
       "    }\n",
       "</style>\n",
       "<table border=\"1\" class=\"dataframe\">\n",
       "  <thead>\n",
       "    <tr style=\"text-align: right;\">\n",
       "      <th></th>\n",
       "      <th>name</th>\n",
       "      <th>level</th>\n",
       "      <th>cid</th>\n",
       "    </tr>\n",
       "  </thead>\n",
       "  <tbody>\n",
       "    <tr>\n",
       "      <th>18124</th>\n",
       "      <td>apple green apple</td>\n",
       "      <td>first</td>\n",
       "      <td>5367681</td>\n",
       "    </tr>\n",
       "    <tr>\n",
       "      <th>18125</th>\n",
       "      <td>apple green apple</td>\n",
       "      <td>first</td>\n",
       "      <td>5365069</td>\n",
       "    </tr>\n",
       "    <tr>\n",
       "      <th>18126</th>\n",
       "      <td>apple green apple</td>\n",
       "      <td>third</td>\n",
       "      <td>8868</td>\n",
       "    </tr>\n",
       "    <tr>\n",
       "      <th>18127</th>\n",
       "      <td>apple green apple</td>\n",
       "      <td>second</td>\n",
       "      <td>5362816</td>\n",
       "    </tr>\n",
       "    <tr>\n",
       "      <th>18128</th>\n",
       "      <td>anise</td>\n",
       "      <td>first</td>\n",
       "      <td>637563</td>\n",
       "    </tr>\n",
       "  </tbody>\n",
       "</table>\n",
       "</div>"
      ],
      "text/plain": [
       "                    name   level      cid\n",
       "18124  apple green apple   first  5367681\n",
       "18125  apple green apple   first  5365069\n",
       "18126  apple green apple   third     8868\n",
       "18127  apple green apple  second  5362816\n",
       "18128              anise   first   637563"
      ]
     },
     "execution_count": 10,
     "metadata": {},
     "output_type": "execute_result"
    }
   ],
   "source": [
    "odor.tail()"
   ]
  },
  {
   "cell_type": "markdown",
   "id": "40e70afa",
   "metadata": {},
   "source": [
    "### Borramos unos cids que dan error"
   ]
  },
  {
   "cell_type": "code",
   "execution_count": 24,
   "id": "ad026578",
   "metadata": {},
   "outputs": [],
   "source": [
    "#Estos dan error, así que los borramos\n",
    "odor=odor.drop(odor[(odor[\"cid\"]=='163640541')].index)\n",
    "odor=odor.drop(odor[(odor[\"cid\"]=='Search')].index)"
   ]
  },
  {
   "cell_type": "markdown",
   "id": "8776fbdf",
   "metadata": {},
   "source": [
    "### Hacemos una lista de todos los smiles"
   ]
  },
  {
   "cell_type": "code",
   "execution_count": 26,
   "id": "d1385473",
   "metadata": {},
   "outputs": [],
   "source": [
    "smiles_all=[]\n",
    "for i in odor[\"cid\"]:\n",
    "    c=Compound.from_cid(i)\n",
    "    smiles_all.append(c.isomeric_smiles)"
   ]
  },
  {
   "cell_type": "markdown",
   "id": "569b240d",
   "metadata": {},
   "source": [
    "### Creamos el dataset y lo expotamos"
   ]
  },
  {
   "cell_type": "code",
   "execution_count": 30,
   "id": "39ff33e9",
   "metadata": {},
   "outputs": [],
   "source": [
    "odor.insert(3,\"smiles\",smiles_all,True)"
   ]
  },
  {
   "cell_type": "code",
   "execution_count": 31,
   "id": "30c77afd",
   "metadata": {},
   "outputs": [
    {
     "data": {
      "text/html": [
       "<div>\n",
       "<style scoped>\n",
       "    .dataframe tbody tr th:only-of-type {\n",
       "        vertical-align: middle;\n",
       "    }\n",
       "\n",
       "    .dataframe tbody tr th {\n",
       "        vertical-align: top;\n",
       "    }\n",
       "\n",
       "    .dataframe thead th {\n",
       "        text-align: right;\n",
       "    }\n",
       "</style>\n",
       "<table border=\"1\" class=\"dataframe\">\n",
       "  <thead>\n",
       "    <tr style=\"text-align: right;\">\n",
       "      <th></th>\n",
       "      <th>name</th>\n",
       "      <th>level</th>\n",
       "      <th>cid</th>\n",
       "      <th>smiles</th>\n",
       "    </tr>\n",
       "  </thead>\n",
       "  <tbody>\n",
       "    <tr>\n",
       "      <th>0</th>\n",
       "      <td>ambergris</td>\n",
       "      <td>first</td>\n",
       "      <td>163259</td>\n",
       "      <td>CCC(=O)CCC1C(=CCCC1(C)C)C.C#CCO</td>\n",
       "    </tr>\n",
       "    <tr>\n",
       "      <th>1</th>\n",
       "      <td>ambergris</td>\n",
       "      <td>first</td>\n",
       "      <td>643723</td>\n",
       "      <td>C/C(=C/C[C@@H]1[C@]2(CCCC([C@@H]2CC[C@@]1(C)O)...</td>\n",
       "    </tr>\n",
       "    <tr>\n",
       "      <th>2</th>\n",
       "      <td>ambergris</td>\n",
       "      <td>first</td>\n",
       "      <td>162452</td>\n",
       "      <td>CC1(CCC=C2C1CCC(C2)(C)O)C</td>\n",
       "    </tr>\n",
       "    <tr>\n",
       "      <th>3</th>\n",
       "      <td>alcoholic</td>\n",
       "      <td>first</td>\n",
       "      <td>887</td>\n",
       "      <td>CO</td>\n",
       "    </tr>\n",
       "    <tr>\n",
       "      <th>4</th>\n",
       "      <td>alcoholic</td>\n",
       "      <td>first</td>\n",
       "      <td>7358</td>\n",
       "      <td>CCC(CC)CO</td>\n",
       "    </tr>\n",
       "  </tbody>\n",
       "</table>\n",
       "</div>"
      ],
      "text/plain": [
       "        name  level     cid                                             smiles\n",
       "0  ambergris  first  163259                    CCC(=O)CCC1C(=CCCC1(C)C)C.C#CCO\n",
       "1  ambergris  first  643723  C/C(=C/C[C@@H]1[C@]2(CCCC([C@@H]2CC[C@@]1(C)O)...\n",
       "2  ambergris  first  162452                          CC1(CCC=C2C1CCC(C2)(C)O)C\n",
       "3  alcoholic  first     887                                                 CO\n",
       "4  alcoholic  first    7358                                          CCC(CC)CO"
      ]
     },
     "execution_count": 31,
     "metadata": {},
     "output_type": "execute_result"
    }
   ],
   "source": [
    "odor.head()"
   ]
  },
  {
   "cell_type": "code",
   "execution_count": 32,
   "id": "52547487",
   "metadata": {},
   "outputs": [
    {
     "data": {
      "text/html": [
       "<div>\n",
       "<style scoped>\n",
       "    .dataframe tbody tr th:only-of-type {\n",
       "        vertical-align: middle;\n",
       "    }\n",
       "\n",
       "    .dataframe tbody tr th {\n",
       "        vertical-align: top;\n",
       "    }\n",
       "\n",
       "    .dataframe thead th {\n",
       "        text-align: right;\n",
       "    }\n",
       "</style>\n",
       "<table border=\"1\" class=\"dataframe\">\n",
       "  <thead>\n",
       "    <tr style=\"text-align: right;\">\n",
       "      <th></th>\n",
       "      <th>name</th>\n",
       "      <th>level</th>\n",
       "      <th>cid</th>\n",
       "      <th>smiles</th>\n",
       "    </tr>\n",
       "  </thead>\n",
       "  <tbody>\n",
       "    <tr>\n",
       "      <th>18124</th>\n",
       "      <td>apple green apple</td>\n",
       "      <td>first</td>\n",
       "      <td>5367681</td>\n",
       "      <td>CC/C=C\\CCOC(=O)CC(C)C</td>\n",
       "    </tr>\n",
       "    <tr>\n",
       "      <th>18125</th>\n",
       "      <td>apple green apple</td>\n",
       "      <td>first</td>\n",
       "      <td>5365069</td>\n",
       "      <td>CC/C=C\\CCOC(=O)C(C)CC</td>\n",
       "    </tr>\n",
       "    <tr>\n",
       "      <th>18126</th>\n",
       "      <td>apple green apple</td>\n",
       "      <td>third</td>\n",
       "      <td>8868</td>\n",
       "      <td>CCOC(=O)CC(=O)C</td>\n",
       "    </tr>\n",
       "    <tr>\n",
       "      <th>18127</th>\n",
       "      <td>apple green apple</td>\n",
       "      <td>second</td>\n",
       "      <td>5362816</td>\n",
       "      <td>CC/C=C/CCC(=O)OCC</td>\n",
       "    </tr>\n",
       "    <tr>\n",
       "      <th>18128</th>\n",
       "      <td>anise</td>\n",
       "      <td>first</td>\n",
       "      <td>637563</td>\n",
       "      <td>C/C=C/C1=CC=C(C=C1)OC</td>\n",
       "    </tr>\n",
       "  </tbody>\n",
       "</table>\n",
       "</div>"
      ],
      "text/plain": [
       "                    name   level      cid                 smiles\n",
       "18124  apple green apple   first  5367681  CC/C=C\\CCOC(=O)CC(C)C\n",
       "18125  apple green apple   first  5365069  CC/C=C\\CCOC(=O)C(C)CC\n",
       "18126  apple green apple   third     8868        CCOC(=O)CC(=O)C\n",
       "18127  apple green apple  second  5362816      CC/C=C/CCC(=O)OCC\n",
       "18128              anise   first   637563  C/C=C/C1=CC=C(C=C1)OC"
      ]
     },
     "execution_count": 32,
     "metadata": {},
     "output_type": "execute_result"
    }
   ],
   "source": [
    "odor.tail()"
   ]
  },
  {
   "cell_type": "code",
   "execution_count": 37,
   "id": "a703d855",
   "metadata": {},
   "outputs": [
    {
     "data": {
      "text/plain": [
       "True"
      ]
     },
     "execution_count": 37,
     "metadata": {},
     "output_type": "execute_result"
    }
   ],
   "source": [
    "#comprobar que los cids y el smile etan en el orden correcto\n",
    "Compound.from_cid(5367681).isomeric_smiles=='CC/C=C\\CCOC(=O)CC(C)C'\n",
    "Compound.from_cid(7358).isomeric_smiles=='CCC(CC)CO'"
   ]
  },
  {
   "cell_type": "code",
   "execution_count": 38,
   "id": "23c7df5b",
   "metadata": {},
   "outputs": [],
   "source": [
    "odor.to_json (r'C:\\Users\\nlupe\\Desktop\\QUART CURS\\TFG\\odor_smiles.json', lines=False, orient='records')"
   ]
  }
 ],
 "metadata": {
  "kernelspec": {
   "display_name": "Python 3 (ipykernel)",
   "language": "python",
   "name": "python3"
  },
  "language_info": {
   "codemirror_mode": {
    "name": "ipython",
    "version": 3
   },
   "file_extension": ".py",
   "mimetype": "text/x-python",
   "name": "python",
   "nbconvert_exporter": "python",
   "pygments_lexer": "ipython3",
   "version": "3.9.5"
  }
 },
 "nbformat": 4,
 "nbformat_minor": 5
}
