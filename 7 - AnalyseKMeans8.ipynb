{
 "cells": [
  {
   "cell_type": "code",
   "execution_count": null,
   "id": "eed599cb",
   "metadata": {},
   "outputs": [],
   "source": [
    "import pandas as pd\n",
    "import seaborn as sns\n",
    "import matplotlib.pyplot as plt\n",
    "import numoy as np"
   ]
  },
  {
   "cell_type": "code",
   "execution_count": null,
   "id": "ebea00f9",
   "metadata": {},
   "outputs": [],
   "source": [
    "odor = pd.read_json('Data/odor_prop.json', lines=False, orient='records')"
   ]
  },
  {
   "cell_type": "code",
   "execution_count": null,
   "id": "80911860",
   "metadata": {},
   "outputs": [],
   "source": [
    "#Subclass\n",
    "for i in range(8):\n",
    "    print('*********** Grupo', i, '***********')\n",
    "    sc=odor[odor['label']==i]['Subclass'].value_counts()\n",
    "    print(sc)\n",
    "    scy=sc[0:10]\n",
    "    scx=sc[0:10]\n",
    "    sns.barplot(x=scy, y=scx.index)\n",
    "    a = 'Grup ' + str(i)\n",
    "    plt.title(a)\n",
    "    plt.show()"
   ]
  },
  {
   "cell_type": "code",
   "execution_count": null,
   "id": "35365ce8",
   "metadata": {},
   "outputs": [],
   "source": [
    "#Class\n",
    "for i in range(8):\n",
    "    print('*********** Grupo', i, '***********')\n",
    "    sc=odor[odor['label']==i]['Class'].value_counts()\n",
    "    print(sc)\n",
    "    scy=sc[0:10]\n",
    "    scx=sc[0:10]\n",
    "    sns.barplot(x=scy, y=scx.index)\n",
    "    a = 'Grup ' + str(i)\n",
    "    plt.title(a)\n",
    "    plt.show()"
   ]
  },
  {
   "cell_type": "code",
   "execution_count": null,
   "id": "ad6d74ea",
   "metadata": {},
   "outputs": [],
   "source": [
    "#Superclass\n",
    "for i in range(8):\n",
    "    print('*********** Grupo', i, '***********')\n",
    "    sc=odor[odor['label']==i]['Superclass'].value_counts()\n",
    "    print(sc)\n",
    "    scy=sc[0:10]\n",
    "    scx=sc[0:10]\n",
    "    sns.barplot(x=scy, y=scx.index)\n",
    "    a = 'Grup ' + str(i)\n",
    "    plt.title(a)\n",
    "    plt.show()"
   ]
  },
  {
   "cell_type": "code",
   "execution_count": null,
   "id": "6c6c706f",
   "metadata": {},
   "outputs": [],
   "source": [
    "#Direct parent\n",
    "for i in range(8):\n",
    "    print('*********** Grupo', i, '***********')\n",
    "    sc=odor[odor['label']==i]['Direct Parent'].value_counts()\n",
    "    print(sc)\n",
    "    scy=sc[0:15]\n",
    "    scx=sc[0:15]\n",
    "    sns.barplot(x=scy, y=scx.index)\n",
    "    a = 'Grup ' + str(i)\n",
    "    plt.title(a)\n",
    "    plt.show()"
   ]
  },
  {
   "cell_type": "code",
   "execution_count": null,
   "id": "dbf1250d",
   "metadata": {},
   "outputs": [],
   "source": [
    "#Alternative Parents - pre\n",
    "ap=odor['Alternative Parents'].unique()\n",
    "ap_num=np.arange(0,234)\n",
    "for i in range(len(odor)): \n",
    "    for j in range(len(ap)):\n",
    "        if (odor['Alternative Parents'][i] == ap[j]):\n",
    "            odor['Alternative Parents'][i] = ap_num[j]\n",
    "#borramos 1 que son los none\n",
    "odor=odor[odor['Alternative Parents'] != 1]\n",
    "\n",
    "#borramos los 11 que son ' 1'\n",
    "odor=odor[odor['Alternative Parents'] != 11]\n",
    "\n",
    "#borramos los 102 que son ' '\n",
    "odor=odor[odor['Alternative Parents'] != 102]"
   ]
  },
  {
   "cell_type": "code",
   "execution_count": null,
   "id": "a9321286",
   "metadata": {},
   "outputs": [],
   "source": [
    "#Alternative Parents\n",
    "groups = []\n",
    "scxall = []\n",
    "\n",
    "for i in range(8):\n",
    "    print('*********** Grupo', i, '***********')\n",
    "    sc=odor[odor['label']==i]['Alternative Parents'].value_counts()\n",
    "    print(sc)\n",
    "    scy=sc[0:15]\n",
    "    scx=sc[0:15]\n",
    "    print(scx)\n",
    "    sns.barplot(x=scx.index, y=scy)\n",
    "    a = 'Grup ' + str(i)\n",
    "    plt.title(a)\n",
    "    plt.show()\n",
    "    for i in scx.index:\n",
    "        scxall.append(i)"
   ]
  },
  {
   "cell_type": "code",
   "execution_count": null,
   "id": "22e48690",
   "metadata": {},
   "outputs": [],
   "source": [
    "miss=[]\n",
    "ind=np.unique(scxall)\n",
    "for i in ind:\n",
    "    miss.append(ap[i])\n",
    "legend=pd.DataFrame()\n",
    "legend['ind']=ind\n",
    "legend['miss']=miss\n",
    "legend.to_csv('Data/legend_alternative_parents.csv', index=False, sep=\".\")"
   ]
  }
 ],
 "metadata": {
  "kernelspec": {
   "display_name": "Python 3 (ipykernel)",
   "language": "python",
   "name": "python3"
  },
  "language_info": {
   "codemirror_mode": {
    "name": "ipython",
    "version": 3
   },
   "file_extension": ".py",
   "mimetype": "text/x-python",
   "name": "python",
   "nbconvert_exporter": "python",
   "pygments_lexer": "ipython3",
   "version": "3.9.5"
  }
 },
 "nbformat": 4,
 "nbformat_minor": 5
}
