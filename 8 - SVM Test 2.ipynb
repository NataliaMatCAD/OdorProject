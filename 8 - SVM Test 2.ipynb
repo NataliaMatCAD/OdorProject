{
 "cells": [
  {
   "cell_type": "code",
   "execution_count": 1,
   "id": "1febf5b8",
   "metadata": {},
   "outputs": [],
   "source": [
    "import pandas as pd\n",
    "from sklearn import svm\n",
    "from sklearn.model_selection import train_test_split\n",
    "import seaborn as sns\n",
    "import numpy as np\n",
    "from scipy import stats\n",
    "import matplotlib.pyplot as plt"
   ]
  },
  {
   "cell_type": "code",
   "execution_count": 2,
   "id": "3b238413",
   "metadata": {},
   "outputs": [],
   "source": [
    "odor = pd.read_json('Data/odor_prop.json', lines=False, orient='records')"
   ]
  },
  {
   "cell_type": "code",
   "execution_count": 3,
   "id": "e7fbd9bc",
   "metadata": {},
   "outputs": [],
   "source": [
    "odor=odor[odor['level']=='first']\n",
    "odor.reset_index(drop=True, inplace=True)"
   ]
  },
  {
   "cell_type": "code",
   "execution_count": 4,
   "id": "56146c0a",
   "metadata": {},
   "outputs": [],
   "source": [
    "mol=odor['cid'].value_counts()\n",
    "mols=mol.index[mol>1]"
   ]
  },
  {
   "cell_type": "code",
   "execution_count": 5,
   "id": "94e28ca2",
   "metadata": {},
   "outputs": [],
   "source": [
    "groups=[]\n",
    "for i in range(len(odor)):\n",
    "    for mol in mols:\n",
    "        if odor['cid'][i] == mol:\n",
    "            g=np.max(odor[odor['cid']==mol]['label'])\n",
    "            groups.append([mol, g])"
   ]
  },
  {
   "cell_type": "code",
   "execution_count": 6,
   "id": "05551652",
   "metadata": {},
   "outputs": [],
   "source": [
    "ls_drop=[]\n",
    "for mol in groups:\n",
    "    for i in range(len(odor)):\n",
    "        if (odor['cid'][i] == mol[0]):\n",
    "            if odor['label'][i]!=mol[1]:\n",
    "                ls_drop.append(i)"
   ]
  },
  {
   "cell_type": "code",
   "execution_count": 11,
   "id": "e54cf837",
   "metadata": {},
   "outputs": [],
   "source": [
    "odor=odor.drop(ls_drop)\n",
    "odor.reset_index(drop=True, inplace=True)"
   ]
  },
  {
   "cell_type": "code",
   "execution_count": 28,
   "id": "3ab32844",
   "metadata": {},
   "outputs": [],
   "source": [
    "odor = odor.sort_values(by='cid')\n",
    "odor.reset_index(inplace=True)"
   ]
  },
  {
   "cell_type": "code",
   "execution_count": 30,
   "id": "ff695050",
   "metadata": {},
   "outputs": [],
   "source": [
    "ls_repeat=[]\n",
    "for i in range(len(odor)-1):\n",
    "    if (odor['cid'][i]==odor['cid'][i+1]):\n",
    "        ls_repeat.append(i)"
   ]
  },
  {
   "cell_type": "code",
   "execution_count": 32,
   "id": "83a6526a",
   "metadata": {},
   "outputs": [],
   "source": [
    "odor=odor.drop(ls_repeat)\n",
    "odor.reset_index(drop=True, inplace=True)"
   ]
  },
  {
   "cell_type": "code",
   "execution_count": 33,
   "id": "805789ef",
   "metadata": {
    "scrolled": true
   },
   "outputs": [
    {
     "data": {
      "text/html": [
       "<div>\n",
       "<style scoped>\n",
       "    .dataframe tbody tr th:only-of-type {\n",
       "        vertical-align: middle;\n",
       "    }\n",
       "\n",
       "    .dataframe tbody tr th {\n",
       "        vertical-align: top;\n",
       "    }\n",
       "\n",
       "    .dataframe thead th {\n",
       "        text-align: right;\n",
       "    }\n",
       "</style>\n",
       "<table border=\"1\" class=\"dataframe\">\n",
       "  <thead>\n",
       "    <tr style=\"text-align: right;\">\n",
       "      <th></th>\n",
       "      <th>index</th>\n",
       "      <th>name</th>\n",
       "      <th>level</th>\n",
       "      <th>cid</th>\n",
       "      <th>label</th>\n",
       "      <th>smiles</th>\n",
       "      <th>TPSA</th>\n",
       "      <th>MolLogP</th>\n",
       "      <th>MolWt</th>\n",
       "      <th>ExactMolWt</th>\n",
       "      <th>...</th>\n",
       "      <th>Class</th>\n",
       "      <th>Subclass</th>\n",
       "      <th>Intermediate Nodes</th>\n",
       "      <th>Direct Parent</th>\n",
       "      <th>Alternative Parents</th>\n",
       "      <th>Molecular Framework</th>\n",
       "      <th>Substituents</th>\n",
       "      <th>Structure-based description</th>\n",
       "      <th>Ancestors</th>\n",
       "      <th>External Descriptors</th>\n",
       "    </tr>\n",
       "  </thead>\n",
       "  <tbody>\n",
       "    <tr>\n",
       "      <th>0</th>\n",
       "      <td>2210</td>\n",
       "      <td>fruity</td>\n",
       "      <td>first</td>\n",
       "      <td>49</td>\n",
       "      <td>4</td>\n",
       "      <td>CC(C)C(=O)C(=O)O</td>\n",
       "      <td>54.37</td>\n",
       "      <td>0.29610</td>\n",
       "      <td>116.116</td>\n",
       "      <td>116.047344</td>\n",
       "      <td>...</td>\n",
       "      <td>None</td>\n",
       "      <td>None</td>\n",
       "      <td>None</td>\n",
       "      <td>None</td>\n",
       "      <td>None</td>\n",
       "      <td>None</td>\n",
       "      <td>None</td>\n",
       "      <td>None</td>\n",
       "      <td>None</td>\n",
       "      <td>None</td>\n",
       "    </tr>\n",
       "    <tr>\n",
       "      <th>1</th>\n",
       "      <td>3245</td>\n",
       "      <td>caramellic</td>\n",
       "      <td>first</td>\n",
       "      <td>58</td>\n",
       "      <td>5</td>\n",
       "      <td>CCC(=O)C(=O)O</td>\n",
       "      <td>54.37</td>\n",
       "      <td>0.05010</td>\n",
       "      <td>102.089</td>\n",
       "      <td>102.031694</td>\n",
       "      <td>...</td>\n",
       "      <td>None</td>\n",
       "      <td>None</td>\n",
       "      <td>None</td>\n",
       "      <td>None</td>\n",
       "      <td>None</td>\n",
       "      <td>None</td>\n",
       "      <td>None</td>\n",
       "      <td>None</td>\n",
       "      <td>None</td>\n",
       "      <td>None</td>\n",
       "    </tr>\n",
       "    <tr>\n",
       "      <th>2</th>\n",
       "      <td>2054</td>\n",
       "      <td>fruity</td>\n",
       "      <td>first</td>\n",
       "      <td>70</td>\n",
       "      <td>4</td>\n",
       "      <td>CC(C)CC(=O)C(=O)O</td>\n",
       "      <td>54.37</td>\n",
       "      <td>0.68620</td>\n",
       "      <td>130.143</td>\n",
       "      <td>130.062994</td>\n",
       "      <td>...</td>\n",
       "      <td>None</td>\n",
       "      <td>None</td>\n",
       "      <td>None</td>\n",
       "      <td>None</td>\n",
       "      <td>None</td>\n",
       "      <td>None</td>\n",
       "      <td>None</td>\n",
       "      <td>None</td>\n",
       "      <td>None</td>\n",
       "      <td>None</td>\n",
       "    </tr>\n",
       "    <tr>\n",
       "      <th>3</th>\n",
       "      <td>1034</td>\n",
       "      <td>phenolic</td>\n",
       "      <td>first</td>\n",
       "      <td>72</td>\n",
       "      <td>6</td>\n",
       "      <td>C1=CC(=C(C=C1C(=O)O)O)O</td>\n",
       "      <td>77.76</td>\n",
       "      <td>0.79600</td>\n",
       "      <td>154.121</td>\n",
       "      <td>154.026609</td>\n",
       "      <td>...</td>\n",
       "      <td>None</td>\n",
       "      <td>None</td>\n",
       "      <td>None</td>\n",
       "      <td>None</td>\n",
       "      <td>None</td>\n",
       "      <td>None</td>\n",
       "      <td>None</td>\n",
       "      <td>None</td>\n",
       "      <td>None</td>\n",
       "      <td>None</td>\n",
       "    </tr>\n",
       "    <tr>\n",
       "      <th>4</th>\n",
       "      <td>2696</td>\n",
       "      <td>fatty</td>\n",
       "      <td>first</td>\n",
       "      <td>107</td>\n",
       "      <td>4</td>\n",
       "      <td>C1=CC=C(C=C1)CCC(=O)O</td>\n",
       "      <td>37.30</td>\n",
       "      <td>1.70380</td>\n",
       "      <td>150.177</td>\n",
       "      <td>150.068080</td>\n",
       "      <td>...</td>\n",
       "      <td>None</td>\n",
       "      <td>None</td>\n",
       "      <td>None</td>\n",
       "      <td>None</td>\n",
       "      <td>None</td>\n",
       "      <td>None</td>\n",
       "      <td>None</td>\n",
       "      <td>None</td>\n",
       "      <td>None</td>\n",
       "      <td>None</td>\n",
       "    </tr>\n",
       "    <tr>\n",
       "      <th>...</th>\n",
       "      <td>...</td>\n",
       "      <td>...</td>\n",
       "      <td>...</td>\n",
       "      <td>...</td>\n",
       "      <td>...</td>\n",
       "      <td>...</td>\n",
       "      <td>...</td>\n",
       "      <td>...</td>\n",
       "      <td>...</td>\n",
       "      <td>...</td>\n",
       "      <td>...</td>\n",
       "      <td>...</td>\n",
       "      <td>...</td>\n",
       "      <td>...</td>\n",
       "      <td>...</td>\n",
       "      <td>...</td>\n",
       "      <td>...</td>\n",
       "      <td>...</td>\n",
       "      <td>...</td>\n",
       "      <td>...</td>\n",
       "      <td>...</td>\n",
       "    </tr>\n",
       "    <tr>\n",
       "      <th>3383</th>\n",
       "      <td>3232</td>\n",
       "      <td>caramellic</td>\n",
       "      <td>first</td>\n",
       "      <td>90479169</td>\n",
       "      <td>5</td>\n",
       "      <td>CCOC(=O)C1=C(OC(=C1O)C)C</td>\n",
       "      <td>59.67</td>\n",
       "      <td>1.77874</td>\n",
       "      <td>184.191</td>\n",
       "      <td>184.073559</td>\n",
       "      <td>...</td>\n",
       "      <td>None</td>\n",
       "      <td>None</td>\n",
       "      <td>None</td>\n",
       "      <td>None</td>\n",
       "      <td>None</td>\n",
       "      <td>None</td>\n",
       "      <td>None</td>\n",
       "      <td>None</td>\n",
       "      <td>None</td>\n",
       "      <td>None</td>\n",
       "    </tr>\n",
       "    <tr>\n",
       "      <th>3384</th>\n",
       "      <td>2784</td>\n",
       "      <td>fatty</td>\n",
       "      <td>first</td>\n",
       "      <td>92043681</td>\n",
       "      <td>4</td>\n",
       "      <td>CCCCCCCCCC(=O)CC(=O)O.CC(CO)[O-]</td>\n",
       "      <td>97.66</td>\n",
       "      <td>1.89840</td>\n",
       "      <td>289.392</td>\n",
       "      <td>289.202048</td>\n",
       "      <td>...</td>\n",
       "      <td>None</td>\n",
       "      <td>None</td>\n",
       "      <td>None</td>\n",
       "      <td>None</td>\n",
       "      <td>None</td>\n",
       "      <td>None</td>\n",
       "      <td>None</td>\n",
       "      <td>None</td>\n",
       "      <td>None</td>\n",
       "      <td>None</td>\n",
       "    </tr>\n",
       "    <tr>\n",
       "      <th>3385</th>\n",
       "      <td>2783</td>\n",
       "      <td>fatty</td>\n",
       "      <td>first</td>\n",
       "      <td>92256353</td>\n",
       "      <td>4</td>\n",
       "      <td>CC(=O)CC[C@H]1C(=C)CCCC1(C)C</td>\n",
       "      <td>17.07</td>\n",
       "      <td>3.73810</td>\n",
       "      <td>194.318</td>\n",
       "      <td>194.167065</td>\n",
       "      <td>...</td>\n",
       "      <td>None</td>\n",
       "      <td>None</td>\n",
       "      <td>None</td>\n",
       "      <td>None</td>\n",
       "      <td>None</td>\n",
       "      <td>None</td>\n",
       "      <td>None</td>\n",
       "      <td>None</td>\n",
       "      <td>None</td>\n",
       "      <td>None</td>\n",
       "    </tr>\n",
       "    <tr>\n",
       "      <th>3386</th>\n",
       "      <td>1863</td>\n",
       "      <td>fruity</td>\n",
       "      <td>first</td>\n",
       "      <td>101306697</td>\n",
       "      <td>4</td>\n",
       "      <td>C[C@@H]1CC[C@H]([C@]12CCC(=CC2)C)C(C)(C)O</td>\n",
       "      <td>20.23</td>\n",
       "      <td>3.92000</td>\n",
       "      <td>222.372</td>\n",
       "      <td>222.198365</td>\n",
       "      <td>...</td>\n",
       "      <td>None</td>\n",
       "      <td>None</td>\n",
       "      <td>None</td>\n",
       "      <td>None</td>\n",
       "      <td>None</td>\n",
       "      <td>None</td>\n",
       "      <td>None</td>\n",
       "      <td>None</td>\n",
       "      <td>None</td>\n",
       "      <td>None</td>\n",
       "    </tr>\n",
       "    <tr>\n",
       "      <th>3387</th>\n",
       "      <td>3019</td>\n",
       "      <td>coffee</td>\n",
       "      <td>first</td>\n",
       "      <td>101666980</td>\n",
       "      <td>1</td>\n",
       "      <td>C[C@H]1C[C@H]([C@@](O[C@@H]1[C@H]2C[C@@H]([C@@...</td>\n",
       "      <td>213.35</td>\n",
       "      <td>-0.29280</td>\n",
       "      <td>895.069</td>\n",
       "      <td>894.495281</td>\n",
       "      <td>...</td>\n",
       "      <td>None</td>\n",
       "      <td>None</td>\n",
       "      <td>None</td>\n",
       "      <td>None</td>\n",
       "      <td>None</td>\n",
       "      <td>None</td>\n",
       "      <td>None</td>\n",
       "      <td>None</td>\n",
       "      <td>None</td>\n",
       "      <td>None</td>\n",
       "    </tr>\n",
       "  </tbody>\n",
       "</table>\n",
       "<p>3388 rows × 74 columns</p>\n",
       "</div>"
      ],
      "text/plain": [
       "      index        name  level        cid  label  \\\n",
       "0      2210      fruity  first         49      4   \n",
       "1      3245  caramellic  first         58      5   \n",
       "2      2054      fruity  first         70      4   \n",
       "3      1034    phenolic  first         72      6   \n",
       "4      2696       fatty  first        107      4   \n",
       "...     ...         ...    ...        ...    ...   \n",
       "3383   3232  caramellic  first   90479169      5   \n",
       "3384   2784       fatty  first   92043681      4   \n",
       "3385   2783       fatty  first   92256353      4   \n",
       "3386   1863      fruity  first  101306697      4   \n",
       "3387   3019      coffee  first  101666980      1   \n",
       "\n",
       "                                                 smiles    TPSA  MolLogP  \\\n",
       "0                                      CC(C)C(=O)C(=O)O   54.37  0.29610   \n",
       "1                                         CCC(=O)C(=O)O   54.37  0.05010   \n",
       "2                                     CC(C)CC(=O)C(=O)O   54.37  0.68620   \n",
       "3                               C1=CC(=C(C=C1C(=O)O)O)O   77.76  0.79600   \n",
       "4                                 C1=CC=C(C=C1)CCC(=O)O   37.30  1.70380   \n",
       "...                                                 ...     ...      ...   \n",
       "3383                           CCOC(=O)C1=C(OC(=C1O)C)C   59.67  1.77874   \n",
       "3384                   CCCCCCCCCC(=O)CC(=O)O.CC(CO)[O-]   97.66  1.89840   \n",
       "3385                       CC(=O)CC[C@H]1C(=C)CCCC1(C)C   17.07  3.73810   \n",
       "3386          C[C@@H]1CC[C@H]([C@]12CCC(=CC2)C)C(C)(C)O   20.23  3.92000   \n",
       "3387  C[C@H]1C[C@H]([C@@](O[C@@H]1[C@H]2C[C@@H]([C@@...  213.35 -0.29280   \n",
       "\n",
       "        MolWt  ExactMolWt  ...  Class  Subclass  Intermediate Nodes  \\\n",
       "0     116.116  116.047344  ...   None      None                None   \n",
       "1     102.089  102.031694  ...   None      None                None   \n",
       "2     130.143  130.062994  ...   None      None                None   \n",
       "3     154.121  154.026609  ...   None      None                None   \n",
       "4     150.177  150.068080  ...   None      None                None   \n",
       "...       ...         ...  ...    ...       ...                 ...   \n",
       "3383  184.191  184.073559  ...   None      None                None   \n",
       "3384  289.392  289.202048  ...   None      None                None   \n",
       "3385  194.318  194.167065  ...   None      None                None   \n",
       "3386  222.372  222.198365  ...   None      None                None   \n",
       "3387  895.069  894.495281  ...   None      None                None   \n",
       "\n",
       "      Direct Parent  Alternative Parents  Molecular Framework  Substituents  \\\n",
       "0              None                 None                 None          None   \n",
       "1              None                 None                 None          None   \n",
       "2              None                 None                 None          None   \n",
       "3              None                 None                 None          None   \n",
       "4              None                 None                 None          None   \n",
       "...             ...                  ...                  ...           ...   \n",
       "3383           None                 None                 None          None   \n",
       "3384           None                 None                 None          None   \n",
       "3385           None                 None                 None          None   \n",
       "3386           None                 None                 None          None   \n",
       "3387           None                 None                 None          None   \n",
       "\n",
       "      Structure-based description  Ancestors  External Descriptors  \n",
       "0                            None       None                  None  \n",
       "1                            None       None                  None  \n",
       "2                            None       None                  None  \n",
       "3                            None       None                  None  \n",
       "4                            None       None                  None  \n",
       "...                           ...        ...                   ...  \n",
       "3383                         None       None                  None  \n",
       "3384                         None       None                  None  \n",
       "3385                         None       None                  None  \n",
       "3386                         None       None                  None  \n",
       "3387                         None       None                  None  \n",
       "\n",
       "[3388 rows x 74 columns]"
      ]
     },
     "execution_count": 33,
     "metadata": {},
     "output_type": "execute_result"
    }
   ],
   "source": [
    "odor"
   ]
  },
  {
   "cell_type": "code",
   "execution_count": 51,
   "id": "14287da2",
   "metadata": {},
   "outputs": [],
   "source": [
    "ind_X=odor.columns[6:59]"
   ]
  },
  {
   "cell_type": "code",
   "execution_count": 52,
   "id": "45ea90fd",
   "metadata": {},
   "outputs": [],
   "source": [
    "X = odor[ind_X]\n",
    "y = odor['label']\n",
    "X_train, X_test, y_train, y_test = train_test_split(X, y, test_size=0.33, random_state=42)"
   ]
  },
  {
   "cell_type": "code",
   "execution_count": 53,
   "id": "ac3cdcaa",
   "metadata": {},
   "outputs": [
    {
     "data": {
      "text/plain": [
       "<AxesSubplot:xlabel='label', ylabel='count'>"
      ]
     },
     "execution_count": 53,
     "metadata": {},
     "output_type": "execute_result"
    },
    {
     "data": {
      "image/png": "[encoded data removed]",
      "text/plain": [
       "<Figure size 432x288 with 1 Axes>"
      ]
     },
     "metadata": {
      "needs_background": "light"
     },
     "output_type": "display_data"
    }
   ],
   "source": [
    "sns.countplot(y_train)"
   ]
  },
  {
   "cell_type": "code",
   "execution_count": 54,
   "id": "99fe54ae",
   "metadata": {},
   "outputs": [
    {
     "data": {
      "text/plain": [
       "<AxesSubplot:xlabel='label', ylabel='count'>"
      ]
     },
     "execution_count": 54,
     "metadata": {},
     "output_type": "execute_result"
    },
    {
     "data": {
      "image/png": "[encoded data removed]",
      "text/plain": [
       "<Figure size 432x288 with 1 Axes>"
      ]
     },
     "metadata": {
      "needs_background": "light"
     },
     "output_type": "display_data"
    }
   ],
   "source": [
    "sns.countplot(y_test)"
   ]
  },
  {
   "cell_type": "code",
   "execution_count": 55,
   "id": "b36f56be",
   "metadata": {},
   "outputs": [
    {
     "data": {
      "text/plain": [
       "Pipeline(steps=[('standardscaler', StandardScaler()),\n",
       "                ('svc', SVC(gamma='auto'))])"
      ]
     },
     "execution_count": 55,
     "metadata": {},
     "output_type": "execute_result"
    }
   ],
   "source": [
    "from sklearn.pipeline import make_pipeline\n",
    "from sklearn.preprocessing import StandardScaler\n",
    "from sklearn.svm import SVC\n",
    "clf = make_pipeline(StandardScaler(), SVC(gamma='auto'))\n",
    "clf.fit(X_train, y_train)"
   ]
  },
  {
   "cell_type": "code",
   "execution_count": 56,
   "id": "64b606b9",
   "metadata": {},
   "outputs": [
    {
     "name": "stdout",
     "output_type": "stream",
     "text": [
      "Accuracy is: 0.49272807404142793\n"
     ]
    }
   ],
   "source": [
    "import warnings\n",
    "warnings.filterwarnings(\"ignore\")\n",
    "acc=0\n",
    "for i in range(len(X_train)):\n",
    "    a = clf.predict(np.array(X_train.iloc[i]).reshape(1, -1))\n",
    "    b = y_train.iloc[i]\n",
    "    if (a==[b]):\n",
    "        acc+=1\n",
    "print('Accuracy is:', acc/len(X_train))"
   ]
  },
  {
   "cell_type": "code",
   "execution_count": 59,
   "id": "65890e76",
   "metadata": {},
   "outputs": [
    {
     "data": {
      "text/plain": [
       "<AxesSubplot:xlabel='cid', ylabel='TPSA'>"
      ]
     },
     "execution_count": 59,
     "metadata": {},
     "output_type": "execute_result"
    },
    {
     "data": {
      "image/png": "[encoded data removed]",
      "text/plain": [
       "<Figure size 432x288 with 1 Axes>"
      ]
     },
     "metadata": {
      "needs_background": "light"
     },
     "output_type": "display_data"
    }
   ],
   "source": [
    "sns.scatterplot(x=\"cid\", y=\"TPSA\", hue=\"label\", data=odor, hue_order= ['u', 'g', 'r', 'i', 'z'], palette='husl')"
   ]
  }
 ],
 "metadata": {
  "kernelspec": {
   "display_name": "Python 3 (ipykernel)",
   "language": "python",
   "name": "python3"
  },
  "language_info": {
   "codemirror_mode": {
    "name": "ipython",
    "version": 3
   },
   "file_extension": ".py",
   "mimetype": "text/x-python",
   "name": "python",
   "nbconvert_exporter": "python",
   "pygments_lexer": "ipython3",
   "version": "3.9.5"
  }
 },
 "nbformat": 4,
 "nbformat_minor": 5
}
