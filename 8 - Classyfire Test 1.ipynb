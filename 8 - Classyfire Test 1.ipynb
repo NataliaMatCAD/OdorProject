{
 "cells": [
  {
   "cell_type": "markdown",
   "metadata": {},
   "source": [
    "En aquest fitxer, utilitzem diferents classificadors per TOTA la data:"
   ]
  },
  {
   "cell_type": "code",
   "execution_count": 5,
   "metadata": {},
   "outputs": [],
   "source": [
    "import pandas as pd\n",
    "from sklearn import svm\n",
    "from sklearn.model_selection import train_test_split\n",
    "import seaborn as sns\n",
    "import numpy as np\n",
    "from scipy import stats\n",
    "import matplotlib.pyplot as plt\n",
    "\n",
    "from sklearn.pipeline import make_pipeline\n",
    "from sklearn.preprocessing import StandardScaler\n",
    "from sklearn.svm import SVC\n",
    "\n",
    "from sklearn.metrics import accuracy_score, log_loss\n",
    "from sklearn.neighbors import KNeighborsClassifier\n",
    "from sklearn.tree import DecisionTreeClassifier\n",
    "from sklearn.ensemble import RandomForestClassifier\n",
    "from sklearn.discriminant_analysis import LinearDiscriminantAnalysis"
   ]
  },
  {
   "cell_type": "code",
   "execution_count": 6,
   "metadata": {},
   "outputs": [],
   "source": [
    "odor = pd.read_json('Data/odor_prop.json', lines=False, orient='records')"
   ]
  },
  {
   "cell_type": "code",
   "execution_count": 7,
   "metadata": {},
   "outputs": [
    {
     "data": {
      "text/html": [
       "<div>\n",
       "<style scoped>\n",
       "    .dataframe tbody tr th:only-of-type {\n",
       "        vertical-align: middle;\n",
       "    }\n",
       "\n",
       "    .dataframe tbody tr th {\n",
       "        vertical-align: top;\n",
       "    }\n",
       "\n",
       "    .dataframe thead th {\n",
       "        text-align: right;\n",
       "    }\n",
       "</style>\n",
       "<table border=\"1\" class=\"dataframe\">\n",
       "  <thead>\n",
       "    <tr style=\"text-align: right;\">\n",
       "      <th></th>\n",
       "      <th>name</th>\n",
       "      <th>level</th>\n",
       "      <th>cid</th>\n",
       "      <th>label</th>\n",
       "      <th>smiles</th>\n",
       "      <th>TPSA</th>\n",
       "      <th>MolLogP</th>\n",
       "      <th>MolWt</th>\n",
       "      <th>ExactMolWt</th>\n",
       "      <th>MolMR</th>\n",
       "      <th>...</th>\n",
       "      <th>Class</th>\n",
       "      <th>Subclass</th>\n",
       "      <th>Intermediate Nodes</th>\n",
       "      <th>Direct Parent</th>\n",
       "      <th>Alternative Parents</th>\n",
       "      <th>Molecular Framework</th>\n",
       "      <th>Substituents</th>\n",
       "      <th>Structure-based description</th>\n",
       "      <th>Ancestors</th>\n",
       "      <th>External Descriptors</th>\n",
       "    </tr>\n",
       "  </thead>\n",
       "  <tbody>\n",
       "    <tr>\n",
       "      <th>0</th>\n",
       "      <td>alliaceous</td>\n",
       "      <td>third</td>\n",
       "      <td>139711</td>\n",
       "      <td>5</td>\n",
       "      <td>CCSC(C)SCC</td>\n",
       "      <td>0.00</td>\n",
       "      <td>2.8386</td>\n",
       "      <td>150.312</td>\n",
       "      <td>150.053692</td>\n",
       "      <td>45.726</td>\n",
       "      <td>...</td>\n",
       "      <td>Thioacetals</td>\n",
       "      <td>Dithioacetals</td>\n",
       "      <td></td>\n",
       "      <td>Dithioacetals</td>\n",
       "      <td>Sulfenyl compounds Dialkylthioethers Hydrocar...</td>\n",
       "      <td>Aliphatic acyclic compounds</td>\n",
       "      <td>Thioacetal Dialkylthioether Sulfenyl compound...</td>\n",
       "      <td>This compound belongs to the class of organic...</td>\n",
       "      <td>Chemical entities Dialkylthioethers Dithioace...</td>\n",
       "      <td></td>\n",
       "    </tr>\n",
       "    <tr>\n",
       "      <th>1</th>\n",
       "      <td>alliaceous</td>\n",
       "      <td>second</td>\n",
       "      <td>8030</td>\n",
       "      <td>5</td>\n",
       "      <td>C1=CSC=C1</td>\n",
       "      <td>0.00</td>\n",
       "      <td>1.7481</td>\n",
       "      <td>84.143</td>\n",
       "      <td>84.003371</td>\n",
       "      <td>24.319</td>\n",
       "      <td>...</td>\n",
       "      <td>None</td>\n",
       "      <td>None</td>\n",
       "      <td>None</td>\n",
       "      <td>None</td>\n",
       "      <td>None</td>\n",
       "      <td>None</td>\n",
       "      <td>None</td>\n",
       "      <td>None</td>\n",
       "      <td>None</td>\n",
       "      <td>None</td>\n",
       "    </tr>\n",
       "    <tr>\n",
       "      <th>2</th>\n",
       "      <td>alliaceous</td>\n",
       "      <td>second</td>\n",
       "      <td>521869</td>\n",
       "      <td>5</td>\n",
       "      <td>CCC(=O)SC</td>\n",
       "      <td>17.07</td>\n",
       "      <td>1.2860</td>\n",
       "      <td>104.174</td>\n",
       "      <td>104.029586</td>\n",
       "      <td>28.813</td>\n",
       "      <td>...</td>\n",
       "      <td>Thiocarboxylic acids and derivatives</td>\n",
       "      <td>Thioesters</td>\n",
       "      <td></td>\n",
       "      <td>Thioesters</td>\n",
       "      <td>Carbothioic S-esters Sulfenyl compounds Carbo...</td>\n",
       "      <td>Aliphatic acyclic compounds</td>\n",
       "      <td>Carbothioic s-ester Thiocarboxylic acid ester...</td>\n",
       "      <td>This compound belongs to the class of organic...</td>\n",
       "      <td>with the general structure RC(=S)XR' (R=H</td>\n",
       "      <td>alkyl</td>\n",
       "    </tr>\n",
       "  </tbody>\n",
       "</table>\n",
       "<p>3 rows × 73 columns</p>\n",
       "</div>"
      ],
      "text/plain": [
       "         name   level     cid  label      smiles   TPSA  MolLogP    MolWt  \\\n",
       "0  alliaceous   third  139711      5  CCSC(C)SCC   0.00   2.8386  150.312   \n",
       "1  alliaceous  second    8030      5   C1=CSC=C1   0.00   1.7481   84.143   \n",
       "2  alliaceous  second  521869      5   CCC(=O)SC  17.07   1.2860  104.174   \n",
       "\n",
       "   ExactMolWt   MolMR  ...                                  Class  \\\n",
       "0  150.053692  45.726  ...                            Thioacetals   \n",
       "1   84.003371  24.319  ...                                   None   \n",
       "2  104.029586  28.813  ...   Thiocarboxylic acids and derivatives   \n",
       "\n",
       "         Subclass  Intermediate Nodes   Direct Parent  \\\n",
       "0   Dithioacetals                       Dithioacetals   \n",
       "1            None                None            None   \n",
       "2      Thioesters                          Thioesters   \n",
       "\n",
       "                                 Alternative Parents  \\\n",
       "0   Sulfenyl compounds Dialkylthioethers Hydrocar...   \n",
       "1                                               None   \n",
       "2   Carbothioic S-esters Sulfenyl compounds Carbo...   \n",
       "\n",
       "            Molecular Framework  \\\n",
       "0   Aliphatic acyclic compounds   \n",
       "1                          None   \n",
       "2   Aliphatic acyclic compounds   \n",
       "\n",
       "                                        Substituents  \\\n",
       "0   Thioacetal Dialkylthioether Sulfenyl compound...   \n",
       "1                                               None   \n",
       "2   Carbothioic s-ester Thiocarboxylic acid ester...   \n",
       "\n",
       "                         Structure-based description  \\\n",
       "0   This compound belongs to the class of organic...   \n",
       "1                                               None   \n",
       "2   This compound belongs to the class of organic...   \n",
       "\n",
       "                                           Ancestors  External Descriptors  \n",
       "0   Chemical entities Dialkylthioethers Dithioace...                        \n",
       "1                                               None                  None  \n",
       "2          with the general structure RC(=S)XR' (R=H                 alkyl  \n",
       "\n",
       "[3 rows x 73 columns]"
      ]
     },
     "execution_count": 7,
     "metadata": {},
     "output_type": "execute_result"
    }
   ],
   "source": [
    "odor.head(3)"
   ]
  },
  {
   "cell_type": "code",
   "execution_count": 8,
   "metadata": {},
   "outputs": [],
   "source": [
    "ind_X=odor.columns[5:58]"
   ]
  },
  {
   "cell_type": "code",
   "execution_count": 9,
   "metadata": {},
   "outputs": [],
   "source": [
    "X = odor[ind_X]\n",
    "y = odor['label']\n",
    "X_train, X_test, y_train, y_test = train_test_split(X, y, test_size=0.33, random_state=42)"
   ]
  },
  {
   "cell_type": "code",
   "execution_count": 10,
   "metadata": {},
   "outputs": [
    {
     "name": "stderr",
     "output_type": "stream",
     "text": [
      "/home/lmc/.local/lib/python3.8/site-packages/seaborn/_decorators.py:36: FutureWarning: Pass the following variable as a keyword arg: x. From version 0.12, the only valid positional argument will be `data`, and passing other arguments without an explicit keyword will result in an error or misinterpretation.\n",
      "  warnings.warn(\n"
     ]
    },
    {
     "data": {
      "text/plain": [
       "<matplotlib.axes._subplots.AxesSubplot at 0x7f1ca9b24cd0>"
      ]
     },
     "execution_count": 10,
     "metadata": {},
     "output_type": "execute_result"
    },
    {
     "data": {
      "image/png": "[encoded data removed]",
      "text/plain": [
       "<Figure size 432x288 with 1 Axes>"
      ]
     },
     "metadata": {
      "needs_background": "light"
     },
     "output_type": "display_data"
    }
   ],
   "source": [
    "sns.countplot(y_train)"
   ]
  },
  {
   "cell_type": "code",
   "execution_count": 11,
   "metadata": {},
   "outputs": [
    {
     "name": "stderr",
     "output_type": "stream",
     "text": [
      "/home/lmc/.local/lib/python3.8/site-packages/seaborn/_decorators.py:36: FutureWarning: Pass the following variable as a keyword arg: x. From version 0.12, the only valid positional argument will be `data`, and passing other arguments without an explicit keyword will result in an error or misinterpretation.\n",
      "  warnings.warn(\n"
     ]
    },
    {
     "data": {
      "text/plain": [
       "<matplotlib.axes._subplots.AxesSubplot at 0x7f1cb4e19a30>"
      ]
     },
     "execution_count": 11,
     "metadata": {},
     "output_type": "execute_result"
    },
    {
     "data": {
      "image/png": "[encoded data removed]",
      "text/plain": [
       "<Figure size 432x288 with 1 Axes>"
      ]
     },
     "metadata": {
      "needs_background": "light"
     },
     "output_type": "display_data"
    }
   ],
   "source": [
    "sns.countplot(y_test)"
   ]
  },
  {
   "cell_type": "code",
   "execution_count": 18,
   "metadata": {
    "scrolled": false
   },
   "outputs": [
    {
     "name": "stdout",
     "output_type": "stream",
     "text": [
      "==============================\n",
      "KNeighborsClassifier\n",
      "****Results****\n",
      "Accuracy: 24.9235%\n",
      "==============================\n",
      "DecisionTreeClassifier\n",
      "****Results****\n",
      "Accuracy: 22.3242%\n",
      "==============================\n",
      "RandomForestClassifier\n",
      "****Results****\n",
      "Accuracy: 25.0109%\n",
      "==============================\n",
      "LinearDiscriminantAnalysis\n",
      "****Results****\n",
      "Accuracy: 34.7313%\n",
      "==============================\n",
      "Pipeline\n",
      "****Results****\n",
      "Accuracy: 35.3429%\n",
      "==============================\n",
      "SVC\n",
      "****Results****\n",
      "Accuracy: 31.0398%\n",
      "==============================\n"
     ]
    }
   ],
   "source": [
    "classifiers = [\n",
    "    KNeighborsClassifier(3),\n",
    "    DecisionTreeClassifier(),\n",
    "    RandomForestClassifier(),\n",
    "    LinearDiscriminantAnalysis(),\n",
    "    make_pipeline(StandardScaler(), SVC(gamma='auto')),\n",
    "    svm.SVC()\n",
    "    ]\n",
    "\n",
    "# Logging for Visual Comparison\n",
    "\n",
    "\n",
    "for clf in classifiers:\n",
    "    clf.fit(X_train, y_train)\n",
    "    name = clf.__class__.__name__\n",
    "    \n",
    "    print(\"=\"*30)\n",
    "    print(name)\n",
    "    \n",
    "    print('****Results*b***')\n",
    "    train_predictions = clf.predict(X_test)\n",
    "    acc = accuracy_score(y_test, train_predictions)\n",
    "    print(\"Accuracy: {:.4%}\".format(acc))\n",
    "      \n",
    "print(\"=\"*30)"
   ]
  }
 ],
 "metadata": {
  "kernelspec": {
   "display_name": "Python 3",
   "language": "python",
   "name": "python3"
  },
  "language_info": {
   "codemirror_mode": {
    "name": "ipython",
    "version": 3
   },
   "file_extension": ".py",
   "mimetype": "text/x-python",
   "name": "python",
   "nbconvert_exporter": "python",
   "pygments_lexer": "ipython3",
   "version": "3.8.10"
  }
 },
 "nbformat": 4,
 "nbformat_minor": 4
}
