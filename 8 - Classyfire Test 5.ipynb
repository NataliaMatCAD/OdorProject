{
 "cells": [
  {
   "cell_type": "markdown",
   "id": "98804b98",
   "metadata": {},
   "source": [
    "Afegir Class, SubClass, blabla"
   ]
  },
  {
   "cell_type": "code",
   "execution_count": 2,
   "id": "221f67c0",
   "metadata": {},
   "outputs": [],
   "source": [
    "import pandas as pd\n",
    "from sklearn import svm\n",
    "from sklearn.model_selection import train_test_split\n",
    "import seaborn as sns\n",
    "import numpy as np\n",
    "from scipy import stats\n",
    "import matplotlib.pyplot as plt\n",
    "\n",
    "from sklearn.pipeline import make_pipeline\n",
    "from sklearn.preprocessing import StandardScaler\n",
    "from sklearn.svm import SVC\n",
    "\n",
    "from sklearn.metrics import accuracy_score, log_loss\n",
    "from sklearn.neighbors import KNeighborsClassifier\n",
    "from sklearn.tree import DecisionTreeClassifier\n",
    "from sklearn.ensemble import RandomForestClassifier\n",
    "from sklearn.discriminant_analysis import LinearDiscriminantAnalysis"
   ]
  },
  {
   "cell_type": "markdown",
   "id": "dc720afa",
   "metadata": {},
   "source": [
    "#### Tornem a carregar el primer nivell"
   ]
  },
  {
   "cell_type": "code",
   "execution_count": 3,
   "id": "4fd2f200",
   "metadata": {},
   "outputs": [],
   "source": [
    "odor = pd.read_json('Data/odor_prop.json', lines=False, orient='records')\n",
    "odor=odor[odor['level']=='first']\n",
    "odor.reset_index(drop=True, inplace=True)\n",
    "mol=odor['cid'].value_counts()\n",
    "mols=mol.index[mol>1]\n",
    "groups=[]\n",
    "for i in range(len(odor)):\n",
    "    for mol in mols:\n",
    "        if odor['cid'][i] == mol:\n",
    "            g=np.max(odor[odor['cid']==mol]['label'])\n",
    "            groups.append([mol, g])\n",
    "            ls_drop=[]\n",
    "for mol in groups:\n",
    "    for i in range(len(odor)):\n",
    "        if (odor['cid'][i] == mol[0]):\n",
    "            if odor['label'][i]!=mol[1]:\n",
    "                ls_drop.append(i)\n",
    "odor=odor.drop(ls_drop)\n",
    "odor.reset_index(drop=True, inplace=True)\n",
    "odor = odor.sort_values(by='cid')\n",
    "odor.reset_index(inplace=True)\n",
    "ls_repeat=[]\n",
    "for i in range(len(odor)-1):\n",
    "    if (odor['cid'][i]==odor['cid'][i+1]):\n",
    "        ls_repeat.append(i)\n",
    "odor=odor.drop(ls_repeat)"
   ]
  },
  {
   "cell_type": "markdown",
   "id": "7f7bf32b",
   "metadata": {},
   "source": [
    "#### Canviem les variables categòriques d'str a int:"
   ]
  },
  {
   "cell_type": "code",
   "execution_count": 4,
   "id": "57efa4d4",
   "metadata": {},
   "outputs": [
    {
     "data": {
      "text/plain": [
       "(69, 10, 65, 135)"
      ]
     },
     "execution_count": 4,
     "metadata": {},
     "output_type": "execute_result"
    }
   ],
   "source": [
    "len(odor['Subclass'].unique()), len(odor['Superclass'].unique()), len(odor['Class'].unique()), len(odor['Direct Parent'].unique())"
   ]
  },
  {
   "cell_type": "code",
   "execution_count": 5,
   "id": "e9c28661",
   "metadata": {},
   "outputs": [],
   "source": [
    "odor.replace(to_replace=odor['Subclass'].unique(), \n",
    "                   value=np.arange(0,69), inplace=True)"
   ]
  },
  {
   "cell_type": "code",
   "execution_count": 6,
   "id": "5063e05c",
   "metadata": {},
   "outputs": [],
   "source": [
    "odor.replace(to_replace=odor['Superclass'].unique(), \n",
    "                   value=np.arange(0,10), inplace=True)\n",
    "odor.replace(to_replace=odor['Class'].unique(), \n",
    "                   value=np.arange(0,65), inplace=True)\n",
    "odor.replace(to_replace=odor['Direct Parent'].unique(), \n",
    "                   value=np.arange(0,113), inplace=True)"
   ]
  },
  {
   "cell_type": "code",
   "execution_count": 7,
   "id": "f8c4dfe0",
   "metadata": {},
   "outputs": [
    {
     "data": {
      "text/plain": [
       "Index(['index', 'name', 'level', 'cid', 'label', 'smiles', 'TPSA', 'MolLogP',\n",
       "       'MolWt', 'ExactMolWt', 'MolMR', 'NumHAcceptors', 'NumHDonors',\n",
       "       'NumRotatableBonds', 'NumAromaticRings', 'NumSaturatedRings',\n",
       "       'NumAliphaticRings', 'NumAromaticHeterocycles',\n",
       "       'NumSaturatedHeterocycles', 'NumAliphaticHeterocycles',\n",
       "       'NumAromaticCarbocycles', 'NumSaturatedCarbocycles',\n",
       "       'NumAliphaticCarbocycles', 'NumHeteroatoms', 'NumValenceElectrons',\n",
       "       'RingCount', 'FractionCSP3', 'LabuteASA', 'BalabanJ', 'BertzCT', 'Ipc',\n",
       "       'HallKierAlpha', 'Kappa1', 'Kappa2', 'Kappa3', 'Chi0', 'Chi1', 'Chi0n',\n",
       "       'Chi1n', 'Chi2n', 'Chi3n', 'Chi4n', 'Chi0v', 'Chi1v', 'Chi2v', 'Chi3v',\n",
       "       'Chi4v', 'HeavyAtom', 'Gasteiger', 'Eccentricity',\n",
       "       'InertialShapeFactor', 'RadiusOfGyration', 'Asphericity',\n",
       "       'SpherocityIndex', 'PMI1', 'PMI2', 'PMI3', 'NPR1', 'NPR2',\n",
       "       'Molecule Name', 'InChIKey', 'SMILES', 'Kingdom', 'Superclass', 'Class',\n",
       "       'Subclass', 'Intermediate Nodes', 'Direct Parent',\n",
       "       'Alternative Parents', 'Molecular Framework', 'Substituents',\n",
       "       'Structure-based description', 'Ancestors', 'External Descriptors'],\n",
       "      dtype='object')"
      ]
     },
     "execution_count": 7,
     "metadata": {},
     "output_type": "execute_result"
    }
   ],
   "source": [
    "odor.columns"
   ]
  },
  {
   "cell_type": "code",
   "execution_count": 8,
   "id": "f0e43b73",
   "metadata": {},
   "outputs": [],
   "source": [
    "ind_X=['TPSA', 'MolLogP',\n",
    "       'MolWt', 'ExactMolWt', 'MolMR', 'NumHAcceptors', 'NumHDonors',\n",
    "       'NumRotatableBonds', 'NumAromaticRings', 'NumSaturatedRings',\n",
    "       'NumAliphaticRings', 'NumAromaticHeterocycles',\n",
    "       'NumSaturatedHeterocycles', 'NumAliphaticHeterocycles',\n",
    "       'NumAromaticCarbocycles', 'NumSaturatedCarbocycles',\n",
    "       'NumAliphaticCarbocycles', 'NumHeteroatoms', 'NumValenceElectrons',\n",
    "       'RingCount', 'FractionCSP3', 'LabuteASA', 'BalabanJ', 'BertzCT', 'Ipc',\n",
    "       'HallKierAlpha', 'Kappa1', 'Kappa2', 'Kappa3', 'Chi0', 'Chi1', 'Chi0n',\n",
    "       'Chi1n', 'Chi2n', 'Chi3n', 'Chi4n', 'Chi0v', 'Chi1v', 'Chi2v', 'Chi3v',\n",
    "       'Chi4v', 'HeavyAtom', 'Gasteiger', 'Eccentricity',\n",
    "       'InertialShapeFactor', 'RadiusOfGyration', 'Asphericity',\n",
    "       'SpherocityIndex', 'PMI1', 'PMI2', 'PMI3', 'NPR1', 'NPR2',\n",
    "       'Superclass', 'Class', 'Subclass', 'Direct Parent'\n",
    "      ]"
   ]
  },
  {
   "cell_type": "code",
   "execution_count": 9,
   "id": "4d9d3561",
   "metadata": {},
   "outputs": [],
   "source": [
    "ind_X=odor.columns[6:59]\n",
    "X = odor[ind_X]\n",
    "y = odor['label']\n",
    "X_train, X_test, y_train, y_test = train_test_split(X, y, test_size=0.33, random_state=42) "
   ]
  },
  {
   "cell_type": "code",
   "execution_count": 14,
   "id": "47233ea3",
   "metadata": {},
   "outputs": [
    {
     "name": "stdout",
     "output_type": "stream",
     "text": [
      "==============================\n",
      "KNeighborsClassifier\n",
      "****Results****\n",
      "Accuracy: 34.2270%\n",
      "==============================\n",
      "KNeighborsClassifier\n",
      "****Results****\n",
      "Accuracy: 36.4611%\n",
      "==============================\n",
      "KNeighborsClassifier\n",
      "****Results****\n",
      "Accuracy: 38.5165%\n",
      "==============================\n",
      "KNeighborsClassifier\n",
      "****Results****\n",
      "Accuracy: 37.4441%\n",
      "==============================\n",
      "DecisionTreeClassifier\n",
      "****Results****\n",
      "Accuracy: 34.3164%\n",
      "==============================\n",
      "RandomForestClassifier\n",
      "****Results****\n",
      "Accuracy: 45.9339%\n",
      "==============================\n",
      "LinearDiscriminantAnalysis\n",
      "****Results****\n",
      "Accuracy: 47.2744%\n",
      "==============================\n",
      "Pipeline\n",
      "****Results****\n",
      "Accuracy: 45.1296%\n",
      "==============================\n",
      "SVC\n",
      "****Results****\n",
      "Accuracy: 32.7971%\n",
      "==============================\n"
     ]
    }
   ],
   "source": [
    "classifiers = [\n",
    "    KNeighborsClassifier(3),\n",
    "    KNeighborsClassifier(5),\n",
    "    KNeighborsClassifier(8),\n",
    "    KNeighborsClassifier(12),\n",
    "    DecisionTreeClassifier(),\n",
    "    RandomForestClassifier(),\n",
    "    LinearDiscriminantAnalysis(),\n",
    "    make_pipeline(StandardScaler(), SVC(gamma='auto')),\n",
    "    svm.SVC()\n",
    "    ]\n",
    "\n",
    "# Logging for Visual Comparison\n",
    "\n",
    "\n",
    "for clf in classifiers:\n",
    "    clf.fit(X_train, y_train)\n",
    "    name = clf.__class__.__name__\n",
    "    \n",
    "    print(\"=\"*30)\n",
    "    print(name)\n",
    "    \n",
    "    print('****Results****')\n",
    "    train_predictions = clf.predict(X_test)\n",
    "    acc = accuracy_score(y_test, train_predictions)\n",
    "    print(\"Accuracy: {:.4%}\".format(acc))\n",
    "      \n",
    "print(\"=\"*30)"
   ]
  },
  {
   "cell_type": "code",
   "execution_count": null,
   "id": "1667f65f",
   "metadata": {},
   "outputs": [],
   "source": []
  }
 ],
 "metadata": {
  "kernelspec": {
   "display_name": "Python 3",
   "language": "python",
   "name": "python3"
  },
  "language_info": {
   "codemirror_mode": {
    "name": "ipython",
    "version": 3
   },
   "file_extension": ".py",
   "mimetype": "text/x-python",
   "name": "python",
   "nbconvert_exporter": "python",
   "pygments_lexer": "ipython3",
   "version": "3.8.10"
  }
 },
 "nbformat": 4,
 "nbformat_minor": 5
}
