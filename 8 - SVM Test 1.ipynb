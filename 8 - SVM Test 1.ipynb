{
 "cells": [
  {
   "cell_type": "code",
   "execution_count": 1,
   "id": "fcc773cf",
   "metadata": {},
   "outputs": [],
   "source": [
    "## En realidad, antes de hacer todo esto, deberiamos definir el grupo de cada uno. Paara ello podemos hacer una formula con los pesos? "
   ]
  },
  {
   "cell_type": "code",
   "execution_count": 2,
   "id": "a00dd8fb",
   "metadata": {},
   "outputs": [],
   "source": [
    "import pandas as pd\n",
    "from sklearn import svm\n",
    "from sklearn.model_selection import train_test_split\n",
    "import seaborn as sns\n",
    "import numpy as np\n",
    "from scipy import stats\n",
    "import matplotlib.pyplot as plt"
   ]
  },
  {
   "cell_type": "code",
   "execution_count": 3,
   "id": "37ed5a76",
   "metadata": {},
   "outputs": [],
   "source": [
    "odor = pd.read_json('Data/odor_prop.json', lines=False, orient='records')"
   ]
  },
  {
   "cell_type": "code",
   "execution_count": 4,
   "id": "66f682b6",
   "metadata": {
    "scrolled": false
   },
   "outputs": [
    {
     "data": {
      "text/html": [
       "<div>\n",
       "<style scoped>\n",
       "    .dataframe tbody tr th:only-of-type {\n",
       "        vertical-align: middle;\n",
       "    }\n",
       "\n",
       "    .dataframe tbody tr th {\n",
       "        vertical-align: top;\n",
       "    }\n",
       "\n",
       "    .dataframe thead th {\n",
       "        text-align: right;\n",
       "    }\n",
       "</style>\n",
       "<table border=\"1\" class=\"dataframe\">\n",
       "  <thead>\n",
       "    <tr style=\"text-align: right;\">\n",
       "      <th></th>\n",
       "      <th>name</th>\n",
       "      <th>level</th>\n",
       "      <th>cid</th>\n",
       "      <th>label</th>\n",
       "      <th>smiles</th>\n",
       "      <th>TPSA</th>\n",
       "      <th>MolLogP</th>\n",
       "      <th>MolWt</th>\n",
       "      <th>ExactMolWt</th>\n",
       "      <th>MolMR</th>\n",
       "      <th>...</th>\n",
       "      <th>Class</th>\n",
       "      <th>Subclass</th>\n",
       "      <th>Intermediate Nodes</th>\n",
       "      <th>Direct Parent</th>\n",
       "      <th>Alternative Parents</th>\n",
       "      <th>Molecular Framework</th>\n",
       "      <th>Substituents</th>\n",
       "      <th>Structure-based description</th>\n",
       "      <th>Ancestors</th>\n",
       "      <th>External Descriptors</th>\n",
       "    </tr>\n",
       "  </thead>\n",
       "  <tbody>\n",
       "    <tr>\n",
       "      <th>0</th>\n",
       "      <td>alliaceous</td>\n",
       "      <td>third</td>\n",
       "      <td>139711</td>\n",
       "      <td>5</td>\n",
       "      <td>CCSC(C)SCC</td>\n",
       "      <td>0.00</td>\n",
       "      <td>2.8386</td>\n",
       "      <td>150.312</td>\n",
       "      <td>150.053692</td>\n",
       "      <td>45.726</td>\n",
       "      <td>...</td>\n",
       "      <td>Thioacetals</td>\n",
       "      <td>Dithioacetals</td>\n",
       "      <td></td>\n",
       "      <td>Dithioacetals</td>\n",
       "      <td>Sulfenyl compounds Dialkylthioethers Hydrocar...</td>\n",
       "      <td>Aliphatic acyclic compounds</td>\n",
       "      <td>Thioacetal Dialkylthioether Sulfenyl compound...</td>\n",
       "      <td>This compound belongs to the class of organic...</td>\n",
       "      <td>Chemical entities Dialkylthioethers Dithioace...</td>\n",
       "      <td></td>\n",
       "    </tr>\n",
       "    <tr>\n",
       "      <th>1</th>\n",
       "      <td>alliaceous</td>\n",
       "      <td>second</td>\n",
       "      <td>8030</td>\n",
       "      <td>5</td>\n",
       "      <td>C1=CSC=C1</td>\n",
       "      <td>0.00</td>\n",
       "      <td>1.7481</td>\n",
       "      <td>84.143</td>\n",
       "      <td>84.003371</td>\n",
       "      <td>24.319</td>\n",
       "      <td>...</td>\n",
       "      <td>None</td>\n",
       "      <td>None</td>\n",
       "      <td>None</td>\n",
       "      <td>None</td>\n",
       "      <td>None</td>\n",
       "      <td>None</td>\n",
       "      <td>None</td>\n",
       "      <td>None</td>\n",
       "      <td>None</td>\n",
       "      <td>None</td>\n",
       "    </tr>\n",
       "    <tr>\n",
       "      <th>2</th>\n",
       "      <td>alliaceous</td>\n",
       "      <td>second</td>\n",
       "      <td>521869</td>\n",
       "      <td>5</td>\n",
       "      <td>CCC(=O)SC</td>\n",
       "      <td>17.07</td>\n",
       "      <td>1.2860</td>\n",
       "      <td>104.174</td>\n",
       "      <td>104.029586</td>\n",
       "      <td>28.813</td>\n",
       "      <td>...</td>\n",
       "      <td>Thiocarboxylic acids and derivatives</td>\n",
       "      <td>Thioesters</td>\n",
       "      <td></td>\n",
       "      <td>Thioesters</td>\n",
       "      <td>Carbothioic S-esters Sulfenyl compounds Carbo...</td>\n",
       "      <td>Aliphatic acyclic compounds</td>\n",
       "      <td>Carbothioic s-ester Thiocarboxylic acid ester...</td>\n",
       "      <td>This compound belongs to the class of organic...</td>\n",
       "      <td>with the general structure RC(=S)XR' (R=H</td>\n",
       "      <td>alkyl</td>\n",
       "    </tr>\n",
       "  </tbody>\n",
       "</table>\n",
       "<p>3 rows × 73 columns</p>\n",
       "</div>"
      ],
      "text/plain": [
       "         name   level     cid  label      smiles   TPSA  MolLogP    MolWt  \\\n",
       "0  alliaceous   third  139711      5  CCSC(C)SCC   0.00   2.8386  150.312   \n",
       "1  alliaceous  second    8030      5   C1=CSC=C1   0.00   1.7481   84.143   \n",
       "2  alliaceous  second  521869      5   CCC(=O)SC  17.07   1.2860  104.174   \n",
       "\n",
       "   ExactMolWt   MolMR  ...                                  Class  \\\n",
       "0  150.053692  45.726  ...                            Thioacetals   \n",
       "1   84.003371  24.319  ...                                   None   \n",
       "2  104.029586  28.813  ...   Thiocarboxylic acids and derivatives   \n",
       "\n",
       "         Subclass  Intermediate Nodes   Direct Parent  \\\n",
       "0   Dithioacetals                       Dithioacetals   \n",
       "1            None                None            None   \n",
       "2      Thioesters                          Thioesters   \n",
       "\n",
       "                                 Alternative Parents  \\\n",
       "0   Sulfenyl compounds Dialkylthioethers Hydrocar...   \n",
       "1                                               None   \n",
       "2   Carbothioic S-esters Sulfenyl compounds Carbo...   \n",
       "\n",
       "            Molecular Framework  \\\n",
       "0   Aliphatic acyclic compounds   \n",
       "1                          None   \n",
       "2   Aliphatic acyclic compounds   \n",
       "\n",
       "                                        Substituents  \\\n",
       "0   Thioacetal Dialkylthioether Sulfenyl compound...   \n",
       "1                                               None   \n",
       "2   Carbothioic s-ester Thiocarboxylic acid ester...   \n",
       "\n",
       "                         Structure-based description  \\\n",
       "0   This compound belongs to the class of organic...   \n",
       "1                                               None   \n",
       "2   This compound belongs to the class of organic...   \n",
       "\n",
       "                                           Ancestors  External Descriptors  \n",
       "0   Chemical entities Dialkylthioethers Dithioace...                        \n",
       "1                                               None                  None  \n",
       "2          with the general structure RC(=S)XR' (R=H                 alkyl  \n",
       "\n",
       "[3 rows x 73 columns]"
      ]
     },
     "execution_count": 4,
     "metadata": {},
     "output_type": "execute_result"
    }
   ],
   "source": [
    "odor.head(3)"
   ]
  },
  {
   "cell_type": "markdown",
   "id": "ccdfec71",
   "metadata": {},
   "source": [
    "odor['level'] = odor['level'].map({'first':1 ,'second':1/2, 'third':1/3, 'fourth':1/4, 'fifth':1/5, 'sixth':1/6, 'seventh':1/7, 'eighth':1/8   }) \n",
    "odor.head(3)\n",
    "df=odor[['cid', 'label', 'level', 'name']]\n",
    "data=df.groupby(['cid','name'])['level'].apply(list)\n",
    "data\n",
    "for i in range(10):\n",
    "    print(data.index[i])\n",
    "    print(data.to_list()[i])\n",
    "df2=df.groupby(['cid','name'])['level'].apply(list).groupby('cid').apply(list)"
   ]
  },
  {
   "cell_type": "code",
   "execution_count": 4,
   "id": "eafad31b",
   "metadata": {},
   "outputs": [],
   "source": [
    "ind_X=odor.columns[5:58]"
   ]
  },
  {
   "cell_type": "code",
   "execution_count": 5,
   "id": "278342ce",
   "metadata": {},
   "outputs": [],
   "source": [
    "X = odor[ind_X]\n",
    "y = odor['label']\n",
    "X_train, X_test, y_train, y_test = train_test_split(X, y, test_size=0.33, random_state=42)"
   ]
  },
  {
   "cell_type": "code",
   "execution_count": 6,
   "id": "7332463c",
   "metadata": {},
   "outputs": [
    {
     "name": "stderr",
     "output_type": "stream",
     "text": [
      "C:\\Users\\nlupe\\miniconda3\\lib\\site-packages\\seaborn\\_decorators.py:36: FutureWarning: Pass the following variable as a keyword arg: x. From version 0.12, the only valid positional argument will be `data`, and passing other arguments without an explicit keyword will result in an error or misinterpretation.\n",
      "  warnings.warn(\n"
     ]
    },
    {
     "data": {
      "text/plain": [
       "<AxesSubplot:xlabel='label', ylabel='count'>"
      ]
     },
     "execution_count": 6,
     "metadata": {},
     "output_type": "execute_result"
    },
    {
     "data": {
      "image/png": "[encoded data removed]",
      "text/plain": [
       "<Figure size 432x288 with 1 Axes>"
      ]
     },
     "metadata": {
      "needs_background": "light"
     },
     "output_type": "display_data"
    }
   ],
   "source": [
    "sns.countplot(y_train)"
   ]
  },
  {
   "cell_type": "code",
   "execution_count": 7,
   "id": "baad2257",
   "metadata": {
    "scrolled": true
   },
   "outputs": [
    {
     "name": "stderr",
     "output_type": "stream",
     "text": [
      "C:\\Users\\nlupe\\miniconda3\\lib\\site-packages\\seaborn\\_decorators.py:36: FutureWarning: Pass the following variable as a keyword arg: x. From version 0.12, the only valid positional argument will be `data`, and passing other arguments without an explicit keyword will result in an error or misinterpretation.\n",
      "  warnings.warn(\n"
     ]
    },
    {
     "data": {
      "text/plain": [
       "<AxesSubplot:xlabel='label', ylabel='count'>"
      ]
     },
     "execution_count": 7,
     "metadata": {},
     "output_type": "execute_result"
    },
    {
     "data": {
      "image/png": "[encoded data removed]",
      "text/plain": [
       "<Figure size 432x288 with 1 Axes>"
      ]
     },
     "metadata": {
      "needs_background": "light"
     },
     "output_type": "display_data"
    }
   ],
   "source": [
    "sns.countplot(y_test)"
   ]
  },
  {
   "cell_type": "markdown",
   "id": "e6f7b61b",
   "metadata": {},
   "source": [
    "####  All"
   ]
  },
  {
   "cell_type": "code",
   "execution_count": 8,
   "id": "06914112",
   "metadata": {},
   "outputs": [
    {
     "data": {
      "text/plain": [
       "Pipeline(steps=[('standardscaler', StandardScaler()),\n",
       "                ('svc', SVC(gamma='auto'))])"
      ]
     },
     "execution_count": 8,
     "metadata": {},
     "output_type": "execute_result"
    }
   ],
   "source": [
    "from sklearn.pipeline import make_pipeline\n",
    "from sklearn.preprocessing import StandardScaler\n",
    "from sklearn.svm import SVC\n",
    "clf = make_pipeline(StandardScaler(), SVC(gamma='auto'))\n",
    "clf.fit(X_train, y_train)"
   ]
  },
  {
   "cell_type": "code",
   "execution_count": 9,
   "id": "dd17cdaf",
   "metadata": {},
   "outputs": [
    {
     "name": "stdout",
     "output_type": "stream",
     "text": [
      "Accuracy is: 0.3720404649160568\n"
     ]
    }
   ],
   "source": [
    "import warnings\n",
    "warnings.filterwarnings(\"ignore\")\n",
    "acc=0\n",
    "for i in range(len(X_train)):\n",
    "    a = clf.predict(np.array(X_train.iloc[i]).reshape(1, -1))\n",
    "    b = y_train.iloc[i]\n",
    "    if (a==[b]):\n",
    "        acc+=1\n",
    "print('Accuracy is:', acc/len(X_train))"
   ]
  },
  {
   "cell_type": "markdown",
   "id": "e9bb9ad6",
   "metadata": {},
   "source": [
    "#### First"
   ]
  },
  {
   "cell_type": "code",
   "execution_count": 5,
   "id": "2a5ab8e8",
   "metadata": {
    "scrolled": true
   },
   "outputs": [],
   "source": [
    "odor=odor[odor['level']=='first']\n",
    "odor.reset_index(drop=True, inplace=True)"
   ]
  },
  {
   "cell_type": "code",
   "execution_count": 6,
   "id": "e23f1541",
   "metadata": {
    "scrolled": true
   },
   "outputs": [],
   "source": [
    "mol=odor['cid'].value_counts()\n",
    "mols=mol.index[mol>1]"
   ]
  },
  {
   "cell_type": "code",
   "execution_count": 7,
   "id": "1554d776",
   "metadata": {},
   "outputs": [
    {
     "data": {
      "text/plain": [
       "Int64Index([   17100,  5357156, 10877566,  6438069, 14614417,      240,\n",
       "              113007, 71586808,  5352774, 15897831,\n",
       "            ...\n",
       "               22311,    75715,  1268142,  5362580,    89385,    27941,\n",
       "                7799,  9793841,   121777,     8187],\n",
       "           dtype='int64', length=215)"
      ]
     },
     "execution_count": 7,
     "metadata": {},
     "output_type": "execute_result"
    }
   ],
   "source": [
    "mols"
   ]
  },
  {
   "cell_type": "code",
   "execution_count": 8,
   "id": "4ea09900",
   "metadata": {},
   "outputs": [
    {
     "data": {
      "text/html": [
       "<div>\n",
       "<style scoped>\n",
       "    .dataframe tbody tr th:only-of-type {\n",
       "        vertical-align: middle;\n",
       "    }\n",
       "\n",
       "    .dataframe tbody tr th {\n",
       "        vertical-align: top;\n",
       "    }\n",
       "\n",
       "    .dataframe thead th {\n",
       "        text-align: right;\n",
       "    }\n",
       "</style>\n",
       "<table border=\"1\" class=\"dataframe\">\n",
       "  <thead>\n",
       "    <tr style=\"text-align: right;\">\n",
       "      <th></th>\n",
       "      <th>name</th>\n",
       "      <th>level</th>\n",
       "      <th>cid</th>\n",
       "      <th>label</th>\n",
       "      <th>smiles</th>\n",
       "      <th>TPSA</th>\n",
       "      <th>MolLogP</th>\n",
       "      <th>MolWt</th>\n",
       "      <th>ExactMolWt</th>\n",
       "      <th>MolMR</th>\n",
       "      <th>...</th>\n",
       "      <th>Class</th>\n",
       "      <th>Subclass</th>\n",
       "      <th>Intermediate Nodes</th>\n",
       "      <th>Direct Parent</th>\n",
       "      <th>Alternative Parents</th>\n",
       "      <th>Molecular Framework</th>\n",
       "      <th>Substituents</th>\n",
       "      <th>Structure-based description</th>\n",
       "      <th>Ancestors</th>\n",
       "      <th>External Descriptors</th>\n",
       "    </tr>\n",
       "  </thead>\n",
       "  <tbody>\n",
       "    <tr>\n",
       "      <th>0</th>\n",
       "      <td>geranium</td>\n",
       "      <td>first</td>\n",
       "      <td>53425201</td>\n",
       "      <td>2</td>\n",
       "      <td>CC1CC2C(C2(C)C)CC1=CCC#N</td>\n",
       "      <td>23.79</td>\n",
       "      <td>3.52858</td>\n",
       "      <td>189.302</td>\n",
       "      <td>189.151750</td>\n",
       "      <td>57.472</td>\n",
       "      <td>...</td>\n",
       "      <td>None</td>\n",
       "      <td>None</td>\n",
       "      <td>None</td>\n",
       "      <td>None</td>\n",
       "      <td>None</td>\n",
       "      <td>None</td>\n",
       "      <td>None</td>\n",
       "      <td>None</td>\n",
       "      <td>None</td>\n",
       "      <td>None</td>\n",
       "    </tr>\n",
       "    <tr>\n",
       "      <th>1</th>\n",
       "      <td>geranium</td>\n",
       "      <td>first</td>\n",
       "      <td>6437207</td>\n",
       "      <td>2</td>\n",
       "      <td>CCCCCCCCC(=O)OC/C=C(\\C)/CCC=C(C)C</td>\n",
       "      <td>26.30</td>\n",
       "      <td>5.97290</td>\n",
       "      <td>294.479</td>\n",
       "      <td>294.255880</td>\n",
       "      <td>91.374</td>\n",
       "      <td>...</td>\n",
       "      <td>None</td>\n",
       "      <td>None</td>\n",
       "      <td>None</td>\n",
       "      <td>None</td>\n",
       "      <td>None</td>\n",
       "      <td>None</td>\n",
       "      <td>None</td>\n",
       "      <td>None</td>\n",
       "      <td>None</td>\n",
       "      <td>None</td>\n",
       "    </tr>\n",
       "    <tr>\n",
       "      <th>2</th>\n",
       "      <td>geranium</td>\n",
       "      <td>first</td>\n",
       "      <td>121777</td>\n",
       "      <td>2</td>\n",
       "      <td>CC1CC(=C)CC(O1)C2=CC=CC=C2</td>\n",
       "      <td>9.23</td>\n",
       "      <td>3.48280</td>\n",
       "      <td>188.270</td>\n",
       "      <td>188.120115</td>\n",
       "      <td>58.104</td>\n",
       "      <td>...</td>\n",
       "      <td>None</td>\n",
       "      <td>None</td>\n",
       "      <td>None</td>\n",
       "      <td>None</td>\n",
       "      <td>None</td>\n",
       "      <td>None</td>\n",
       "      <td>None</td>\n",
       "      <td>None</td>\n",
       "      <td>None</td>\n",
       "      <td>None</td>\n",
       "    </tr>\n",
       "    <tr>\n",
       "      <th>3</th>\n",
       "      <td>geranium</td>\n",
       "      <td>first</td>\n",
       "      <td>6429343</td>\n",
       "      <td>2</td>\n",
       "      <td>CC/C=C\\CC(=O)C=C</td>\n",
       "      <td>17.07</td>\n",
       "      <td>2.09780</td>\n",
       "      <td>124.183</td>\n",
       "      <td>124.088815</td>\n",
       "      <td>39.252</td>\n",
       "      <td>...</td>\n",
       "      <td>None</td>\n",
       "      <td>None</td>\n",
       "      <td>None</td>\n",
       "      <td>None</td>\n",
       "      <td>None</td>\n",
       "      <td>None</td>\n",
       "      <td>None</td>\n",
       "      <td>None</td>\n",
       "      <td>None</td>\n",
       "      <td>None</td>\n",
       "    </tr>\n",
       "    <tr>\n",
       "      <th>4</th>\n",
       "      <td>geranium</td>\n",
       "      <td>first</td>\n",
       "      <td>95401</td>\n",
       "      <td>2</td>\n",
       "      <td>CCCCCCC1OCCC(O1)C</td>\n",
       "      <td>18.46</td>\n",
       "      <td>3.10830</td>\n",
       "      <td>186.295</td>\n",
       "      <td>186.161980</td>\n",
       "      <td>53.663</td>\n",
       "      <td>...</td>\n",
       "      <td>None</td>\n",
       "      <td>None</td>\n",
       "      <td>None</td>\n",
       "      <td>None</td>\n",
       "      <td>None</td>\n",
       "      <td>None</td>\n",
       "      <td>None</td>\n",
       "      <td>None</td>\n",
       "      <td>None</td>\n",
       "      <td>None</td>\n",
       "    </tr>\n",
       "    <tr>\n",
       "      <th>...</th>\n",
       "      <td>...</td>\n",
       "      <td>...</td>\n",
       "      <td>...</td>\n",
       "      <td>...</td>\n",
       "      <td>...</td>\n",
       "      <td>...</td>\n",
       "      <td>...</td>\n",
       "      <td>...</td>\n",
       "      <td>...</td>\n",
       "      <td>...</td>\n",
       "      <td>...</td>\n",
       "      <td>...</td>\n",
       "      <td>...</td>\n",
       "      <td>...</td>\n",
       "      <td>...</td>\n",
       "      <td>...</td>\n",
       "      <td>...</td>\n",
       "      <td>...</td>\n",
       "      <td>...</td>\n",
       "      <td>...</td>\n",
       "      <td>...</td>\n",
       "    </tr>\n",
       "    <tr>\n",
       "      <th>3630</th>\n",
       "      <td>apple</td>\n",
       "      <td>first</td>\n",
       "      <td>287439</td>\n",
       "      <td>1</td>\n",
       "      <td>CC(C)CC(=O)OC1CCCCC1</td>\n",
       "      <td>26.30</td>\n",
       "      <td>2.90840</td>\n",
       "      <td>184.279</td>\n",
       "      <td>184.146330</td>\n",
       "      <td>52.420</td>\n",
       "      <td>...</td>\n",
       "      <td>Fatty Acyls</td>\n",
       "      <td>Fatty acid esters</td>\n",
       "      <td></td>\n",
       "      <td>Fatty acid esters</td>\n",
       "      <td>Carboxylic acid esters Monocarboxylic acids a...</td>\n",
       "      <td>Aliphatic homomonocyclic compounds</td>\n",
       "      <td>Fatty acid ester Carboxylic acid ester Monoca...</td>\n",
       "      <td>This compound belongs to the class of organic...</td>\n",
       "      <td>Carbonyl compounds Carboxylic acid derivative...</td>\n",
       "      <td></td>\n",
       "    </tr>\n",
       "    <tr>\n",
       "      <th>3631</th>\n",
       "      <td>apple</td>\n",
       "      <td>first</td>\n",
       "      <td>5365069</td>\n",
       "      <td>1</td>\n",
       "      <td>CC/C=C\\CCOC(=O)C(C)CC</td>\n",
       "      <td>26.30</td>\n",
       "      <td>2.93200</td>\n",
       "      <td>184.279</td>\n",
       "      <td>184.146330</td>\n",
       "      <td>54.462</td>\n",
       "      <td>...</td>\n",
       "      <td>None</td>\n",
       "      <td>None</td>\n",
       "      <td>None</td>\n",
       "      <td>None</td>\n",
       "      <td>None</td>\n",
       "      <td>None</td>\n",
       "      <td>None</td>\n",
       "      <td>None</td>\n",
       "      <td>None</td>\n",
       "      <td>None</td>\n",
       "    </tr>\n",
       "    <tr>\n",
       "      <th>3632</th>\n",
       "      <td>apple</td>\n",
       "      <td>first</td>\n",
       "      <td>5352438</td>\n",
       "      <td>1</td>\n",
       "      <td>CCCC(=O)OCC/C=C\\CC</td>\n",
       "      <td>26.30</td>\n",
       "      <td>2.68600</td>\n",
       "      <td>170.252</td>\n",
       "      <td>170.130680</td>\n",
       "      <td>49.915</td>\n",
       "      <td>...</td>\n",
       "      <td>None</td>\n",
       "      <td>None</td>\n",
       "      <td>None</td>\n",
       "      <td>None</td>\n",
       "      <td>None</td>\n",
       "      <td>None</td>\n",
       "      <td>None</td>\n",
       "      <td>None</td>\n",
       "      <td>None</td>\n",
       "      <td>None</td>\n",
       "    </tr>\n",
       "    <tr>\n",
       "      <th>3633</th>\n",
       "      <td>apple</td>\n",
       "      <td>first</td>\n",
       "      <td>61177</td>\n",
       "      <td>1</td>\n",
       "      <td>CCCCCCOC=O</td>\n",
       "      <td>26.30</td>\n",
       "      <td>1.73970</td>\n",
       "      <td>130.187</td>\n",
       "      <td>130.099380</td>\n",
       "      <td>36.158</td>\n",
       "      <td>...</td>\n",
       "      <td>Carboxylic acids and derivatives</td>\n",
       "      <td>Carboxylic acid derivatives</td>\n",
       "      <td></td>\n",
       "      <td>Carboxylic acid esters</td>\n",
       "      <td>Monocarboxylic acids and derivatives Organic ...</td>\n",
       "      <td>Aliphatic acyclic compounds</td>\n",
       "      <td>Carboxylic acid ester Monocarboxylic acid or ...</td>\n",
       "      <td>This compound belongs to the class of organic...</td>\n",
       "      <td>Carbonyl compounds Carboxylic acid derivative...</td>\n",
       "      <td></td>\n",
       "    </tr>\n",
       "    <tr>\n",
       "      <th>3634</th>\n",
       "      <td>apple</td>\n",
       "      <td>first</td>\n",
       "      <td>11514</td>\n",
       "      <td>1</td>\n",
       "      <td>CC(C)CC(=O)OCC(C)C</td>\n",
       "      <td>26.30</td>\n",
       "      <td>2.23170</td>\n",
       "      <td>158.241</td>\n",
       "      <td>158.130680</td>\n",
       "      <td>45.252</td>\n",
       "      <td>...</td>\n",
       "      <td>None</td>\n",
       "      <td>None</td>\n",
       "      <td>None</td>\n",
       "      <td>None</td>\n",
       "      <td>None</td>\n",
       "      <td>None</td>\n",
       "      <td>None</td>\n",
       "      <td>None</td>\n",
       "      <td>None</td>\n",
       "      <td>None</td>\n",
       "    </tr>\n",
       "  </tbody>\n",
       "</table>\n",
       "<p>3635 rows × 73 columns</p>\n",
       "</div>"
      ],
      "text/plain": [
       "          name  level       cid  label                             smiles  \\\n",
       "0     geranium  first  53425201      2           CC1CC2C(C2(C)C)CC1=CCC#N   \n",
       "1     geranium  first   6437207      2  CCCCCCCCC(=O)OC/C=C(\\C)/CCC=C(C)C   \n",
       "2     geranium  first    121777      2         CC1CC(=C)CC(O1)C2=CC=CC=C2   \n",
       "3     geranium  first   6429343      2                   CC/C=C\\CC(=O)C=C   \n",
       "4     geranium  first     95401      2                  CCCCCCC1OCCC(O1)C   \n",
       "...        ...    ...       ...    ...                                ...   \n",
       "3630     apple  first    287439      1               CC(C)CC(=O)OC1CCCCC1   \n",
       "3631     apple  first   5365069      1              CC/C=C\\CCOC(=O)C(C)CC   \n",
       "3632     apple  first   5352438      1                 CCCC(=O)OCC/C=C\\CC   \n",
       "3633     apple  first     61177      1                         CCCCCCOC=O   \n",
       "3634     apple  first     11514      1                 CC(C)CC(=O)OCC(C)C   \n",
       "\n",
       "       TPSA  MolLogP    MolWt  ExactMolWt   MolMR  ...  \\\n",
       "0     23.79  3.52858  189.302  189.151750  57.472  ...   \n",
       "1     26.30  5.97290  294.479  294.255880  91.374  ...   \n",
       "2      9.23  3.48280  188.270  188.120115  58.104  ...   \n",
       "3     17.07  2.09780  124.183  124.088815  39.252  ...   \n",
       "4     18.46  3.10830  186.295  186.161980  53.663  ...   \n",
       "...     ...      ...      ...         ...     ...  ...   \n",
       "3630  26.30  2.90840  184.279  184.146330  52.420  ...   \n",
       "3631  26.30  2.93200  184.279  184.146330  54.462  ...   \n",
       "3632  26.30  2.68600  170.252  170.130680  49.915  ...   \n",
       "3633  26.30  1.73970  130.187  130.099380  36.158  ...   \n",
       "3634  26.30  2.23170  158.241  158.130680  45.252  ...   \n",
       "\n",
       "                                  Class                      Subclass  \\\n",
       "0                                  None                          None   \n",
       "1                                  None                          None   \n",
       "2                                  None                          None   \n",
       "3                                  None                          None   \n",
       "4                                  None                          None   \n",
       "...                                 ...                           ...   \n",
       "3630                        Fatty Acyls             Fatty acid esters   \n",
       "3631                               None                          None   \n",
       "3632                               None                          None   \n",
       "3633   Carboxylic acids and derivatives   Carboxylic acid derivatives   \n",
       "3634                               None                          None   \n",
       "\n",
       "      Intermediate Nodes            Direct Parent  \\\n",
       "0                   None                     None   \n",
       "1                   None                     None   \n",
       "2                   None                     None   \n",
       "3                   None                     None   \n",
       "4                   None                     None   \n",
       "...                  ...                      ...   \n",
       "3630                            Fatty acid esters   \n",
       "3631                None                     None   \n",
       "3632                None                     None   \n",
       "3633                       Carboxylic acid esters   \n",
       "3634                None                     None   \n",
       "\n",
       "                                    Alternative Parents  \\\n",
       "0                                                  None   \n",
       "1                                                  None   \n",
       "2                                                  None   \n",
       "3                                                  None   \n",
       "4                                                  None   \n",
       "...                                                 ...   \n",
       "3630   Carboxylic acid esters Monocarboxylic acids a...   \n",
       "3631                                               None   \n",
       "3632                                               None   \n",
       "3633   Monocarboxylic acids and derivatives Organic ...   \n",
       "3634                                               None   \n",
       "\n",
       "                      Molecular Framework  \\\n",
       "0                                    None   \n",
       "1                                    None   \n",
       "2                                    None   \n",
       "3                                    None   \n",
       "4                                    None   \n",
       "...                                   ...   \n",
       "3630   Aliphatic homomonocyclic compounds   \n",
       "3631                                 None   \n",
       "3632                                 None   \n",
       "3633          Aliphatic acyclic compounds   \n",
       "3634                                 None   \n",
       "\n",
       "                                           Substituents  \\\n",
       "0                                                  None   \n",
       "1                                                  None   \n",
       "2                                                  None   \n",
       "3                                                  None   \n",
       "4                                                  None   \n",
       "...                                                 ...   \n",
       "3630   Fatty acid ester Carboxylic acid ester Monoca...   \n",
       "3631                                               None   \n",
       "3632                                               None   \n",
       "3633   Carboxylic acid ester Monocarboxylic acid or ...   \n",
       "3634                                               None   \n",
       "\n",
       "                            Structure-based description  \\\n",
       "0                                                  None   \n",
       "1                                                  None   \n",
       "2                                                  None   \n",
       "3                                                  None   \n",
       "4                                                  None   \n",
       "...                                                 ...   \n",
       "3630   This compound belongs to the class of organic...   \n",
       "3631                                               None   \n",
       "3632                                               None   \n",
       "3633   This compound belongs to the class of organic...   \n",
       "3634                                               None   \n",
       "\n",
       "                                              Ancestors  External Descriptors  \n",
       "0                                                  None                  None  \n",
       "1                                                  None                  None  \n",
       "2                                                  None                  None  \n",
       "3                                                  None                  None  \n",
       "4                                                  None                  None  \n",
       "...                                                 ...                   ...  \n",
       "3630   Carbonyl compounds Carboxylic acid derivative...                        \n",
       "3631                                               None                  None  \n",
       "3632                                               None                  None  \n",
       "3633   Carbonyl compounds Carboxylic acid derivative...                        \n",
       "3634                                               None                  None  \n",
       "\n",
       "[3635 rows x 73 columns]"
      ]
     },
     "execution_count": 8,
     "metadata": {},
     "output_type": "execute_result"
    }
   ],
   "source": [
    "odor"
   ]
  },
  {
   "cell_type": "code",
   "execution_count": 9,
   "id": "28dcf9f4",
   "metadata": {
    "scrolled": false
   },
   "outputs": [],
   "source": [
    "groups=[]\n",
    "for i in range(len(odor)):\n",
    "    for mol in mols:\n",
    "        if odor['cid'][i] == mol:\n",
    "            g=np.max(odor[odor['cid']==mol]['label'])\n",
    "            groups.append([mol, g])"
   ]
  },
  {
   "cell_type": "code",
   "execution_count": 9,
   "id": "f25dbd73",
   "metadata": {},
   "outputs": [],
   "source": [
    "df=odor"
   ]
  },
  {
   "cell_type": "code",
   "execution_count": 11,
   "id": "9701914f",
   "metadata": {},
   "outputs": [
    {
     "ename": "KeyError",
     "evalue": "52",
     "output_type": "error",
     "traceback": [
      "\u001b[1;31m---------------------------------------------------------------------------\u001b[0m",
      "\u001b[1;31mKeyError\u001b[0m                                  Traceback (most recent call last)",
      "\u001b[1;32m~\\miniconda3\\lib\\site-packages\\pandas\\core\\indexes\\base.py\u001b[0m in \u001b[0;36mget_loc\u001b[1;34m(self, key, method, tolerance)\u001b[0m\n\u001b[0;32m   3360\u001b[0m             \u001b[1;32mtry\u001b[0m\u001b[1;33m:\u001b[0m\u001b[1;33m\u001b[0m\u001b[1;33m\u001b[0m\u001b[0m\n\u001b[1;32m-> 3361\u001b[1;33m                 \u001b[1;32mreturn\u001b[0m \u001b[0mself\u001b[0m\u001b[1;33m.\u001b[0m\u001b[0m_engine\u001b[0m\u001b[1;33m.\u001b[0m\u001b[0mget_loc\u001b[0m\u001b[1;33m(\u001b[0m\u001b[0mcasted_key\u001b[0m\u001b[1;33m)\u001b[0m\u001b[1;33m\u001b[0m\u001b[1;33m\u001b[0m\u001b[0m\n\u001b[0m\u001b[0;32m   3362\u001b[0m             \u001b[1;32mexcept\u001b[0m \u001b[0mKeyError\u001b[0m \u001b[1;32mas\u001b[0m \u001b[0merr\u001b[0m\u001b[1;33m:\u001b[0m\u001b[1;33m\u001b[0m\u001b[1;33m\u001b[0m\u001b[0m\n",
      "\u001b[1;32m~\\miniconda3\\lib\\site-packages\\pandas\\_libs\\index.pyx\u001b[0m in \u001b[0;36mpandas._libs.index.IndexEngine.get_loc\u001b[1;34m()\u001b[0m\n",
      "\u001b[1;32m~\\miniconda3\\lib\\site-packages\\pandas\\_libs\\index.pyx\u001b[0m in \u001b[0;36mpandas._libs.index.IndexEngine.get_loc\u001b[1;34m()\u001b[0m\n",
      "\u001b[1;32mpandas\\_libs\\hashtable_class_helper.pxi\u001b[0m in \u001b[0;36mpandas._libs.hashtable.Int64HashTable.get_item\u001b[1;34m()\u001b[0m\n",
      "\u001b[1;32mpandas\\_libs\\hashtable_class_helper.pxi\u001b[0m in \u001b[0;36mpandas._libs.hashtable.Int64HashTable.get_item\u001b[1;34m()\u001b[0m\n",
      "\u001b[1;31mKeyError\u001b[0m: 52",
      "\nThe above exception was the direct cause of the following exception:\n",
      "\u001b[1;31mKeyError\u001b[0m                                  Traceback (most recent call last)",
      "\u001b[1;32m~\\AppData\\Local\\Temp/ipykernel_14132/105360481.py\u001b[0m in \u001b[0;36m<module>\u001b[1;34m\u001b[0m\n\u001b[0;32m      1\u001b[0m \u001b[1;32mfor\u001b[0m \u001b[0mi\u001b[0m \u001b[1;32min\u001b[0m \u001b[0mrange\u001b[0m\u001b[1;33m(\u001b[0m\u001b[0mlen\u001b[0m\u001b[1;33m(\u001b[0m\u001b[0modor\u001b[0m\u001b[1;33m)\u001b[0m\u001b[1;33m)\u001b[0m\u001b[1;33m:\u001b[0m\u001b[1;33m\u001b[0m\u001b[1;33m\u001b[0m\u001b[0m\n\u001b[0;32m      2\u001b[0m     \u001b[1;32mfor\u001b[0m \u001b[0mmol\u001b[0m \u001b[1;32min\u001b[0m \u001b[0mgroups\u001b[0m\u001b[1;33m:\u001b[0m\u001b[1;33m\u001b[0m\u001b[1;33m\u001b[0m\u001b[0m\n\u001b[1;32m----> 3\u001b[1;33m         \u001b[1;32mif\u001b[0m \u001b[1;33m(\u001b[0m\u001b[0modor\u001b[0m\u001b[1;33m[\u001b[0m\u001b[1;34m'cid'\u001b[0m\u001b[1;33m]\u001b[0m\u001b[1;33m[\u001b[0m\u001b[0mi\u001b[0m\u001b[1;33m]\u001b[0m \u001b[1;33m==\u001b[0m \u001b[0mmol\u001b[0m\u001b[1;33m[\u001b[0m\u001b[1;36m0\u001b[0m\u001b[1;33m]\u001b[0m\u001b[1;33m)\u001b[0m\u001b[1;33m:\u001b[0m\u001b[1;33m\u001b[0m\u001b[1;33m\u001b[0m\u001b[0m\n\u001b[0m\u001b[0;32m      4\u001b[0m             \u001b[1;32mif\u001b[0m \u001b[0modor\u001b[0m\u001b[1;33m[\u001b[0m\u001b[1;34m'label'\u001b[0m\u001b[1;33m]\u001b[0m\u001b[1;33m[\u001b[0m\u001b[0mi\u001b[0m\u001b[1;33m]\u001b[0m\u001b[1;33m!=\u001b[0m\u001b[0mmol\u001b[0m\u001b[1;33m[\u001b[0m\u001b[1;36m1\u001b[0m\u001b[1;33m]\u001b[0m\u001b[1;33m:\u001b[0m\u001b[1;33m\u001b[0m\u001b[1;33m\u001b[0m\u001b[0m\n\u001b[0;32m      5\u001b[0m                 \u001b[0modor\u001b[0m\u001b[1;33m=\u001b[0m\u001b[0modor\u001b[0m\u001b[1;33m.\u001b[0m\u001b[0mdrop\u001b[0m\u001b[1;33m(\u001b[0m\u001b[0mi\u001b[0m\u001b[1;33m)\u001b[0m\u001b[1;33m\u001b[0m\u001b[1;33m\u001b[0m\u001b[0m\n",
      "\u001b[1;32m~\\miniconda3\\lib\\site-packages\\pandas\\core\\series.py\u001b[0m in \u001b[0;36m__getitem__\u001b[1;34m(self, key)\u001b[0m\n\u001b[0;32m    940\u001b[0m \u001b[1;33m\u001b[0m\u001b[0m\n\u001b[0;32m    941\u001b[0m         \u001b[1;32melif\u001b[0m \u001b[0mkey_is_scalar\u001b[0m\u001b[1;33m:\u001b[0m\u001b[1;33m\u001b[0m\u001b[1;33m\u001b[0m\u001b[0m\n\u001b[1;32m--> 942\u001b[1;33m             \u001b[1;32mreturn\u001b[0m \u001b[0mself\u001b[0m\u001b[1;33m.\u001b[0m\u001b[0m_get_value\u001b[0m\u001b[1;33m(\u001b[0m\u001b[0mkey\u001b[0m\u001b[1;33m)\u001b[0m\u001b[1;33m\u001b[0m\u001b[1;33m\u001b[0m\u001b[0m\n\u001b[0m\u001b[0;32m    943\u001b[0m \u001b[1;33m\u001b[0m\u001b[0m\n\u001b[0;32m    944\u001b[0m         \u001b[1;32mif\u001b[0m \u001b[0mis_hashable\u001b[0m\u001b[1;33m(\u001b[0m\u001b[0mkey\u001b[0m\u001b[1;33m)\u001b[0m\u001b[1;33m:\u001b[0m\u001b[1;33m\u001b[0m\u001b[1;33m\u001b[0m\u001b[0m\n",
      "\u001b[1;32m~\\miniconda3\\lib\\site-packages\\pandas\\core\\series.py\u001b[0m in \u001b[0;36m_get_value\u001b[1;34m(self, label, takeable)\u001b[0m\n\u001b[0;32m   1049\u001b[0m \u001b[1;33m\u001b[0m\u001b[0m\n\u001b[0;32m   1050\u001b[0m         \u001b[1;31m# Similar to Index.get_value, but we do not fall back to positional\u001b[0m\u001b[1;33m\u001b[0m\u001b[1;33m\u001b[0m\u001b[1;33m\u001b[0m\u001b[0m\n\u001b[1;32m-> 1051\u001b[1;33m         \u001b[0mloc\u001b[0m \u001b[1;33m=\u001b[0m \u001b[0mself\u001b[0m\u001b[1;33m.\u001b[0m\u001b[0mindex\u001b[0m\u001b[1;33m.\u001b[0m\u001b[0mget_loc\u001b[0m\u001b[1;33m(\u001b[0m\u001b[0mlabel\u001b[0m\u001b[1;33m)\u001b[0m\u001b[1;33m\u001b[0m\u001b[1;33m\u001b[0m\u001b[0m\n\u001b[0m\u001b[0;32m   1052\u001b[0m         \u001b[1;32mreturn\u001b[0m \u001b[0mself\u001b[0m\u001b[1;33m.\u001b[0m\u001b[0mindex\u001b[0m\u001b[1;33m.\u001b[0m\u001b[0m_get_values_for_loc\u001b[0m\u001b[1;33m(\u001b[0m\u001b[0mself\u001b[0m\u001b[1;33m,\u001b[0m \u001b[0mloc\u001b[0m\u001b[1;33m,\u001b[0m \u001b[0mlabel\u001b[0m\u001b[1;33m)\u001b[0m\u001b[1;33m\u001b[0m\u001b[1;33m\u001b[0m\u001b[0m\n\u001b[0;32m   1053\u001b[0m \u001b[1;33m\u001b[0m\u001b[0m\n",
      "\u001b[1;32m~\\miniconda3\\lib\\site-packages\\pandas\\core\\indexes\\base.py\u001b[0m in \u001b[0;36mget_loc\u001b[1;34m(self, key, method, tolerance)\u001b[0m\n\u001b[0;32m   3361\u001b[0m                 \u001b[1;32mreturn\u001b[0m \u001b[0mself\u001b[0m\u001b[1;33m.\u001b[0m\u001b[0m_engine\u001b[0m\u001b[1;33m.\u001b[0m\u001b[0mget_loc\u001b[0m\u001b[1;33m(\u001b[0m\u001b[0mcasted_key\u001b[0m\u001b[1;33m)\u001b[0m\u001b[1;33m\u001b[0m\u001b[1;33m\u001b[0m\u001b[0m\n\u001b[0;32m   3362\u001b[0m             \u001b[1;32mexcept\u001b[0m \u001b[0mKeyError\u001b[0m \u001b[1;32mas\u001b[0m \u001b[0merr\u001b[0m\u001b[1;33m:\u001b[0m\u001b[1;33m\u001b[0m\u001b[1;33m\u001b[0m\u001b[0m\n\u001b[1;32m-> 3363\u001b[1;33m                 \u001b[1;32mraise\u001b[0m \u001b[0mKeyError\u001b[0m\u001b[1;33m(\u001b[0m\u001b[0mkey\u001b[0m\u001b[1;33m)\u001b[0m \u001b[1;32mfrom\u001b[0m \u001b[0merr\u001b[0m\u001b[1;33m\u001b[0m\u001b[1;33m\u001b[0m\u001b[0m\n\u001b[0m\u001b[0;32m   3364\u001b[0m \u001b[1;33m\u001b[0m\u001b[0m\n\u001b[0;32m   3365\u001b[0m         \u001b[1;32mif\u001b[0m \u001b[0mis_scalar\u001b[0m\u001b[1;33m(\u001b[0m\u001b[0mkey\u001b[0m\u001b[1;33m)\u001b[0m \u001b[1;32mand\u001b[0m \u001b[0misna\u001b[0m\u001b[1;33m(\u001b[0m\u001b[0mkey\u001b[0m\u001b[1;33m)\u001b[0m \u001b[1;32mand\u001b[0m \u001b[1;32mnot\u001b[0m \u001b[0mself\u001b[0m\u001b[1;33m.\u001b[0m\u001b[0mhasnans\u001b[0m\u001b[1;33m:\u001b[0m\u001b[1;33m\u001b[0m\u001b[1;33m\u001b[0m\u001b[0m\n",
      "\u001b[1;31mKeyError\u001b[0m: 52"
     ]
    }
   ],
   "source": [
    "for i in range(len(odor)):\n",
    "    for mol in groups:\n",
    "        if (odor['cid'][i] == mol[0]):\n",
    "            if odor['label'][i]!=mol[1]:\n",
    "                odor=odor.drop(i)\n",
    "                odor.reset_index(drop=True, inplace=True)"
   ]
  },
  {
   "cell_type": "code",
   "execution_count": 13,
   "id": "4c632553",
   "metadata": {},
   "outputs": [
    {
     "data": {
      "text/html": [
       "<div>\n",
       "<style scoped>\n",
       "    .dataframe tbody tr th:only-of-type {\n",
       "        vertical-align: middle;\n",
       "    }\n",
       "\n",
       "    .dataframe tbody tr th {\n",
       "        vertical-align: top;\n",
       "    }\n",
       "\n",
       "    .dataframe thead th {\n",
       "        text-align: right;\n",
       "    }\n",
       "</style>\n",
       "<table border=\"1\" class=\"dataframe\">\n",
       "  <thead>\n",
       "    <tr style=\"text-align: right;\">\n",
       "      <th></th>\n",
       "      <th>name</th>\n",
       "      <th>level</th>\n",
       "      <th>cid</th>\n",
       "      <th>label</th>\n",
       "      <th>smiles</th>\n",
       "      <th>TPSA</th>\n",
       "      <th>MolLogP</th>\n",
       "      <th>MolWt</th>\n",
       "      <th>ExactMolWt</th>\n",
       "      <th>MolMR</th>\n",
       "      <th>...</th>\n",
       "      <th>Class</th>\n",
       "      <th>Subclass</th>\n",
       "      <th>Intermediate Nodes</th>\n",
       "      <th>Direct Parent</th>\n",
       "      <th>Alternative Parents</th>\n",
       "      <th>Molecular Framework</th>\n",
       "      <th>Substituents</th>\n",
       "      <th>Structure-based description</th>\n",
       "      <th>Ancestors</th>\n",
       "      <th>External Descriptors</th>\n",
       "    </tr>\n",
       "  </thead>\n",
       "  <tbody>\n",
       "    <tr>\n",
       "      <th>0</th>\n",
       "      <td>geranium</td>\n",
       "      <td>first</td>\n",
       "      <td>53425201</td>\n",
       "      <td>2</td>\n",
       "      <td>CC1CC2C(C2(C)C)CC1=CCC#N</td>\n",
       "      <td>23.79</td>\n",
       "      <td>3.52858</td>\n",
       "      <td>189.302</td>\n",
       "      <td>189.151750</td>\n",
       "      <td>57.472</td>\n",
       "      <td>...</td>\n",
       "      <td>None</td>\n",
       "      <td>None</td>\n",
       "      <td>None</td>\n",
       "      <td>None</td>\n",
       "      <td>None</td>\n",
       "      <td>None</td>\n",
       "      <td>None</td>\n",
       "      <td>None</td>\n",
       "      <td>None</td>\n",
       "      <td>None</td>\n",
       "    </tr>\n",
       "    <tr>\n",
       "      <th>1</th>\n",
       "      <td>geranium</td>\n",
       "      <td>first</td>\n",
       "      <td>6437207</td>\n",
       "      <td>2</td>\n",
       "      <td>CCCCCCCCC(=O)OC/C=C(\\C)/CCC=C(C)C</td>\n",
       "      <td>26.30</td>\n",
       "      <td>5.97290</td>\n",
       "      <td>294.479</td>\n",
       "      <td>294.255880</td>\n",
       "      <td>91.374</td>\n",
       "      <td>...</td>\n",
       "      <td>None</td>\n",
       "      <td>None</td>\n",
       "      <td>None</td>\n",
       "      <td>None</td>\n",
       "      <td>None</td>\n",
       "      <td>None</td>\n",
       "      <td>None</td>\n",
       "      <td>None</td>\n",
       "      <td>None</td>\n",
       "      <td>None</td>\n",
       "    </tr>\n",
       "    <tr>\n",
       "      <th>2</th>\n",
       "      <td>geranium</td>\n",
       "      <td>first</td>\n",
       "      <td>121777</td>\n",
       "      <td>2</td>\n",
       "      <td>CC1CC(=C)CC(O1)C2=CC=CC=C2</td>\n",
       "      <td>9.23</td>\n",
       "      <td>3.48280</td>\n",
       "      <td>188.270</td>\n",
       "      <td>188.120115</td>\n",
       "      <td>58.104</td>\n",
       "      <td>...</td>\n",
       "      <td>None</td>\n",
       "      <td>None</td>\n",
       "      <td>None</td>\n",
       "      <td>None</td>\n",
       "      <td>None</td>\n",
       "      <td>None</td>\n",
       "      <td>None</td>\n",
       "      <td>None</td>\n",
       "      <td>None</td>\n",
       "      <td>None</td>\n",
       "    </tr>\n",
       "    <tr>\n",
       "      <th>3</th>\n",
       "      <td>geranium</td>\n",
       "      <td>first</td>\n",
       "      <td>6429343</td>\n",
       "      <td>2</td>\n",
       "      <td>CC/C=C\\CC(=O)C=C</td>\n",
       "      <td>17.07</td>\n",
       "      <td>2.09780</td>\n",
       "      <td>124.183</td>\n",
       "      <td>124.088815</td>\n",
       "      <td>39.252</td>\n",
       "      <td>...</td>\n",
       "      <td>None</td>\n",
       "      <td>None</td>\n",
       "      <td>None</td>\n",
       "      <td>None</td>\n",
       "      <td>None</td>\n",
       "      <td>None</td>\n",
       "      <td>None</td>\n",
       "      <td>None</td>\n",
       "      <td>None</td>\n",
       "      <td>None</td>\n",
       "    </tr>\n",
       "    <tr>\n",
       "      <th>4</th>\n",
       "      <td>geranium</td>\n",
       "      <td>first</td>\n",
       "      <td>95401</td>\n",
       "      <td>2</td>\n",
       "      <td>CCCCCCC1OCCC(O1)C</td>\n",
       "      <td>18.46</td>\n",
       "      <td>3.10830</td>\n",
       "      <td>186.295</td>\n",
       "      <td>186.161980</td>\n",
       "      <td>53.663</td>\n",
       "      <td>...</td>\n",
       "      <td>None</td>\n",
       "      <td>None</td>\n",
       "      <td>None</td>\n",
       "      <td>None</td>\n",
       "      <td>None</td>\n",
       "      <td>None</td>\n",
       "      <td>None</td>\n",
       "      <td>None</td>\n",
       "      <td>None</td>\n",
       "      <td>None</td>\n",
       "    </tr>\n",
       "    <tr>\n",
       "      <th>...</th>\n",
       "      <td>...</td>\n",
       "      <td>...</td>\n",
       "      <td>...</td>\n",
       "      <td>...</td>\n",
       "      <td>...</td>\n",
       "      <td>...</td>\n",
       "      <td>...</td>\n",
       "      <td>...</td>\n",
       "      <td>...</td>\n",
       "      <td>...</td>\n",
       "      <td>...</td>\n",
       "      <td>...</td>\n",
       "      <td>...</td>\n",
       "      <td>...</td>\n",
       "      <td>...</td>\n",
       "      <td>...</td>\n",
       "      <td>...</td>\n",
       "      <td>...</td>\n",
       "      <td>...</td>\n",
       "      <td>...</td>\n",
       "      <td>...</td>\n",
       "    </tr>\n",
       "    <tr>\n",
       "      <th>3630</th>\n",
       "      <td>apple</td>\n",
       "      <td>first</td>\n",
       "      <td>287439</td>\n",
       "      <td>1</td>\n",
       "      <td>CC(C)CC(=O)OC1CCCCC1</td>\n",
       "      <td>26.30</td>\n",
       "      <td>2.90840</td>\n",
       "      <td>184.279</td>\n",
       "      <td>184.146330</td>\n",
       "      <td>52.420</td>\n",
       "      <td>...</td>\n",
       "      <td>Fatty Acyls</td>\n",
       "      <td>Fatty acid esters</td>\n",
       "      <td></td>\n",
       "      <td>Fatty acid esters</td>\n",
       "      <td>Carboxylic acid esters Monocarboxylic acids a...</td>\n",
       "      <td>Aliphatic homomonocyclic compounds</td>\n",
       "      <td>Fatty acid ester Carboxylic acid ester Monoca...</td>\n",
       "      <td>This compound belongs to the class of organic...</td>\n",
       "      <td>Carbonyl compounds Carboxylic acid derivative...</td>\n",
       "      <td></td>\n",
       "    </tr>\n",
       "    <tr>\n",
       "      <th>3631</th>\n",
       "      <td>apple</td>\n",
       "      <td>first</td>\n",
       "      <td>5365069</td>\n",
       "      <td>1</td>\n",
       "      <td>CC/C=C\\CCOC(=O)C(C)CC</td>\n",
       "      <td>26.30</td>\n",
       "      <td>2.93200</td>\n",
       "      <td>184.279</td>\n",
       "      <td>184.146330</td>\n",
       "      <td>54.462</td>\n",
       "      <td>...</td>\n",
       "      <td>None</td>\n",
       "      <td>None</td>\n",
       "      <td>None</td>\n",
       "      <td>None</td>\n",
       "      <td>None</td>\n",
       "      <td>None</td>\n",
       "      <td>None</td>\n",
       "      <td>None</td>\n",
       "      <td>None</td>\n",
       "      <td>None</td>\n",
       "    </tr>\n",
       "    <tr>\n",
       "      <th>3632</th>\n",
       "      <td>apple</td>\n",
       "      <td>first</td>\n",
       "      <td>5352438</td>\n",
       "      <td>1</td>\n",
       "      <td>CCCC(=O)OCC/C=C\\CC</td>\n",
       "      <td>26.30</td>\n",
       "      <td>2.68600</td>\n",
       "      <td>170.252</td>\n",
       "      <td>170.130680</td>\n",
       "      <td>49.915</td>\n",
       "      <td>...</td>\n",
       "      <td>None</td>\n",
       "      <td>None</td>\n",
       "      <td>None</td>\n",
       "      <td>None</td>\n",
       "      <td>None</td>\n",
       "      <td>None</td>\n",
       "      <td>None</td>\n",
       "      <td>None</td>\n",
       "      <td>None</td>\n",
       "      <td>None</td>\n",
       "    </tr>\n",
       "    <tr>\n",
       "      <th>3633</th>\n",
       "      <td>apple</td>\n",
       "      <td>first</td>\n",
       "      <td>61177</td>\n",
       "      <td>1</td>\n",
       "      <td>CCCCCCOC=O</td>\n",
       "      <td>26.30</td>\n",
       "      <td>1.73970</td>\n",
       "      <td>130.187</td>\n",
       "      <td>130.099380</td>\n",
       "      <td>36.158</td>\n",
       "      <td>...</td>\n",
       "      <td>Carboxylic acids and derivatives</td>\n",
       "      <td>Carboxylic acid derivatives</td>\n",
       "      <td></td>\n",
       "      <td>Carboxylic acid esters</td>\n",
       "      <td>Monocarboxylic acids and derivatives Organic ...</td>\n",
       "      <td>Aliphatic acyclic compounds</td>\n",
       "      <td>Carboxylic acid ester Monocarboxylic acid or ...</td>\n",
       "      <td>This compound belongs to the class of organic...</td>\n",
       "      <td>Carbonyl compounds Carboxylic acid derivative...</td>\n",
       "      <td></td>\n",
       "    </tr>\n",
       "    <tr>\n",
       "      <th>3634</th>\n",
       "      <td>apple</td>\n",
       "      <td>first</td>\n",
       "      <td>11514</td>\n",
       "      <td>1</td>\n",
       "      <td>CC(C)CC(=O)OCC(C)C</td>\n",
       "      <td>26.30</td>\n",
       "      <td>2.23170</td>\n",
       "      <td>158.241</td>\n",
       "      <td>158.130680</td>\n",
       "      <td>45.252</td>\n",
       "      <td>...</td>\n",
       "      <td>None</td>\n",
       "      <td>None</td>\n",
       "      <td>None</td>\n",
       "      <td>None</td>\n",
       "      <td>None</td>\n",
       "      <td>None</td>\n",
       "      <td>None</td>\n",
       "      <td>None</td>\n",
       "      <td>None</td>\n",
       "      <td>None</td>\n",
       "    </tr>\n",
       "  </tbody>\n",
       "</table>\n",
       "<p>3635 rows × 73 columns</p>\n",
       "</div>"
      ],
      "text/plain": [
       "          name  level       cid  label                             smiles  \\\n",
       "0     geranium  first  53425201      2           CC1CC2C(C2(C)C)CC1=CCC#N   \n",
       "1     geranium  first   6437207      2  CCCCCCCCC(=O)OC/C=C(\\C)/CCC=C(C)C   \n",
       "2     geranium  first    121777      2         CC1CC(=C)CC(O1)C2=CC=CC=C2   \n",
       "3     geranium  first   6429343      2                   CC/C=C\\CC(=O)C=C   \n",
       "4     geranium  first     95401      2                  CCCCCCC1OCCC(O1)C   \n",
       "...        ...    ...       ...    ...                                ...   \n",
       "3630     apple  first    287439      1               CC(C)CC(=O)OC1CCCCC1   \n",
       "3631     apple  first   5365069      1              CC/C=C\\CCOC(=O)C(C)CC   \n",
       "3632     apple  first   5352438      1                 CCCC(=O)OCC/C=C\\CC   \n",
       "3633     apple  first     61177      1                         CCCCCCOC=O   \n",
       "3634     apple  first     11514      1                 CC(C)CC(=O)OCC(C)C   \n",
       "\n",
       "       TPSA  MolLogP    MolWt  ExactMolWt   MolMR  ...  \\\n",
       "0     23.79  3.52858  189.302  189.151750  57.472  ...   \n",
       "1     26.30  5.97290  294.479  294.255880  91.374  ...   \n",
       "2      9.23  3.48280  188.270  188.120115  58.104  ...   \n",
       "3     17.07  2.09780  124.183  124.088815  39.252  ...   \n",
       "4     18.46  3.10830  186.295  186.161980  53.663  ...   \n",
       "...     ...      ...      ...         ...     ...  ...   \n",
       "3630  26.30  2.90840  184.279  184.146330  52.420  ...   \n",
       "3631  26.30  2.93200  184.279  184.146330  54.462  ...   \n",
       "3632  26.30  2.68600  170.252  170.130680  49.915  ...   \n",
       "3633  26.30  1.73970  130.187  130.099380  36.158  ...   \n",
       "3634  26.30  2.23170  158.241  158.130680  45.252  ...   \n",
       "\n",
       "                                  Class                      Subclass  \\\n",
       "0                                  None                          None   \n",
       "1                                  None                          None   \n",
       "2                                  None                          None   \n",
       "3                                  None                          None   \n",
       "4                                  None                          None   \n",
       "...                                 ...                           ...   \n",
       "3630                        Fatty Acyls             Fatty acid esters   \n",
       "3631                               None                          None   \n",
       "3632                               None                          None   \n",
       "3633   Carboxylic acids and derivatives   Carboxylic acid derivatives   \n",
       "3634                               None                          None   \n",
       "\n",
       "      Intermediate Nodes            Direct Parent  \\\n",
       "0                   None                     None   \n",
       "1                   None                     None   \n",
       "2                   None                     None   \n",
       "3                   None                     None   \n",
       "4                   None                     None   \n",
       "...                  ...                      ...   \n",
       "3630                            Fatty acid esters   \n",
       "3631                None                     None   \n",
       "3632                None                     None   \n",
       "3633                       Carboxylic acid esters   \n",
       "3634                None                     None   \n",
       "\n",
       "                                    Alternative Parents  \\\n",
       "0                                                  None   \n",
       "1                                                  None   \n",
       "2                                                  None   \n",
       "3                                                  None   \n",
       "4                                                  None   \n",
       "...                                                 ...   \n",
       "3630   Carboxylic acid esters Monocarboxylic acids a...   \n",
       "3631                                               None   \n",
       "3632                                               None   \n",
       "3633   Monocarboxylic acids and derivatives Organic ...   \n",
       "3634                                               None   \n",
       "\n",
       "                      Molecular Framework  \\\n",
       "0                                    None   \n",
       "1                                    None   \n",
       "2                                    None   \n",
       "3                                    None   \n",
       "4                                    None   \n",
       "...                                   ...   \n",
       "3630   Aliphatic homomonocyclic compounds   \n",
       "3631                                 None   \n",
       "3632                                 None   \n",
       "3633          Aliphatic acyclic compounds   \n",
       "3634                                 None   \n",
       "\n",
       "                                           Substituents  \\\n",
       "0                                                  None   \n",
       "1                                                  None   \n",
       "2                                                  None   \n",
       "3                                                  None   \n",
       "4                                                  None   \n",
       "...                                                 ...   \n",
       "3630   Fatty acid ester Carboxylic acid ester Monoca...   \n",
       "3631                                               None   \n",
       "3632                                               None   \n",
       "3633   Carboxylic acid ester Monocarboxylic acid or ...   \n",
       "3634                                               None   \n",
       "\n",
       "                            Structure-based description  \\\n",
       "0                                                  None   \n",
       "1                                                  None   \n",
       "2                                                  None   \n",
       "3                                                  None   \n",
       "4                                                  None   \n",
       "...                                                 ...   \n",
       "3630   This compound belongs to the class of organic...   \n",
       "3631                                               None   \n",
       "3632                                               None   \n",
       "3633   This compound belongs to the class of organic...   \n",
       "3634                                               None   \n",
       "\n",
       "                                              Ancestors  External Descriptors  \n",
       "0                                                  None                  None  \n",
       "1                                                  None                  None  \n",
       "2                                                  None                  None  \n",
       "3                                                  None                  None  \n",
       "4                                                  None                  None  \n",
       "...                                                 ...                   ...  \n",
       "3630   Carbonyl compounds Carboxylic acid derivative...                        \n",
       "3631                                               None                  None  \n",
       "3632                                               None                  None  \n",
       "3633   Carbonyl compounds Carboxylic acid derivative...                        \n",
       "3634                                               None                  None  \n",
       "\n",
       "[3635 rows x 73 columns]"
      ]
     },
     "execution_count": 13,
     "metadata": {},
     "output_type": "execute_result"
    }
   ],
   "source": [
    "df"
   ]
  },
  {
   "cell_type": "code",
   "execution_count": 250,
   "id": "dc091219",
   "metadata": {
    "scrolled": true
   },
   "outputs": [
    {
     "data": {
      "text/html": [
       "<div>\n",
       "<style scoped>\n",
       "    .dataframe tbody tr th:only-of-type {\n",
       "        vertical-align: middle;\n",
       "    }\n",
       "\n",
       "    .dataframe tbody tr th {\n",
       "        vertical-align: top;\n",
       "    }\n",
       "\n",
       "    .dataframe thead th {\n",
       "        text-align: right;\n",
       "    }\n",
       "</style>\n",
       "<table border=\"1\" class=\"dataframe\">\n",
       "  <thead>\n",
       "    <tr style=\"text-align: right;\">\n",
       "      <th></th>\n",
       "      <th>name</th>\n",
       "      <th>level</th>\n",
       "      <th>cid</th>\n",
       "      <th>label</th>\n",
       "      <th>smiles</th>\n",
       "      <th>TPSA</th>\n",
       "      <th>MolLogP</th>\n",
       "      <th>MolWt</th>\n",
       "      <th>ExactMolWt</th>\n",
       "      <th>MolMR</th>\n",
       "      <th>...</th>\n",
       "      <th>Class</th>\n",
       "      <th>Subclass</th>\n",
       "      <th>Intermediate Nodes</th>\n",
       "      <th>Direct Parent</th>\n",
       "      <th>Alternative Parents</th>\n",
       "      <th>Molecular Framework</th>\n",
       "      <th>Substituents</th>\n",
       "      <th>Structure-based description</th>\n",
       "      <th>Ancestors</th>\n",
       "      <th>External Descriptors</th>\n",
       "    </tr>\n",
       "  </thead>\n",
       "  <tbody>\n",
       "    <tr>\n",
       "      <th>122</th>\n",
       "      <td>woody</td>\n",
       "      <td>first</td>\n",
       "      <td>75715</td>\n",
       "      <td>2</td>\n",
       "      <td>CCOC1=C(C=CC(=C1)C)O</td>\n",
       "      <td>29.46</td>\n",
       "      <td>2.09932</td>\n",
       "      <td>152.193</td>\n",
       "      <td>152.08373</td>\n",
       "      <td>44.0128</td>\n",
       "      <td>...</td>\n",
       "      <td>None</td>\n",
       "      <td>None</td>\n",
       "      <td>None</td>\n",
       "      <td>None</td>\n",
       "      <td>None</td>\n",
       "      <td>None</td>\n",
       "      <td>None</td>\n",
       "      <td>None</td>\n",
       "      <td>None</td>\n",
       "      <td>None</td>\n",
       "    </tr>\n",
       "    <tr>\n",
       "      <th>407</th>\n",
       "      <td>vanilla</td>\n",
       "      <td>first</td>\n",
       "      <td>75715</td>\n",
       "      <td>1</td>\n",
       "      <td>CCOC1=C(C=CC(=C1)C)O</td>\n",
       "      <td>29.46</td>\n",
       "      <td>2.09932</td>\n",
       "      <td>152.193</td>\n",
       "      <td>152.08373</td>\n",
       "      <td>44.0128</td>\n",
       "      <td>...</td>\n",
       "      <td>None</td>\n",
       "      <td>None</td>\n",
       "      <td>None</td>\n",
       "      <td>None</td>\n",
       "      <td>None</td>\n",
       "      <td>None</td>\n",
       "      <td>None</td>\n",
       "      <td>None</td>\n",
       "      <td>None</td>\n",
       "      <td>None</td>\n",
       "    </tr>\n",
       "  </tbody>\n",
       "</table>\n",
       "<p>2 rows × 73 columns</p>\n",
       "</div>"
      ],
      "text/plain": [
       "        name  level    cid  label                smiles   TPSA  MolLogP  \\\n",
       "122    woody  first  75715      2  CCOC1=C(C=CC(=C1)C)O  29.46  2.09932   \n",
       "407  vanilla  first  75715      1  CCOC1=C(C=CC(=C1)C)O  29.46  2.09932   \n",
       "\n",
       "       MolWt  ExactMolWt    MolMR  ...  Class  Subclass  Intermediate Nodes  \\\n",
       "122  152.193   152.08373  44.0128  ...   None      None                None   \n",
       "407  152.193   152.08373  44.0128  ...   None      None                None   \n",
       "\n",
       "     Direct Parent  Alternative Parents  Molecular Framework  Substituents  \\\n",
       "122           None                 None                 None          None   \n",
       "407           None                 None                 None          None   \n",
       "\n",
       "     Structure-based description  Ancestors  External Descriptors  \n",
       "122                         None       None                  None  \n",
       "407                         None       None                  None  \n",
       "\n",
       "[2 rows x 73 columns]"
      ]
     },
     "execution_count": 250,
     "metadata": {},
     "output_type": "execute_result"
    }
   ],
   "source": [
    "odor[odor['cid']==75715]"
   ]
  },
  {
   "cell_type": "code",
   "execution_count": 237,
   "id": "53cd0c0b",
   "metadata": {},
   "outputs": [
    {
     "data": {
      "text/plain": [
       "17100       4\n",
       "5357156     3\n",
       "10877566    3\n",
       "6438069     3\n",
       "14614417    3\n",
       "           ..\n",
       "61988       1\n",
       "57658745    1\n",
       "30915       1\n",
       "32093       1\n",
       "11514       1\n",
       "Name: cid, Length: 3388, dtype: int64"
      ]
     },
     "execution_count": 237,
     "metadata": {},
     "output_type": "execute_result"
    }
   ],
   "source": [
    "odor['cid'].value_counts()"
   ]
  },
  {
   "cell_type": "code",
   "execution_count": null,
   "id": "7ff6ad0a",
   "metadata": {},
   "outputs": [],
   "source": [
    "# Para los cid repetidos, nos quedamos con el label más salido."
   ]
  },
  {
   "cell_type": "code",
   "execution_count": 11,
   "id": "904448f5",
   "metadata": {},
   "outputs": [],
   "source": [
    "ind_X=odor.columns[5:58]"
   ]
  },
  {
   "cell_type": "code",
   "execution_count": 12,
   "id": "17e04f3f",
   "metadata": {},
   "outputs": [],
   "source": [
    "X = odor[ind_X]\n",
    "y = odor['label']\n",
    "X_train, X_test, y_train, y_test = train_test_split(X, y, test_size=0.33, random_state=42)"
   ]
  },
  {
   "cell_type": "code",
   "execution_count": 13,
   "id": "3015e837",
   "metadata": {
    "scrolled": true
   },
   "outputs": [
    {
     "data": {
      "text/plain": [
       "<AxesSubplot:xlabel='label', ylabel='count'>"
      ]
     },
     "execution_count": 13,
     "metadata": {},
     "output_type": "execute_result"
    },
    {
     "data": {
      "image/png": "[encoded data removed]",
      "text/plain": [
       "<Figure size 432x288 with 1 Axes>"
      ]
     },
     "metadata": {
      "needs_background": "light"
     },
     "output_type": "display_data"
    }
   ],
   "source": [
    "sns.countplot(y_train)"
   ]
  },
  {
   "cell_type": "code",
   "execution_count": 14,
   "id": "a31c386b",
   "metadata": {},
   "outputs": [
    {
     "data": {
      "text/plain": [
       "<AxesSubplot:xlabel='label', ylabel='count'>"
      ]
     },
     "execution_count": 14,
     "metadata": {},
     "output_type": "execute_result"
    },
    {
     "data": {
      "image/png": "[encoded data removed]",
      "text/plain": [
       "<Figure size 432x288 with 1 Axes>"
      ]
     },
     "metadata": {
      "needs_background": "light"
     },
     "output_type": "display_data"
    }
   ],
   "source": [
    "sns.countplot(y_test)"
   ]
  },
  {
   "cell_type": "code",
   "execution_count": 15,
   "id": "904bb5c1",
   "metadata": {},
   "outputs": [
    {
     "data": {
      "text/plain": [
       "Pipeline(steps=[('standardscaler', StandardScaler()),\n",
       "                ('svc', SVC(gamma='auto'))])"
      ]
     },
     "execution_count": 15,
     "metadata": {},
     "output_type": "execute_result"
    }
   ],
   "source": [
    "from sklearn.pipeline import make_pipeline\n",
    "from sklearn.preprocessing import StandardScaler\n",
    "from sklearn.svm import SVC\n",
    "clf = make_pipeline(StandardScaler(), SVC(gamma='auto'))\n",
    "clf.fit(X_train, y_train)"
   ]
  },
  {
   "cell_type": "code",
   "execution_count": 16,
   "id": "84727f35",
   "metadata": {},
   "outputs": [
    {
     "name": "stdout",
     "output_type": "stream",
     "text": [
      "Accuracy is: 0.48254620123203285\n"
     ]
    }
   ],
   "source": [
    "import warnings\n",
    "warnings.filterwarnings(\"ignore\")\n",
    "acc=0\n",
    "for i in range(len(X_train)):\n",
    "    a = clf.predict(np.array(X_train.iloc[i]).reshape(1, -1))\n",
    "    b = y_train.iloc[i]\n",
    "    if (a==[b]):\n",
    "        acc+=1\n",
    "print('Accuracy is:', acc/len(X_train))"
   ]
  },
  {
   "cell_type": "markdown",
   "id": "88f8fcaf",
   "metadata": {},
   "source": [
    "#### Data Augmentation"
   ]
  },
  {
   "cell_type": "code",
   "execution_count": 17,
   "id": "18a22b31",
   "metadata": {
    "scrolled": false
   },
   "outputs": [
    {
     "data": {
      "text/plain": [
       "2    1245\n",
       "4     820\n",
       "1     455\n",
       "7     324\n",
       "0     308\n",
       "5     240\n",
       "6     179\n",
       "3      64\n",
       "Name: label, dtype: int64"
      ]
     },
     "execution_count": 17,
     "metadata": {},
     "output_type": "execute_result"
    },
    {
     "data": {
      "image/png": "[encoded data removed]",
      "text/plain": [
       "<Figure size 432x288 with 1 Axes>"
      ]
     },
     "metadata": {
      "needs_background": "light"
     },
     "output_type": "display_data"
    }
   ],
   "source": [
    "sns.countplot(odor['label'])\n",
    "odor['label'].value_counts()"
   ]
  },
  {
   "cell_type": "code",
   "execution_count": 18,
   "id": "a0a2a929",
   "metadata": {},
   "outputs": [],
   "source": [
    "ind_X=odor.columns[5:58]"
   ]
  },
  {
   "cell_type": "code",
   "execution_count": null,
   "id": "49f62013",
   "metadata": {},
   "outputs": [],
   "source": []
  },
  {
   "cell_type": "markdown",
   "id": "7f770dfd",
   "metadata": {},
   "source": [
    "#### Distribution"
   ]
  },
  {
   "cell_type": "code",
   "execution_count": 43,
   "id": "0563c4c3",
   "metadata": {
    "collapsed": true
   },
   "outputs": [
    {
     "data": {
      "image/png": "[encoded data removed]",
      "text/plain": [
       "<Figure size 432x288 with 1 Axes>"
      ]
     },
     "metadata": {
      "needs_background": "light"
     },
     "output_type": "display_data"
    },
    {
     "data": {
      "image/png": "[encoded data removed]",
      "text/plain": [
       "<Figure size 432x288 with 1 Axes>"
      ]
     },
     "metadata": {
      "needs_background": "light"
     },
     "output_type": "display_data"
    },
    {
     "data": {
      "image/png": "[encoded data removed]",
      "text/plain": [
       "<Figure size 432x288 with 1 Axes>"
      ]
     },
     "metadata": {
      "needs_background": "light"
     },
     "output_type": "display_data"
    },
    {
     "data": {
      "image/png": "[encoded data removed]",
      "text/plain": [
       "<Figure size 432x288 with 1 Axes>"
      ]
     },
     "metadata": {
      "needs_background": "light"
     },
     "output_type": "display_data"
    },
    {
     "data": {
      "image/png": "[encoded data removed]",
      "text/plain": [
       "<Figure size 432x288 with 1 Axes>"
      ]
     },
     "metadata": {
      "needs_background": "light"
     },
     "output_type": "display_data"
    },
    {
     "data": {
      "image/png": "[encoded data removed]",
      "text/plain": [
       "<Figure size 432x288 with 1 Axes>"
      ]
     },
     "metadata": {
      "needs_background": "light"
     },
     "output_type": "display_data"
    },
    {
     "data": {
      "image/png": "[encoded data removed]",
      "text/plain": [
       "<Figure size 432x288 with 1 Axes>"
      ]
     },
     "metadata": {
      "needs_background": "light"
     },
     "output_type": "display_data"
    },
    {
     "data": {
      "image/png": "[encoded data removed]",
      "text/plain": [
       "<Figure size 432x288 with 1 Axes>"
      ]
     },
     "metadata": {
      "needs_background": "light"
     },
     "output_type": "display_data"
    },
    {
     "data": {
      "image/png": "[encoded data removed]",
      "text/plain": [
       "<Figure size 432x288 with 1 Axes>"
      ]
     },
     "metadata": {
      "needs_background": "light"
     },
     "output_type": "display_data"
    },
    {
     "data": {
      "image/png": "[encoded data removed]",
      "text/plain": [
       "<Figure size 432x288 with 1 Axes>"
      ]
     },
     "metadata": {
      "needs_background": "light"
     },
     "output_type": "display_data"
    },
    {
     "data": {
      "image/png": "[encoded data removed]",
      "text/plain": [
       "<Figure size 432x288 with 1 Axes>"
      ]
     },
     "metadata": {
      "needs_background": "light"
     },
     "output_type": "display_data"
    },
    {
     "data": {
      "image/png": "[encoded data removed]",
      "text/plain": [
       "<Figure size 432x288 with 1 Axes>"
      ]
     },
     "metadata": {
      "needs_background": "light"
     },
     "output_type": "display_data"
    },
    {
     "data": {
      "image/png": "[encoded data removed]",
      "text/plain": [
       "<Figure size 432x288 with 1 Axes>"
      ]
     },
     "metadata": {
      "needs_background": "light"
     },
     "output_type": "display_data"
    },
    {
     "data": {
      "image/png": "[encoded data removed]",
      "text/plain": [
       "<Figure size 432x288 with 1 Axes>"
      ]
     },
     "metadata": {
      "needs_background": "light"
     },
     "output_type": "display_data"
    },
    {
     "data": {
      "image/png": "[encoded data removed]",
      "text/plain": [
       "<Figure size 432x288 with 1 Axes>"
      ]
     },
     "metadata": {
      "needs_background": "light"
     },
     "output_type": "display_data"
    },
    {
     "data": {
      "image/png": "[encoded data removed]",
      "text/plain": [
       "<Figure size 432x288 with 1 Axes>"
      ]
     },
     "metadata": {
      "needs_background": "light"
     },
     "output_type": "display_data"
    },
    {
     "data": {
      "image/png": "[encoded data removed]",
      "text/plain": [
       "<Figure size 432x288 with 1 Axes>"
      ]
     },
     "metadata": {
      "needs_background": "light"
     },
     "output_type": "display_data"
    },
    {
     "data": {
      "image/png": "[encoded data removed]",
      "text/plain": [
       "<Figure size 432x288 with 1 Axes>"
      ]
     },
     "metadata": {
      "needs_background": "light"
     },
     "output_type": "display_data"
    },
    {
     "data": {
      "image/png": "[encoded data removed]",
      "text/plain": [
       "<Figure size 432x288 with 1 Axes>"
      ]
     },
     "metadata": {
      "needs_background": "light"
     },
     "output_type": "display_data"
    },
    {
     "data": {
      "image/png": "[encoded data removed]",
      "text/plain": [
       "<Figure size 432x288 with 1 Axes>"
      ]
     },
     "metadata": {
      "needs_background": "light"
     },
     "output_type": "display_data"
    },
    {
     "data": {
      "image/png": "[encoded data removed]",
      "text/plain": [
       "<Figure size 432x288 with 1 Axes>"
      ]
     },
     "metadata": {
      "needs_background": "light"
     },
     "output_type": "display_data"
    },
    {
     "data": {
      "image/png": "[encoded data removed]",
      "text/plain": [
       "<Figure size 432x288 with 1 Axes>"
      ]
     },
     "metadata": {
      "needs_background": "light"
     },
     "output_type": "display_data"
    },
    {
     "data": {
      "image/png": "[encoded data removed]",
      "text/plain": [
       "<Figure size 432x288 with 1 Axes>"
      ]
     },
     "metadata": {
      "needs_background": "light"
     },
     "output_type": "display_data"
    },
    {
     "data": {
      "image/png": "[encoded data removed]",
      "text/plain": [
       "<Figure size 432x288 with 1 Axes>"
      ]
     },
     "metadata": {
      "needs_background": "light"
     },
     "output_type": "display_data"
    },
    {
     "data": {
      "image/png": "[encoded data removed]",
      "text/plain": [
       "<Figure size 432x288 with 1 Axes>"
      ]
     },
     "metadata": {
      "needs_background": "light"
     },
     "output_type": "display_data"
    },
    {
     "data": {
      "image/png": "[encoded data removed]",
      "text/plain": [
       "<Figure size 432x288 with 1 Axes>"
      ]
     },
     "metadata": {
      "needs_background": "light"
     },
     "output_type": "display_data"
    },
    {
     "data": {
      "image/png": "[encoded data removed]",
      "text/plain": [
       "<Figure size 432x288 with 1 Axes>"
      ]
     },
     "metadata": {
      "needs_background": "light"
     },
     "output_type": "display_data"
    },
    {
     "data": {
      "image/png": "[encoded data removed]",
      "text/plain": [
       "<Figure size 432x288 with 1 Axes>"
      ]
     },
     "metadata": {
      "needs_background": "light"
     },
     "output_type": "display_data"
    },
    {
     "data": {
      "image/png": "[encoded data removed]",
      "text/plain": [
       "<Figure size 432x288 with 1 Axes>"
      ]
     },
     "metadata": {
      "needs_background": "light"
     },
     "output_type": "display_data"
    },
    {
     "data": {
      "image/png": "[encoded data removed]",
      "text/plain": [
       "<Figure size 432x288 with 1 Axes>"
      ]
     },
     "metadata": {
      "needs_background": "light"
     },
     "output_type": "display_data"
    },
    {
     "data": {
      "image/png": "[encoded data removed]",
      "text/plain": [
       "<Figure size 432x288 with 1 Axes>"
      ]
     },
     "metadata": {
      "needs_background": "light"
     },
     "output_type": "display_data"
    },
    {
     "data": {
      "image/png": "[encoded data removed]",
      "text/plain": [
       "<Figure size 432x288 with 1 Axes>"
      ]
     },
     "metadata": {
      "needs_background": "light"
     },
     "output_type": "display_data"
    },
    {
     "data": {
      "image/png": "[encoded data removed]",
      "text/plain": [
       "<Figure size 432x288 with 1 Axes>"
      ]
     },
     "metadata": {
      "needs_background": "light"
     },
     "output_type": "display_data"
    },
    {
     "data": {
      "image/png": "[encoded data removed]",
      "text/plain": [
       "<Figure size 432x288 with 1 Axes>"
      ]
     },
     "metadata": {
      "needs_background": "light"
     },
     "output_type": "display_data"
    },
    {
     "data": {
      "image/png": "[encoded data removed]",
      "text/plain": [
       "<Figure size 432x288 with 1 Axes>"
      ]
     },
     "metadata": {
      "needs_background": "light"
     },
     "output_type": "display_data"
    },
    {
     "data": {
      "image/png": "[encoded data removed]",
      "text/plain": [
       "<Figure size 432x288 with 1 Axes>"
      ]
     },
     "metadata": {
      "needs_background": "light"
     },
     "output_type": "display_data"
    },
    {
     "data": {
      "image/png": "[encoded data removed]",
      "text/plain": [
       "<Figure size 432x288 with 1 Axes>"
      ]
     },
     "metadata": {
      "needs_background": "light"
     },
     "output_type": "display_data"
    },
    {
     "data": {
      "image/png": "[encoded data removed]",
      "text/plain": [
       "<Figure size 432x288 with 1 Axes>"
      ]
     },
     "metadata": {
      "needs_background": "light"
     },
     "output_type": "display_data"
    },
    {
     "data": {
      "image/png": "[encoded data removed]",
      "text/plain": [
       "<Figure size 432x288 with 1 Axes>"
      ]
     },
     "metadata": {
      "needs_background": "light"
     },
     "output_type": "display_data"
    },
    {
     "data": {
      "image/png": "[encoded data removed]",
      "text/plain": [
       "<Figure size 432x288 with 1 Axes>"
      ]
     },
     "metadata": {
      "needs_background": "light"
     },
     "output_type": "display_data"
    },
    {
     "data": {
      "image/png": "[encoded data removed]",
      "text/plain": [
       "<Figure size 432x288 with 1 Axes>"
      ]
     },
     "metadata": {
      "needs_background": "light"
     },
     "output_type": "display_data"
    },
    {
     "data": {
      "image/png": "[encoded data removed]",
      "text/plain": [
       "<Figure size 432x288 with 1 Axes>"
      ]
     },
     "metadata": {
      "needs_background": "light"
     },
     "output_type": "display_data"
    },
    {
     "data": {
      "image/png": "[encoded data removed]",
      "text/plain": [
       "<Figure size 432x288 with 1 Axes>"
      ]
     },
     "metadata": {
      "needs_background": "light"
     },
     "output_type": "display_data"
    },
    {
     "data": {
      "image/png": "[encoded data removed]",
      "text/plain": [
       "<Figure size 432x288 with 1 Axes>"
      ]
     },
     "metadata": {
      "needs_background": "light"
     },
     "output_type": "display_data"
    },
    {
     "data": {
      "image/png": "[encoded data removed]",
      "text/plain": [
       "<Figure size 432x288 with 1 Axes>"
      ]
     },
     "metadata": {
      "needs_background": "light"
     },
     "output_type": "display_data"
    },
    {
     "data": {
      "image/png": "[encoded data removed]",
      "text/plain": [
       "<Figure size 432x288 with 1 Axes>"
      ]
     },
     "metadata": {
      "needs_background": "light"
     },
     "output_type": "display_data"
    },
    {
     "data": {
      "image/png": "[encoded data removed]",
      "text/plain": [
       "<Figure size 432x288 with 1 Axes>"
      ]
     },
     "metadata": {
      "needs_background": "light"
     },
     "output_type": "display_data"
    },
    {
     "data": {
      "image/png": "[encoded data removed]",
      "text/plain": [
       "<Figure size 432x288 with 1 Axes>"
      ]
     },
     "metadata": {
      "needs_background": "light"
     },
     "output_type": "display_data"
    },
    {
     "data": {
      "image/png": "[encoded data removed]",
      "text/plain": [
       "<Figure size 432x288 with 1 Axes>"
      ]
     },
     "metadata": {
      "needs_background": "light"
     },
     "output_type": "display_data"
    },
    {
     "data": {
      "image/png": "[encoded data removed]",
      "text/plain": [
       "<Figure size 432x288 with 1 Axes>"
      ]
     },
     "metadata": {
      "needs_background": "light"
     },
     "output_type": "display_data"
    },
    {
     "data": {
      "image/png": "[encoded data removed]",
      "text/plain": [
       "<Figure size 432x288 with 1 Axes>"
      ]
     },
     "metadata": {
      "needs_background": "light"
     },
     "output_type": "display_data"
    },
    {
     "data": {
      "image/png": "[encoded data removed]",
      "text/plain": [
       "<Figure size 432x288 with 1 Axes>"
      ]
     },
     "metadata": {
      "needs_background": "light"
     },
     "output_type": "display_data"
    },
    {
     "data": {
      "image/png": "[encoded data removed]",
      "text/plain": [
       "<Figure size 432x288 with 1 Axes>"
      ]
     },
     "metadata": {
      "needs_background": "light"
     },
     "output_type": "display_data"
    }
   ],
   "source": [
    "for i in ind_X:\n",
    "    plt.hist(odor0[i])\n",
    "    plt.title('Histograma de la variable ' + str(i))\n",
    "    plt.xlabel(str(i))\n",
    "    plt.ylabel('Freqüència')\n",
    "    plt.show()"
   ]
  },
  {
   "cell_type": "markdown",
   "id": "8b7c4736",
   "metadata": {},
   "source": [
    "#### Label == 0"
   ]
  },
  {
   "cell_type": "code",
   "execution_count": 28,
   "id": "d930f755",
   "metadata": {
    "scrolled": true
   },
   "outputs": [],
   "source": [
    "odor0 = odor[odor['label']==0]\n",
    "df=odor0[ind_X]"
   ]
  },
  {
   "cell_type": "code",
   "execution_count": 35,
   "id": "84dc8d55",
   "metadata": {},
   "outputs": [
    {
     "data": {
      "text/plain": [
       "(array([132., 153.,  17.,   3.,   2.,   0.,   0.,   0.,   0.,   1.]),\n",
       " array([  0.   ,  20.622,  41.244,  61.866,  82.488, 103.11 , 123.732,\n",
       "        144.354, 164.976, 185.598, 206.22 ]),\n",
       " <BarContainer object of 10 artists>)"
      ]
     },
     "execution_count": 35,
     "metadata": {},
     "output_type": "execute_result"
    },
    {
     "data": {
      "image/png": "[encoded data removed]",
      "text/plain": [
       "<Figure size 432x288 with 1 Axes>"
      ]
     },
     "metadata": {
      "needs_background": "light"
     },
     "output_type": "display_data"
    }
   ],
   "source": []
  },
  {
   "cell_type": "code",
   "execution_count": null,
   "id": "20cc4ec9",
   "metadata": {},
   "outputs": [],
   "source": [
    "distribucion = stats.norm\n",
    "\n",
    "parametros = distribucion.fit(data=df)\n",
    "\n",
    "nombre_parametros = [p for p in inspect.signature(distribucion._pdf).parameters \\\n",
    "                     if not p=='x'] + [\"loc\",\"scale\"]\n",
    "parametros_dict = dict(zip(nombre_parametros, parametros))"
   ]
  },
  {
   "cell_type": "markdown",
   "id": "417c84a0",
   "metadata": {},
   "source": [
    "#### Label == 1"
   ]
  },
  {
   "cell_type": "markdown",
   "id": "f846a335",
   "metadata": {},
   "source": [
    "#### Label == 2"
   ]
  },
  {
   "cell_type": "code",
   "execution_count": 46,
   "id": "8c8952f0",
   "metadata": {
    "scrolled": true
   },
   "outputs": [
    {
     "data": {
      "text/html": [
       "<div>\n",
       "<style scoped>\n",
       "    .dataframe tbody tr th:only-of-type {\n",
       "        vertical-align: middle;\n",
       "    }\n",
       "\n",
       "    .dataframe tbody tr th {\n",
       "        vertical-align: top;\n",
       "    }\n",
       "\n",
       "    .dataframe thead th {\n",
       "        text-align: right;\n",
       "    }\n",
       "</style>\n",
       "<table border=\"1\" class=\"dataframe\">\n",
       "  <thead>\n",
       "    <tr style=\"text-align: right;\">\n",
       "      <th></th>\n",
       "      <th>name</th>\n",
       "      <th>level</th>\n",
       "      <th>cid</th>\n",
       "      <th>label</th>\n",
       "      <th>smiles</th>\n",
       "      <th>TPSA</th>\n",
       "      <th>MolLogP</th>\n",
       "      <th>MolWt</th>\n",
       "      <th>ExactMolWt</th>\n",
       "      <th>MolMR</th>\n",
       "      <th>...</th>\n",
       "      <th>Class</th>\n",
       "      <th>Subclass</th>\n",
       "      <th>Intermediate Nodes</th>\n",
       "      <th>Direct Parent</th>\n",
       "      <th>Alternative Parents</th>\n",
       "      <th>Molecular Framework</th>\n",
       "      <th>Substituents</th>\n",
       "      <th>Structure-based description</th>\n",
       "      <th>Ancestors</th>\n",
       "      <th>External Descriptors</th>\n",
       "    </tr>\n",
       "  </thead>\n",
       "  <tbody>\n",
       "    <tr>\n",
       "      <th>5088</th>\n",
       "      <td>orange</td>\n",
       "      <td>first</td>\n",
       "      <td>95016</td>\n",
       "      <td>2</td>\n",
       "      <td>CCCOC(=O)C1=CC=CC=C1N</td>\n",
       "      <td>52.32</td>\n",
       "      <td>1.83560</td>\n",
       "      <td>179.219</td>\n",
       "      <td>179.094629</td>\n",
       "      <td>51.4279</td>\n",
       "      <td>...</td>\n",
       "      <td>None</td>\n",
       "      <td>None</td>\n",
       "      <td>None</td>\n",
       "      <td>None</td>\n",
       "      <td>None</td>\n",
       "      <td>None</td>\n",
       "      <td>None</td>\n",
       "      <td>None</td>\n",
       "      <td>None</td>\n",
       "      <td>None</td>\n",
       "    </tr>\n",
       "    <tr>\n",
       "      <th>10222</th>\n",
       "      <td>floral</td>\n",
       "      <td>first</td>\n",
       "      <td>19165</td>\n",
       "      <td>2</td>\n",
       "      <td>CC1=CC(=CC=C1)OC2=CC=CC=C2</td>\n",
       "      <td>9.23</td>\n",
       "      <td>3.78732</td>\n",
       "      <td>184.238</td>\n",
       "      <td>184.088815</td>\n",
       "      <td>57.6950</td>\n",
       "      <td>...</td>\n",
       "      <td>None</td>\n",
       "      <td>None</td>\n",
       "      <td>None</td>\n",
       "      <td>None</td>\n",
       "      <td>None</td>\n",
       "      <td>None</td>\n",
       "      <td>None</td>\n",
       "      <td>None</td>\n",
       "      <td>None</td>\n",
       "      <td>None</td>\n",
       "    </tr>\n",
       "    <tr>\n",
       "      <th>5096</th>\n",
       "      <td>orange</td>\n",
       "      <td>first</td>\n",
       "      <td>16899</td>\n",
       "      <td>2</td>\n",
       "      <td>CCCCCC=CC=CC=O</td>\n",
       "      <td>17.07</td>\n",
       "      <td>2.87800</td>\n",
       "      <td>152.237</td>\n",
       "      <td>152.120115</td>\n",
       "      <td>48.4860</td>\n",
       "      <td>...</td>\n",
       "      <td>Organooxygen compounds</td>\n",
       "      <td>Carbonyl compounds</td>\n",
       "      <td>Aldehydes</td>\n",
       "      <td>Medium-chain aldehydes</td>\n",
       "      <td>Enals Organic oxides Hydrocarbon derivatives</td>\n",
       "      <td>Aliphatic acyclic compounds</td>\n",
       "      <td>Medium-chain aldehyde Enal Alpha</td>\n",
       "      <td>beta-unsaturated aldehyde Organic oxide Hydroc...</td>\n",
       "      <td>This compound belongs to the class of organic...</td>\n",
       "      <td>Aldehydes Alpha</td>\n",
       "    </tr>\n",
       "    <tr>\n",
       "      <th>6066</th>\n",
       "      <td>musk</td>\n",
       "      <td>first</td>\n",
       "      <td>66823518</td>\n",
       "      <td>2</td>\n",
       "      <td>CC1C/C=C/CCCCCCCCC(=O)C1</td>\n",
       "      <td>17.07</td>\n",
       "      <td>4.66240</td>\n",
       "      <td>222.372</td>\n",
       "      <td>222.198365</td>\n",
       "      <td>69.4810</td>\n",
       "      <td>...</td>\n",
       "      <td>None</td>\n",
       "      <td>None</td>\n",
       "      <td>None</td>\n",
       "      <td>None</td>\n",
       "      <td>None</td>\n",
       "      <td>None</td>\n",
       "      <td>None</td>\n",
       "      <td>None</td>\n",
       "      <td>None</td>\n",
       "      <td>None</td>\n",
       "    </tr>\n",
       "    <tr>\n",
       "      <th>6027</th>\n",
       "      <td>musk</td>\n",
       "      <td>first</td>\n",
       "      <td>174766</td>\n",
       "      <td>2</td>\n",
       "      <td>CC1=CC2=C(C(=C1C=O)OC)C(CCC2(C)C)(C)C</td>\n",
       "      <td>26.30</td>\n",
       "      <td>4.16512</td>\n",
       "      <td>260.377</td>\n",
       "      <td>260.177630</td>\n",
       "      <td>78.4045</td>\n",
       "      <td>...</td>\n",
       "      <td>None</td>\n",
       "      <td>None</td>\n",
       "      <td>None</td>\n",
       "      <td>None</td>\n",
       "      <td>None</td>\n",
       "      <td>None</td>\n",
       "      <td>None</td>\n",
       "      <td>None</td>\n",
       "      <td>None</td>\n",
       "      <td>None</td>\n",
       "    </tr>\n",
       "    <tr>\n",
       "      <th>...</th>\n",
       "      <td>...</td>\n",
       "      <td>...</td>\n",
       "      <td>...</td>\n",
       "      <td>...</td>\n",
       "      <td>...</td>\n",
       "      <td>...</td>\n",
       "      <td>...</td>\n",
       "      <td>...</td>\n",
       "      <td>...</td>\n",
       "      <td>...</td>\n",
       "      <td>...</td>\n",
       "      <td>...</td>\n",
       "      <td>...</td>\n",
       "      <td>...</td>\n",
       "      <td>...</td>\n",
       "      <td>...</td>\n",
       "      <td>...</td>\n",
       "      <td>...</td>\n",
       "      <td>...</td>\n",
       "      <td>...</td>\n",
       "      <td>...</td>\n",
       "    </tr>\n",
       "    <tr>\n",
       "      <th>10052</th>\n",
       "      <td>floral</td>\n",
       "      <td>first</td>\n",
       "      <td>61303</td>\n",
       "      <td>2</td>\n",
       "      <td>CCCCCCCCCCCCCC(=O)C</td>\n",
       "      <td>17.07</td>\n",
       "      <td>5.27650</td>\n",
       "      <td>226.404</td>\n",
       "      <td>226.229666</td>\n",
       "      <td>71.7590</td>\n",
       "      <td>...</td>\n",
       "      <td>None</td>\n",
       "      <td>None</td>\n",
       "      <td>None</td>\n",
       "      <td>None</td>\n",
       "      <td>None</td>\n",
       "      <td>None</td>\n",
       "      <td>None</td>\n",
       "      <td>None</td>\n",
       "      <td>None</td>\n",
       "      <td>None</td>\n",
       "    </tr>\n",
       "    <tr>\n",
       "      <th>6685</th>\n",
       "      <td>green</td>\n",
       "      <td>first</td>\n",
       "      <td>62375</td>\n",
       "      <td>2</td>\n",
       "      <td>COC(C1=CC=CC=C1)OC</td>\n",
       "      <td>18.46</td>\n",
       "      <td>1.97800</td>\n",
       "      <td>152.193</td>\n",
       "      <td>152.083730</td>\n",
       "      <td>43.2010</td>\n",
       "      <td>...</td>\n",
       "      <td>None</td>\n",
       "      <td>None</td>\n",
       "      <td>None</td>\n",
       "      <td>None</td>\n",
       "      <td>None</td>\n",
       "      <td>None</td>\n",
       "      <td>None</td>\n",
       "      <td>None</td>\n",
       "      <td>None</td>\n",
       "      <td>None</td>\n",
       "    </tr>\n",
       "    <tr>\n",
       "      <th>4084</th>\n",
       "      <td>green</td>\n",
       "      <td>first</td>\n",
       "      <td>87166</td>\n",
       "      <td>2</td>\n",
       "      <td>CCCCCCOCC(OC)OC</td>\n",
       "      <td>27.69</td>\n",
       "      <td>2.20220</td>\n",
       "      <td>190.283</td>\n",
       "      <td>190.156895</td>\n",
       "      <td>52.7670</td>\n",
       "      <td>...</td>\n",
       "      <td>Organooxygen compounds</td>\n",
       "      <td>Ethers</td>\n",
       "      <td></td>\n",
       "      <td>Acetals</td>\n",
       "      <td>Dialkyl ethers Hydrocarbon derivatives</td>\n",
       "      <td>Aliphatic acyclic compounds</td>\n",
       "      <td>Dialkyl ether Acetal Hydrocarbon derivative A...</td>\n",
       "      <td>This compound belongs to the class of organic...</td>\n",
       "      <td>the term was confined to derivatives of aldeh...</td>\n",
       "      <td>but it now applies equally to derivatives of ...</td>\n",
       "    </tr>\n",
       "    <tr>\n",
       "      <th>5165</th>\n",
       "      <td>green</td>\n",
       "      <td>first</td>\n",
       "      <td>44145641</td>\n",
       "      <td>2</td>\n",
       "      <td>CC1=C[C@H]2[C@@H]3C[C@H]([C@H]2C1)[C@H](C3=C)O...</td>\n",
       "      <td>26.30</td>\n",
       "      <td>2.70640</td>\n",
       "      <td>218.296</td>\n",
       "      <td>218.130680</td>\n",
       "      <td>61.6450</td>\n",
       "      <td>...</td>\n",
       "      <td>None</td>\n",
       "      <td>None</td>\n",
       "      <td>None</td>\n",
       "      <td>None</td>\n",
       "      <td>None</td>\n",
       "      <td>None</td>\n",
       "      <td>None</td>\n",
       "      <td>None</td>\n",
       "      <td>None</td>\n",
       "      <td>None</td>\n",
       "    </tr>\n",
       "    <tr>\n",
       "      <th>1576</th>\n",
       "      <td>woody</td>\n",
       "      <td>first</td>\n",
       "      <td>102562</td>\n",
       "      <td>2</td>\n",
       "      <td>CC1(CCC=C2C13CCC(C3)C2(C)C)C</td>\n",
       "      <td>0.00</td>\n",
       "      <td>4.55910</td>\n",
       "      <td>204.357</td>\n",
       "      <td>204.187801</td>\n",
       "      <td>64.6530</td>\n",
       "      <td>...</td>\n",
       "      <td>None</td>\n",
       "      <td>None</td>\n",
       "      <td>None</td>\n",
       "      <td>None</td>\n",
       "      <td>None</td>\n",
       "      <td>None</td>\n",
       "      <td>None</td>\n",
       "      <td>None</td>\n",
       "      <td>None</td>\n",
       "      <td>None</td>\n",
       "    </tr>\n",
       "  </tbody>\n",
       "</table>\n",
       "<p>510 rows × 73 columns</p>\n",
       "</div>"
      ],
      "text/plain": [
       "         name  level       cid  label  \\\n",
       "5088   orange  first     95016      2   \n",
       "10222  floral  first     19165      2   \n",
       "5096   orange  first     16899      2   \n",
       "6066     musk  first  66823518      2   \n",
       "6027     musk  first    174766      2   \n",
       "...       ...    ...       ...    ...   \n",
       "10052  floral  first     61303      2   \n",
       "6685    green  first     62375      2   \n",
       "4084    green  first     87166      2   \n",
       "5165    green  first  44145641      2   \n",
       "1576    woody  first    102562      2   \n",
       "\n",
       "                                                  smiles   TPSA  MolLogP  \\\n",
       "5088                               CCCOC(=O)C1=CC=CC=C1N  52.32  1.83560   \n",
       "10222                         CC1=CC(=CC=C1)OC2=CC=CC=C2   9.23  3.78732   \n",
       "5096                                      CCCCCC=CC=CC=O  17.07  2.87800   \n",
       "6066                            CC1C/C=C/CCCCCCCCC(=O)C1  17.07  4.66240   \n",
       "6027               CC1=CC2=C(C(=C1C=O)OC)C(CCC2(C)C)(C)C  26.30  4.16512   \n",
       "...                                                  ...    ...      ...   \n",
       "10052                                CCCCCCCCCCCCCC(=O)C  17.07  5.27650   \n",
       "6685                                  COC(C1=CC=CC=C1)OC  18.46  1.97800   \n",
       "4084                                     CCCCCCOCC(OC)OC  27.69  2.20220   \n",
       "5165   CC1=C[C@H]2[C@@H]3C[C@H]([C@H]2C1)[C@H](C3=C)O...  26.30  2.70640   \n",
       "1576                        CC1(CCC=C2C13CCC(C3)C2(C)C)C   0.00  4.55910   \n",
       "\n",
       "         MolWt  ExactMolWt    MolMR  ...                    Class  \\\n",
       "5088   179.219  179.094629  51.4279  ...                     None   \n",
       "10222  184.238  184.088815  57.6950  ...                     None   \n",
       "5096   152.237  152.120115  48.4860  ...   Organooxygen compounds   \n",
       "6066   222.372  222.198365  69.4810  ...                     None   \n",
       "6027   260.377  260.177630  78.4045  ...                     None   \n",
       "...        ...         ...      ...  ...                      ...   \n",
       "10052  226.404  226.229666  71.7590  ...                     None   \n",
       "6685   152.193  152.083730  43.2010  ...                     None   \n",
       "4084   190.283  190.156895  52.7670  ...   Organooxygen compounds   \n",
       "5165   218.296  218.130680  61.6450  ...                     None   \n",
       "1576   204.357  204.187801  64.6530  ...                     None   \n",
       "\n",
       "                  Subclass  Intermediate Nodes            Direct Parent  \\\n",
       "5088                  None                None                     None   \n",
       "10222                 None                None                     None   \n",
       "5096    Carbonyl compounds           Aldehydes   Medium-chain aldehydes   \n",
       "6066                  None                None                     None   \n",
       "6027                  None                None                     None   \n",
       "...                    ...                 ...                      ...   \n",
       "10052                 None                None                     None   \n",
       "6685                  None                None                     None   \n",
       "4084                Ethers                                      Acetals   \n",
       "5165                  None                None                     None   \n",
       "1576                  None                None                     None   \n",
       "\n",
       "                                 Alternative Parents  \\\n",
       "5088                                            None   \n",
       "10222                                           None   \n",
       "5096    Enals Organic oxides Hydrocarbon derivatives   \n",
       "6066                                            None   \n",
       "6027                                            None   \n",
       "...                                              ...   \n",
       "10052                                           None   \n",
       "6685                                            None   \n",
       "4084          Dialkyl ethers Hydrocarbon derivatives   \n",
       "5165                                            None   \n",
       "1576                                            None   \n",
       "\n",
       "                Molecular Framework  \\\n",
       "5088                           None   \n",
       "10222                          None   \n",
       "5096    Aliphatic acyclic compounds   \n",
       "6066                           None   \n",
       "6027                           None   \n",
       "...                             ...   \n",
       "10052                          None   \n",
       "6685                           None   \n",
       "4084    Aliphatic acyclic compounds   \n",
       "5165                           None   \n",
       "1576                           None   \n",
       "\n",
       "                                            Substituents  \\\n",
       "5088                                                None   \n",
       "10222                                               None   \n",
       "5096                    Medium-chain aldehyde Enal Alpha   \n",
       "6066                                                None   \n",
       "6027                                                None   \n",
       "...                                                  ...   \n",
       "10052                                               None   \n",
       "6685                                                None   \n",
       "4084    Dialkyl ether Acetal Hydrocarbon derivative A...   \n",
       "5165                                                None   \n",
       "1576                                                None   \n",
       "\n",
       "                             Structure-based description  \\\n",
       "5088                                                None   \n",
       "10222                                               None   \n",
       "5096   beta-unsaturated aldehyde Organic oxide Hydroc...   \n",
       "6066                                                None   \n",
       "6027                                                None   \n",
       "...                                                  ...   \n",
       "10052                                               None   \n",
       "6685                                                None   \n",
       "4084    This compound belongs to the class of organic...   \n",
       "5165                                                None   \n",
       "1576                                                None   \n",
       "\n",
       "                                               Ancestors  \\\n",
       "5088                                                None   \n",
       "10222                                               None   \n",
       "5096    This compound belongs to the class of organic...   \n",
       "6066                                                None   \n",
       "6027                                                None   \n",
       "...                                                  ...   \n",
       "10052                                               None   \n",
       "6685                                                None   \n",
       "4084    the term was confined to derivatives of aldeh...   \n",
       "5165                                                None   \n",
       "1576                                                None   \n",
       "\n",
       "                                    External Descriptors  \n",
       "5088                                                None  \n",
       "10222                                               None  \n",
       "5096                                     Aldehydes Alpha  \n",
       "6066                                                None  \n",
       "6027                                                None  \n",
       "...                                                  ...  \n",
       "10052                                               None  \n",
       "6685                                                None  \n",
       "4084    but it now applies equally to derivatives of ...  \n",
       "5165                                                None  \n",
       "1576                                                None  \n",
       "\n",
       "[510 rows x 73 columns]"
      ]
     },
     "execution_count": 46,
     "metadata": {},
     "output_type": "execute_result"
    }
   ],
   "source": [
    "odor[odor['label']==2].sample(frac=0.41)"
   ]
  },
  {
   "cell_type": "markdown",
   "id": "d42d5717",
   "metadata": {},
   "source": [
    "#### Label == 3"
   ]
  },
  {
   "cell_type": "code",
   "execution_count": null,
   "id": "b7644501",
   "metadata": {},
   "outputs": [],
   "source": []
  },
  {
   "cell_type": "markdown",
   "id": "3414c61a",
   "metadata": {},
   "source": [
    "#### Label == 4"
   ]
  },
  {
   "cell_type": "code",
   "execution_count": 40,
   "id": "f8bd43a9",
   "metadata": {
    "scrolled": true
   },
   "outputs": [
    {
     "data": {
      "text/html": [
       "<div>\n",
       "<style scoped>\n",
       "    .dataframe tbody tr th:only-of-type {\n",
       "        vertical-align: middle;\n",
       "    }\n",
       "\n",
       "    .dataframe tbody tr th {\n",
       "        vertical-align: top;\n",
       "    }\n",
       "\n",
       "    .dataframe thead th {\n",
       "        text-align: right;\n",
       "    }\n",
       "</style>\n",
       "<table border=\"1\" class=\"dataframe\">\n",
       "  <thead>\n",
       "    <tr style=\"text-align: right;\">\n",
       "      <th></th>\n",
       "      <th>name</th>\n",
       "      <th>level</th>\n",
       "      <th>cid</th>\n",
       "      <th>label</th>\n",
       "      <th>smiles</th>\n",
       "      <th>TPSA</th>\n",
       "      <th>MolLogP</th>\n",
       "      <th>MolWt</th>\n",
       "      <th>ExactMolWt</th>\n",
       "      <th>MolMR</th>\n",
       "      <th>...</th>\n",
       "      <th>Class</th>\n",
       "      <th>Subclass</th>\n",
       "      <th>Intermediate Nodes</th>\n",
       "      <th>Direct Parent</th>\n",
       "      <th>Alternative Parents</th>\n",
       "      <th>Molecular Framework</th>\n",
       "      <th>Substituents</th>\n",
       "      <th>Structure-based description</th>\n",
       "      <th>Ancestors</th>\n",
       "      <th>External Descriptors</th>\n",
       "    </tr>\n",
       "  </thead>\n",
       "  <tbody>\n",
       "    <tr>\n",
       "      <th>9232</th>\n",
       "      <td>fruity</td>\n",
       "      <td>first</td>\n",
       "      <td>5366038</td>\n",
       "      <td>4</td>\n",
       "      <td>CCCCCCOC(=O)/C=C/C</td>\n",
       "      <td>26.30</td>\n",
       "      <td>2.6860</td>\n",
       "      <td>170.252</td>\n",
       "      <td>170.130680</td>\n",
       "      <td>49.915</td>\n",
       "      <td>...</td>\n",
       "      <td>None</td>\n",
       "      <td>None</td>\n",
       "      <td>None</td>\n",
       "      <td>None</td>\n",
       "      <td>None</td>\n",
       "      <td>None</td>\n",
       "      <td>None</td>\n",
       "      <td>None</td>\n",
       "      <td>None</td>\n",
       "      <td>None</td>\n",
       "    </tr>\n",
       "    <tr>\n",
       "      <th>8361</th>\n",
       "      <td>fruity</td>\n",
       "      <td>first</td>\n",
       "      <td>78879</td>\n",
       "      <td>4</td>\n",
       "      <td>CC(=C)CCOC(=O)C</td>\n",
       "      <td>26.30</td>\n",
       "      <td>1.5157</td>\n",
       "      <td>128.171</td>\n",
       "      <td>128.083730</td>\n",
       "      <td>36.064</td>\n",
       "      <td>...</td>\n",
       "      <td>None</td>\n",
       "      <td>None</td>\n",
       "      <td>None</td>\n",
       "      <td>None</td>\n",
       "      <td>None</td>\n",
       "      <td>None</td>\n",
       "      <td>None</td>\n",
       "      <td>None</td>\n",
       "      <td>None</td>\n",
       "      <td>None</td>\n",
       "    </tr>\n",
       "    <tr>\n",
       "      <th>9113</th>\n",
       "      <td>fruity</td>\n",
       "      <td>first</td>\n",
       "      <td>61379</td>\n",
       "      <td>4</td>\n",
       "      <td>CCCCCCOC(=O)CCC1=CC=CC=C1</td>\n",
       "      <td>26.30</td>\n",
       "      <td>3.7427</td>\n",
       "      <td>234.339</td>\n",
       "      <td>234.161980</td>\n",
       "      <td>69.864</td>\n",
       "      <td>...</td>\n",
       "      <td>Fatty Acyls</td>\n",
       "      <td>Fatty acid esters</td>\n",
       "      <td></td>\n",
       "      <td>Fatty acid esters</td>\n",
       "      <td>Benzene and substituted derivatives Carboxyli...</td>\n",
       "      <td>Aromatic homomonocyclic compounds</td>\n",
       "      <td>Fatty acid ester Benzenoid Monocyclic benzene...</td>\n",
       "      <td>This compound belongs to the class of organic...</td>\n",
       "      <td>Benzene and substituted derivatives Benzenoid...</td>\n",
       "      <td></td>\n",
       "    </tr>\n",
       "    <tr>\n",
       "      <th>9307</th>\n",
       "      <td>fruity</td>\n",
       "      <td>first</td>\n",
       "      <td>24986</td>\n",
       "      <td>4</td>\n",
       "      <td>CCOC(=O)C1CC2CC1C=C2</td>\n",
       "      <td>26.30</td>\n",
       "      <td>1.7617</td>\n",
       "      <td>166.220</td>\n",
       "      <td>166.099380</td>\n",
       "      <td>45.477</td>\n",
       "      <td>...</td>\n",
       "      <td>Carboxylic acids and derivatives</td>\n",
       "      <td>Carboxylic acid derivatives</td>\n",
       "      <td></td>\n",
       "      <td>Carboxylic acid esters</td>\n",
       "      <td>Monocarboxylic acids and derivatives Organic ...</td>\n",
       "      <td>Aliphatic homopolycyclic compounds</td>\n",
       "      <td>Carboxylic acid ester Monocarboxylic acid or ...</td>\n",
       "      <td>This compound belongs to the class of organic...</td>\n",
       "      <td>Carbonyl compounds Carboxylic acid derivative...</td>\n",
       "      <td></td>\n",
       "    </tr>\n",
       "    <tr>\n",
       "      <th>9181</th>\n",
       "      <td>fruity</td>\n",
       "      <td>first</td>\n",
       "      <td>15701285</td>\n",
       "      <td>4</td>\n",
       "      <td>CCC(C)C(=O)C(=O)CC</td>\n",
       "      <td>34.14</td>\n",
       "      <td>1.5807</td>\n",
       "      <td>142.198</td>\n",
       "      <td>142.099380</td>\n",
       "      <td>39.760</td>\n",
       "      <td>...</td>\n",
       "      <td>Organooxygen compounds</td>\n",
       "      <td>Carbonyl compounds</td>\n",
       "      <td>Ketones</td>\n",
       "      <td>Alpha-diketones</td>\n",
       "      <td>Organic oxides Hydrocarbon derivatives</td>\n",
       "      <td>Aliphatic acyclic compounds</td>\n",
       "      <td>Alpha-diketone Organic oxide Hydrocarbon deri...</td>\n",
       "      <td>This compound belongs to the class of organic...</td>\n",
       "      <td>Alpha-diketones Carbonyl compounds Chemical e...</td>\n",
       "      <td></td>\n",
       "    </tr>\n",
       "    <tr>\n",
       "      <th>...</th>\n",
       "      <td>...</td>\n",
       "      <td>...</td>\n",
       "      <td>...</td>\n",
       "      <td>...</td>\n",
       "      <td>...</td>\n",
       "      <td>...</td>\n",
       "      <td>...</td>\n",
       "      <td>...</td>\n",
       "      <td>...</td>\n",
       "      <td>...</td>\n",
       "      <td>...</td>\n",
       "      <td>...</td>\n",
       "      <td>...</td>\n",
       "      <td>...</td>\n",
       "      <td>...</td>\n",
       "      <td>...</td>\n",
       "      <td>...</td>\n",
       "      <td>...</td>\n",
       "      <td>...</td>\n",
       "      <td>...</td>\n",
       "      <td>...</td>\n",
       "    </tr>\n",
       "    <tr>\n",
       "      <th>9222</th>\n",
       "      <td>fruity</td>\n",
       "      <td>first</td>\n",
       "      <td>6366072</td>\n",
       "      <td>4</td>\n",
       "      <td>CCCCCCOC(=O)C(C)/C=C/C</td>\n",
       "      <td>26.30</td>\n",
       "      <td>3.3221</td>\n",
       "      <td>198.306</td>\n",
       "      <td>198.161980</td>\n",
       "      <td>59.079</td>\n",
       "      <td>...</td>\n",
       "      <td>None</td>\n",
       "      <td>None</td>\n",
       "      <td>None</td>\n",
       "      <td>None</td>\n",
       "      <td>None</td>\n",
       "      <td>None</td>\n",
       "      <td>None</td>\n",
       "      <td>None</td>\n",
       "      <td>None</td>\n",
       "      <td>None</td>\n",
       "    </tr>\n",
       "    <tr>\n",
       "      <th>9093</th>\n",
       "      <td>fruity</td>\n",
       "      <td>first</td>\n",
       "      <td>61184</td>\n",
       "      <td>4</td>\n",
       "      <td>CCCC(=O)OC(C)C</td>\n",
       "      <td>26.30</td>\n",
       "      <td>1.7381</td>\n",
       "      <td>130.187</td>\n",
       "      <td>130.099380</td>\n",
       "      <td>36.136</td>\n",
       "      <td>...</td>\n",
       "      <td>Fatty Acyls</td>\n",
       "      <td>Fatty acid esters</td>\n",
       "      <td></td>\n",
       "      <td>Fatty acid esters</td>\n",
       "      <td>Carboxylic acid esters Monocarboxylic acids a...</td>\n",
       "      <td>Aliphatic acyclic compounds</td>\n",
       "      <td>Fatty acid ester Carboxylic acid ester Monoca...</td>\n",
       "      <td>This compound belongs to the class of organic...</td>\n",
       "      <td>Carbonyl compounds Carboxylic acid derivative...</td>\n",
       "      <td>Wax monoesters (LIPID MAPS</td>\n",
       "    </tr>\n",
       "    <tr>\n",
       "      <th>10632</th>\n",
       "      <td>fatty</td>\n",
       "      <td>first</td>\n",
       "      <td>441574</td>\n",
       "      <td>4</td>\n",
       "      <td>CCCCC[C@H]1CCC(=O)O1</td>\n",
       "      <td>26.30</td>\n",
       "      <td>2.2723</td>\n",
       "      <td>156.225</td>\n",
       "      <td>156.115030</td>\n",
       "      <td>43.256</td>\n",
       "      <td>...</td>\n",
       "      <td>None</td>\n",
       "      <td>None</td>\n",
       "      <td>None</td>\n",
       "      <td>None</td>\n",
       "      <td>None</td>\n",
       "      <td>None</td>\n",
       "      <td>None</td>\n",
       "      <td>None</td>\n",
       "      <td>None</td>\n",
       "      <td>None</td>\n",
       "    </tr>\n",
       "    <tr>\n",
       "      <th>10791</th>\n",
       "      <td>fatty</td>\n",
       "      <td>first</td>\n",
       "      <td>31278</td>\n",
       "      <td>4</td>\n",
       "      <td>CCCCCCCCCCCCCCCCCC(=O)OCCCC</td>\n",
       "      <td>26.30</td>\n",
       "      <td>7.5912</td>\n",
       "      <td>340.592</td>\n",
       "      <td>340.334131</td>\n",
       "      <td>105.413</td>\n",
       "      <td>...</td>\n",
       "      <td>Fatty Acyls</td>\n",
       "      <td>Fatty acid esters</td>\n",
       "      <td></td>\n",
       "      <td>Fatty acid esters</td>\n",
       "      <td>Carboxylic acid esters Monocarboxylic acids a...</td>\n",
       "      <td>Aliphatic acyclic compounds</td>\n",
       "      <td>Fatty acid ester Carboxylic acid ester Monoca...</td>\n",
       "      <td>This compound belongs to the class of organic...</td>\n",
       "      <td>Carbonyl compounds Carboxylic acid derivative...</td>\n",
       "      <td>fatty acid ester (CHEBI</td>\n",
       "    </tr>\n",
       "    <tr>\n",
       "      <th>9392</th>\n",
       "      <td>fruity</td>\n",
       "      <td>first</td>\n",
       "      <td>5355902</td>\n",
       "      <td>4</td>\n",
       "      <td>C/C(=C/C1=CC=CC=C1)/C(=O)C</td>\n",
       "      <td>17.07</td>\n",
       "      <td>2.6789</td>\n",
       "      <td>160.216</td>\n",
       "      <td>160.088815</td>\n",
       "      <td>50.774</td>\n",
       "      <td>...</td>\n",
       "      <td>None</td>\n",
       "      <td>None</td>\n",
       "      <td>None</td>\n",
       "      <td>None</td>\n",
       "      <td>None</td>\n",
       "      <td>None</td>\n",
       "      <td>None</td>\n",
       "      <td>None</td>\n",
       "      <td>None</td>\n",
       "      <td>None</td>\n",
       "    </tr>\n",
       "  </tbody>\n",
       "</table>\n",
       "<p>508 rows × 73 columns</p>\n",
       "</div>"
      ],
      "text/plain": [
       "         name  level       cid  label                       smiles   TPSA  \\\n",
       "9232   fruity  first   5366038      4           CCCCCCOC(=O)/C=C/C  26.30   \n",
       "8361   fruity  first     78879      4              CC(=C)CCOC(=O)C  26.30   \n",
       "9113   fruity  first     61379      4    CCCCCCOC(=O)CCC1=CC=CC=C1  26.30   \n",
       "9307   fruity  first     24986      4         CCOC(=O)C1CC2CC1C=C2  26.30   \n",
       "9181   fruity  first  15701285      4           CCC(C)C(=O)C(=O)CC  34.14   \n",
       "...       ...    ...       ...    ...                          ...    ...   \n",
       "9222   fruity  first   6366072      4       CCCCCCOC(=O)C(C)/C=C/C  26.30   \n",
       "9093   fruity  first     61184      4               CCCC(=O)OC(C)C  26.30   \n",
       "10632   fatty  first    441574      4         CCCCC[C@H]1CCC(=O)O1  26.30   \n",
       "10791   fatty  first     31278      4  CCCCCCCCCCCCCCCCCC(=O)OCCCC  26.30   \n",
       "9392   fruity  first   5355902      4   C/C(=C/C1=CC=CC=C1)/C(=O)C  17.07   \n",
       "\n",
       "       MolLogP    MolWt  ExactMolWt    MolMR  ...  \\\n",
       "9232    2.6860  170.252  170.130680   49.915  ...   \n",
       "8361    1.5157  128.171  128.083730   36.064  ...   \n",
       "9113    3.7427  234.339  234.161980   69.864  ...   \n",
       "9307    1.7617  166.220  166.099380   45.477  ...   \n",
       "9181    1.5807  142.198  142.099380   39.760  ...   \n",
       "...        ...      ...         ...      ...  ...   \n",
       "9222    3.3221  198.306  198.161980   59.079  ...   \n",
       "9093    1.7381  130.187  130.099380   36.136  ...   \n",
       "10632   2.2723  156.225  156.115030   43.256  ...   \n",
       "10791   7.5912  340.592  340.334131  105.413  ...   \n",
       "9392    2.6789  160.216  160.088815   50.774  ...   \n",
       "\n",
       "                                   Class                      Subclass  \\\n",
       "9232                                None                          None   \n",
       "8361                                None                          None   \n",
       "9113                         Fatty Acyls             Fatty acid esters   \n",
       "9307    Carboxylic acids and derivatives   Carboxylic acid derivatives   \n",
       "9181              Organooxygen compounds            Carbonyl compounds   \n",
       "...                                  ...                           ...   \n",
       "9222                                None                          None   \n",
       "9093                         Fatty Acyls             Fatty acid esters   \n",
       "10632                               None                          None   \n",
       "10791                        Fatty Acyls             Fatty acid esters   \n",
       "9392                                None                          None   \n",
       "\n",
       "       Intermediate Nodes            Direct Parent  \\\n",
       "9232                 None                     None   \n",
       "8361                 None                     None   \n",
       "9113                             Fatty acid esters   \n",
       "9307                        Carboxylic acid esters   \n",
       "9181              Ketones          Alpha-diketones   \n",
       "...                   ...                      ...   \n",
       "9222                 None                     None   \n",
       "9093                             Fatty acid esters   \n",
       "10632                None                     None   \n",
       "10791                            Fatty acid esters   \n",
       "9392                 None                     None   \n",
       "\n",
       "                                     Alternative Parents  \\\n",
       "9232                                                None   \n",
       "8361                                                None   \n",
       "9113    Benzene and substituted derivatives Carboxyli...   \n",
       "9307    Monocarboxylic acids and derivatives Organic ...   \n",
       "9181              Organic oxides Hydrocarbon derivatives   \n",
       "...                                                  ...   \n",
       "9222                                                None   \n",
       "9093    Carboxylic acid esters Monocarboxylic acids a...   \n",
       "10632                                               None   \n",
       "10791   Carboxylic acid esters Monocarboxylic acids a...   \n",
       "9392                                                None   \n",
       "\n",
       "                       Molecular Framework  \\\n",
       "9232                                  None   \n",
       "8361                                  None   \n",
       "9113     Aromatic homomonocyclic compounds   \n",
       "9307    Aliphatic homopolycyclic compounds   \n",
       "9181           Aliphatic acyclic compounds   \n",
       "...                                    ...   \n",
       "9222                                  None   \n",
       "9093           Aliphatic acyclic compounds   \n",
       "10632                                 None   \n",
       "10791          Aliphatic acyclic compounds   \n",
       "9392                                  None   \n",
       "\n",
       "                                            Substituents  \\\n",
       "9232                                                None   \n",
       "8361                                                None   \n",
       "9113    Fatty acid ester Benzenoid Monocyclic benzene...   \n",
       "9307    Carboxylic acid ester Monocarboxylic acid or ...   \n",
       "9181    Alpha-diketone Organic oxide Hydrocarbon deri...   \n",
       "...                                                  ...   \n",
       "9222                                                None   \n",
       "9093    Fatty acid ester Carboxylic acid ester Monoca...   \n",
       "10632                                               None   \n",
       "10791   Fatty acid ester Carboxylic acid ester Monoca...   \n",
       "9392                                                None   \n",
       "\n",
       "                             Structure-based description  \\\n",
       "9232                                                None   \n",
       "8361                                                None   \n",
       "9113    This compound belongs to the class of organic...   \n",
       "9307    This compound belongs to the class of organic...   \n",
       "9181    This compound belongs to the class of organic...   \n",
       "...                                                  ...   \n",
       "9222                                                None   \n",
       "9093    This compound belongs to the class of organic...   \n",
       "10632                                               None   \n",
       "10791   This compound belongs to the class of organic...   \n",
       "9392                                                None   \n",
       "\n",
       "                                               Ancestors  \\\n",
       "9232                                                None   \n",
       "8361                                                None   \n",
       "9113    Benzene and substituted derivatives Benzenoid...   \n",
       "9307    Carbonyl compounds Carboxylic acid derivative...   \n",
       "9181    Alpha-diketones Carbonyl compounds Chemical e...   \n",
       "...                                                  ...   \n",
       "9222                                                None   \n",
       "9093    Carbonyl compounds Carboxylic acid derivative...   \n",
       "10632                                               None   \n",
       "10791   Carbonyl compounds Carboxylic acid derivative...   \n",
       "9392                                                None   \n",
       "\n",
       "              External Descriptors  \n",
       "9232                          None  \n",
       "8361                          None  \n",
       "9113                                \n",
       "9307                                \n",
       "9181                                \n",
       "...                            ...  \n",
       "9222                          None  \n",
       "9093    Wax monoesters (LIPID MAPS  \n",
       "10632                         None  \n",
       "10791      fatty acid ester (CHEBI  \n",
       "9392                          None  \n",
       "\n",
       "[508 rows x 73 columns]"
      ]
     },
     "execution_count": 40,
     "metadata": {},
     "output_type": "execute_result"
    }
   ],
   "source": [
    "odor[odor['label']==4].sample(frac=0.62)"
   ]
  },
  {
   "cell_type": "markdown",
   "id": "231fbef1",
   "metadata": {},
   "source": [
    "#### Label == 5"
   ]
  },
  {
   "cell_type": "code",
   "execution_count": null,
   "id": "d332cc20",
   "metadata": {},
   "outputs": [],
   "source": []
  }
 ],
 "metadata": {
  "kernelspec": {
   "display_name": "Python 3 (ipykernel)",
   "language": "python",
   "name": "python3"
  },
  "language_info": {
   "codemirror_mode": {
    "name": "ipython",
    "version": 3
   },
   "file_extension": ".py",
   "mimetype": "text/x-python",
   "name": "python",
   "nbconvert_exporter": "python",
   "pygments_lexer": "ipython3",
   "version": "3.9.5"
  }
 },
 "nbformat": 4,
 "nbformat_minor": 5
}
