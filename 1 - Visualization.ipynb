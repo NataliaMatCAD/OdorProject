{
 "cells": [
  {
   "cell_type": "markdown",
   "id": "02d9af26",
   "metadata": {},
   "source": [
    "## Imports"
   ]
  },
  {
   "cell_type": "code",
   "execution_count": 2,
   "id": "2c1b3e69",
   "metadata": {},
   "outputs": [],
   "source": [
    "import pandas as pd\n",
    "import matplotlib.pyplot as plt\n",
    "import numpy as np\n",
    "import seaborn as sns"
   ]
  },
  {
   "cell_type": "markdown",
   "id": "c29cf584",
   "metadata": {},
   "source": [
    "## Data"
   ]
  },
  {
   "cell_type": "code",
   "execution_count": 3,
   "id": "0e7e954f",
   "metadata": {},
   "outputs": [],
   "source": [
    "odor = pd.read_json('odor_relations.json', lines=False, orient='records')"
   ]
  },
  {
   "cell_type": "code",
   "execution_count": 59,
   "id": "5d2fa91e",
   "metadata": {},
   "outputs": [],
   "source": [
    "#Borramos los duplicados y sobreescribimos la data\n",
    "#odor=odor.drop_duplicates()\n",
    "#odor.to_json (r'C:\\Users\\nlupe\\Desktop\\QUART CURS\\Pràctiques\\codigo\\odor_relations.json', lines=False, orient='records')"
   ]
  },
  {
   "cell_type": "code",
   "execution_count": 4,
   "id": "ba4990a9",
   "metadata": {},
   "outputs": [
    {
     "data": {
      "text/html": [
       "<div>\n",
       "<style scoped>\n",
       "    .dataframe tbody tr th:only-of-type {\n",
       "        vertical-align: middle;\n",
       "    }\n",
       "\n",
       "    .dataframe tbody tr th {\n",
       "        vertical-align: top;\n",
       "    }\n",
       "\n",
       "    .dataframe thead th {\n",
       "        text-align: right;\n",
       "    }\n",
       "</style>\n",
       "<table border=\"1\" class=\"dataframe\">\n",
       "  <thead>\n",
       "    <tr style=\"text-align: right;\">\n",
       "      <th></th>\n",
       "      <th>name</th>\n",
       "      <th>level</th>\n",
       "      <th>cid</th>\n",
       "    </tr>\n",
       "  </thead>\n",
       "  <tbody>\n",
       "    <tr>\n",
       "      <th>0</th>\n",
       "      <td>ambergris</td>\n",
       "      <td>first</td>\n",
       "      <td>163259</td>\n",
       "    </tr>\n",
       "    <tr>\n",
       "      <th>1</th>\n",
       "      <td>ambergris</td>\n",
       "      <td>first</td>\n",
       "      <td>643723</td>\n",
       "    </tr>\n",
       "    <tr>\n",
       "      <th>2</th>\n",
       "      <td>ambergris</td>\n",
       "      <td>first</td>\n",
       "      <td>162452</td>\n",
       "    </tr>\n",
       "    <tr>\n",
       "      <th>3</th>\n",
       "      <td>alcoholic</td>\n",
       "      <td>first</td>\n",
       "      <td>887</td>\n",
       "    </tr>\n",
       "    <tr>\n",
       "      <th>4</th>\n",
       "      <td>alcoholic</td>\n",
       "      <td>first</td>\n",
       "      <td>7358</td>\n",
       "    </tr>\n",
       "  </tbody>\n",
       "</table>\n",
       "</div>"
      ],
      "text/plain": [
       "        name  level     cid\n",
       "0  ambergris  first  163259\n",
       "1  ambergris  first  643723\n",
       "2  ambergris  first  162452\n",
       "3  alcoholic  first     887\n",
       "4  alcoholic  first    7358"
      ]
     },
     "execution_count": 4,
     "metadata": {},
     "output_type": "execute_result"
    }
   ],
   "source": [
    "odor.head()"
   ]
  },
  {
   "cell_type": "code",
   "execution_count": 20,
   "id": "202554ae",
   "metadata": {},
   "outputs": [
    {
     "name": "stdout",
     "output_type": "stream",
     "text": [
      "name     0\n",
      "level    0\n",
      "cid      0\n",
      "dtype: int64\n"
     ]
    }
   ],
   "source": [
    "# Nulos\n",
    "print(odor.isnull().sum())"
   ]
  },
  {
   "cell_type": "code",
   "execution_count": 5,
   "id": "ce4c0e21",
   "metadata": {},
   "outputs": [
    {
     "data": {
      "text/html": [
       "<div>\n",
       "<style scoped>\n",
       "    .dataframe tbody tr th:only-of-type {\n",
       "        vertical-align: middle;\n",
       "    }\n",
       "\n",
       "    .dataframe tbody tr th {\n",
       "        vertical-align: top;\n",
       "    }\n",
       "\n",
       "    .dataframe thead th {\n",
       "        text-align: right;\n",
       "    }\n",
       "</style>\n",
       "<table border=\"1\" class=\"dataframe\">\n",
       "  <thead>\n",
       "    <tr style=\"text-align: right;\">\n",
       "      <th></th>\n",
       "      <th>name</th>\n",
       "      <th>level</th>\n",
       "      <th>cid</th>\n",
       "    </tr>\n",
       "  </thead>\n",
       "  <tbody>\n",
       "    <tr>\n",
       "      <th>count</th>\n",
       "      <td>18129</td>\n",
       "      <td>18129</td>\n",
       "      <td>18129</td>\n",
       "    </tr>\n",
       "    <tr>\n",
       "      <th>unique</th>\n",
       "      <td>504</td>\n",
       "      <td>8</td>\n",
       "      <td>3827</td>\n",
       "    </tr>\n",
       "    <tr>\n",
       "      <th>top</th>\n",
       "      <td>fruity</td>\n",
       "      <td>first</td>\n",
       "      <td>8842</td>\n",
       "    </tr>\n",
       "    <tr>\n",
       "      <th>freq</th>\n",
       "      <td>1159</td>\n",
       "      <td>4463</td>\n",
       "      <td>17</td>\n",
       "    </tr>\n",
       "  </tbody>\n",
       "</table>\n",
       "</div>"
      ],
      "text/plain": [
       "          name  level    cid\n",
       "count    18129  18129  18129\n",
       "unique     504      8   3827\n",
       "top     fruity  first   8842\n",
       "freq      1159   4463     17"
      ]
     },
     "execution_count": 5,
     "metadata": {},
     "output_type": "execute_result"
    }
   ],
   "source": [
    "odor.describe()"
   ]
  },
  {
   "cell_type": "code",
   "execution_count": 10,
   "id": "fcef8073",
   "metadata": {
    "scrolled": true
   },
   "outputs": [
    {
     "name": "stderr",
     "output_type": "stream",
     "text": [
      "C:\\Users\\nlupe\\miniconda3\\lib\\site-packages\\seaborn\\_decorators.py:36: FutureWarning: Pass the following variable as a keyword arg: x. From version 0.12, the only valid positional argument will be `data`, and passing other arguments without an explicit keyword will result in an error or misinterpretation.\n",
      "  warnings.warn(\n"
     ]
    },
    {
     "data": {
      "text/plain": [
       "first      4463\n",
       "second     3609\n",
       "third      3143\n",
       "fourth     2477\n",
       "fifth      1863\n",
       "sixth      1296\n",
       "seventh     820\n",
       "eighth      458\n",
       "Name: level, dtype: int64"
      ]
     },
     "execution_count": 10,
     "metadata": {},
     "output_type": "execute_result"
    },
    {
     "data": {
      "image/png": "[encoded data removed]",
      "text/plain": [
       "<Figure size 432x288 with 1 Axes>"
      ]
     },
     "metadata": {
      "needs_background": "light"
     },
     "output_type": "display_data"
    }
   ],
   "source": [
    "#Cuantos niveles hay en toda la base de datos\n",
    "sns.countplot(odor['level'], order=['first', 'second', 'third', 'fourth', 'fifth', 'sixth', 'seventh', 'eighth'])\n",
    "odor['level'].value_counts()"
   ]
  },
  {
   "cell_type": "code",
   "execution_count": 15,
   "id": "460b26f7",
   "metadata": {},
   "outputs": [
    {
     "name": "stderr",
     "output_type": "stream",
     "text": [
      "C:\\Users\\nlupe\\miniconda3\\lib\\site-packages\\seaborn\\_decorators.py:36: FutureWarning: Pass the following variable as a keyword arg: x. From version 0.12, the only valid positional argument will be `data`, and passing other arguments without an explicit keyword will result in an error or misinterpretation.\n",
      "  warnings.warn(\n"
     ]
    },
    {
     "data": {
      "text/plain": [
       "first      5\n",
       "fifth      1\n",
       "second     1\n",
       "third      1\n",
       "sixth      1\n",
       "fourth     1\n",
       "seventh    1\n",
       "Name: level, dtype: int64"
      ]
     },
     "execution_count": 15,
     "metadata": {},
     "output_type": "execute_result"
    },
    {
     "data": {
      "image/png": "[encoded data removed]",
      "text/plain": [
       "<Figure size 432x288 with 1 Axes>"
      ]
     },
     "metadata": {
      "needs_background": "light"
     },
     "output_type": "display_data"
    }
   ],
   "source": [
    "sns.countplot(odor[odor['cid']=='16666']['level'], order=['first', 'second', 'third', 'fourth', 'fifth', 'sixth', 'seventh', 'eighth'])\n",
    "odor[odor['cid']=='16666']['level'].value_counts()"
   ]
  },
  {
   "cell_type": "markdown",
   "id": "2c580ba0",
   "metadata": {},
   "source": [
    "## Data first"
   ]
  },
  {
   "cell_type": "code",
   "execution_count": 17,
   "id": "ffed997c",
   "metadata": {},
   "outputs": [],
   "source": [
    "odor_first=odor[odor['level']=='first']"
   ]
  },
  {
   "cell_type": "code",
   "execution_count": 18,
   "id": "409f498c",
   "metadata": {
    "scrolled": true
   },
   "outputs": [
    {
     "data": {
      "text/html": [
       "<div>\n",
       "<style scoped>\n",
       "    .dataframe tbody tr th:only-of-type {\n",
       "        vertical-align: middle;\n",
       "    }\n",
       "\n",
       "    .dataframe tbody tr th {\n",
       "        vertical-align: top;\n",
       "    }\n",
       "\n",
       "    .dataframe thead th {\n",
       "        text-align: right;\n",
       "    }\n",
       "</style>\n",
       "<table border=\"1\" class=\"dataframe\">\n",
       "  <thead>\n",
       "    <tr style=\"text-align: right;\">\n",
       "      <th></th>\n",
       "      <th>name</th>\n",
       "      <th>level</th>\n",
       "      <th>cid</th>\n",
       "    </tr>\n",
       "  </thead>\n",
       "  <tbody>\n",
       "    <tr>\n",
       "      <th>0</th>\n",
       "      <td>ambergris</td>\n",
       "      <td>first</td>\n",
       "      <td>163259</td>\n",
       "    </tr>\n",
       "    <tr>\n",
       "      <th>1</th>\n",
       "      <td>ambergris</td>\n",
       "      <td>first</td>\n",
       "      <td>643723</td>\n",
       "    </tr>\n",
       "    <tr>\n",
       "      <th>2</th>\n",
       "      <td>ambergris</td>\n",
       "      <td>first</td>\n",
       "      <td>162452</td>\n",
       "    </tr>\n",
       "    <tr>\n",
       "      <th>3</th>\n",
       "      <td>alcoholic</td>\n",
       "      <td>first</td>\n",
       "      <td>887</td>\n",
       "    </tr>\n",
       "    <tr>\n",
       "      <th>4</th>\n",
       "      <td>alcoholic</td>\n",
       "      <td>first</td>\n",
       "      <td>7358</td>\n",
       "    </tr>\n",
       "  </tbody>\n",
       "</table>\n",
       "</div>"
      ],
      "text/plain": [
       "        name  level     cid\n",
       "0  ambergris  first  163259\n",
       "1  ambergris  first  643723\n",
       "2  ambergris  first  162452\n",
       "3  alcoholic  first     887\n",
       "4  alcoholic  first    7358"
      ]
     },
     "execution_count": 18,
     "metadata": {},
     "output_type": "execute_result"
    }
   ],
   "source": [
    "odor_first.head()"
   ]
  },
  {
   "cell_type": "code",
   "execution_count": 19,
   "id": "49c2f49c",
   "metadata": {},
   "outputs": [
    {
     "data": {
      "text/html": [
       "<div>\n",
       "<style scoped>\n",
       "    .dataframe tbody tr th:only-of-type {\n",
       "        vertical-align: middle;\n",
       "    }\n",
       "\n",
       "    .dataframe tbody tr th {\n",
       "        vertical-align: top;\n",
       "    }\n",
       "\n",
       "    .dataframe thead th {\n",
       "        text-align: right;\n",
       "    }\n",
       "</style>\n",
       "<table border=\"1\" class=\"dataframe\">\n",
       "  <thead>\n",
       "    <tr style=\"text-align: right;\">\n",
       "      <th></th>\n",
       "      <th>name</th>\n",
       "      <th>level</th>\n",
       "      <th>cid</th>\n",
       "    </tr>\n",
       "  </thead>\n",
       "  <tbody>\n",
       "    <tr>\n",
       "      <th>count</th>\n",
       "      <td>4463</td>\n",
       "      <td>4463</td>\n",
       "      <td>4463</td>\n",
       "    </tr>\n",
       "    <tr>\n",
       "      <th>unique</th>\n",
       "      <td>329</td>\n",
       "      <td>1</td>\n",
       "      <td>3827</td>\n",
       "    </tr>\n",
       "    <tr>\n",
       "      <th>top</th>\n",
       "      <td>fruity</td>\n",
       "      <td>first</td>\n",
       "      <td>220674</td>\n",
       "    </tr>\n",
       "    <tr>\n",
       "      <th>freq</th>\n",
       "      <td>481</td>\n",
       "      <td>4463</td>\n",
       "      <td>7</td>\n",
       "    </tr>\n",
       "  </tbody>\n",
       "</table>\n",
       "</div>"
      ],
      "text/plain": [
       "          name  level     cid\n",
       "count     4463   4463    4463\n",
       "unique     329      1    3827\n",
       "top     fruity  first  220674\n",
       "freq       481   4463       7"
      ]
     },
     "execution_count": 19,
     "metadata": {},
     "output_type": "execute_result"
    }
   ],
   "source": [
    "odor_first.describe()"
   ]
  },
  {
   "cell_type": "code",
   "execution_count": 37,
   "id": "c7b314fd",
   "metadata": {
    "scrolled": true
   },
   "outputs": [
    {
     "data": {
      "text/plain": [
       "fruity       481\n",
       "green        392\n",
       "floral       318\n",
       "sulfurous    189\n",
       "woody        182\n",
       "herbal       140\n",
       "spicy        135\n",
       "fatty        117\n",
       "Name: name, dtype: int64"
      ]
     },
     "execution_count": 37,
     "metadata": {},
     "output_type": "execute_result"
    }
   ],
   "source": [
    "odor_type=odor_first['name'].value_counts()\n",
    "odor_type[odor_type>100]"
   ]
  }
 ],
 "metadata": {
  "kernelspec": {
   "display_name": "Python 3 (ipykernel)",
   "language": "python",
   "name": "python3"
  },
  "language_info": {
   "codemirror_mode": {
    "name": "ipython",
    "version": 3
   },
   "file_extension": ".py",
   "mimetype": "text/x-python",
   "name": "python",
   "nbconvert_exporter": "python",
   "pygments_lexer": "ipython3",
   "version": "3.9.5"
  }
 },
 "nbformat": 4,
 "nbformat_minor": 5
}
